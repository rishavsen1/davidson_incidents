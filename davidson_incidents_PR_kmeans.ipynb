{
  "cells": [
    {
      "cell_type": "code",
      "execution_count": 1,
      "id": "ad4dd12b",
      "metadata": {
        "id": "ad4dd12b"
      },
      "outputs": [],
      "source": [
        "import geopandas as gpd\n",
        "import matplotlib.pyplot as plt\n",
        "import pandas as pd\n",
        "import numpy as np\n",
        "from shapely.geometry import Polygon"
      ]
    },
    {
      "cell_type": "code",
      "execution_count": 2,
      "id": "2ed643f7",
      "metadata": {
        "id": "2ed643f7"
      },
      "outputs": [],
      "source": [
        "#to convert a geographic point into a circular buffer with radius in meters.\n",
        "\n",
        "from shapely.geometry import Point\n",
        "from functools import partial\n",
        "from shapely.ops import transform\n",
        "import pyproj\n",
        "\n",
        "# def buffer_in_meters(lng, lat, radius):\n",
        "def buffer_in_meters(pt_latlng, radius):\n",
        "    proj_meters = pyproj.Proj(init='epsg:3857')\n",
        "    proj_latlng = pyproj.Proj(init='epsg:4326')\n",
        "    \n",
        "    project_to_meters = partial(pyproj.transform, proj_latlng, proj_meters)\n",
        "    project_to_latlng = partial(pyproj.transform, proj_meters, proj_latlng)\n",
        "    \n",
        "#     pt_latlng = Point(lng, lat)\n",
        "    pt_meters = transform(project_to_meters, pt_latlng)\n",
        "    \n",
        "    buffer_meters = pt_meters.buffer(radius)\n",
        "    buffer_latlng = transform(project_to_latlng, buffer_meters)\n",
        "    return buffer_latlng"
      ]
    },
    {
      "cell_type": "code",
      "execution_count": 3,
      "id": "a5981d97",
      "metadata": {
        "id": "a5981d97"
      },
      "outputs": [],
      "source": [
        "gdf_county = gpd.read_file(\"county.zip\")"
      ]
    },
    {
      "cell_type": "code",
      "execution_count": 4,
      "id": "1b2d2009",
      "metadata": {
        "colab": {
          "base_uri": "https://localhost:8080/",
          "height": 159
        },
        "id": "1b2d2009",
        "outputId": "d1147f6a-4e2d-4a3c-bdcf-db53a3a5893a"
      },
      "outputs": [
        {
          "output_type": "execute_result",
          "data": {
            "text/plain": [
              "<AxesSubplot:>"
            ]
          },
          "metadata": {},
          "execution_count": 4
        },
        {
          "output_type": "display_data",
          "data": {
            "text/plain": [
              "<Figure size 432x288 with 1 Axes>"
            ],
            "image/png": "[encoded data removed]"
          },
          "metadata": {
            "needs_background": "light"
          }
        }
      ],
      "source": [
        "gdf_county.plot()"
      ]
    },
    {
      "cell_type": "code",
      "execution_count": 5,
      "id": "66a7b4b7",
      "metadata": {
        "id": "66a7b4b7"
      },
      "outputs": [],
      "source": [
        "gdf_dav = gdf_county[gdf_county[\"COUNTY\"] == \"Davidson\"]"
      ]
    },
    {
      "cell_type": "code",
      "execution_count": 6,
      "id": "a880e77e",
      "metadata": {
        "colab": {
          "base_uri": "https://localhost:8080/",
          "height": 112
        },
        "id": "a880e77e",
        "outputId": "452e0596-3753-41ba-c7ca-8ea6be12ceef"
      },
      "outputs": [
        {
          "output_type": "execute_result",
          "data": {
            "text/plain": [
              "        AREA  PERIMETER  TNCODD_  TNCODD_ID  INDEX_NO    COUNTY STATE  \\\n",
              "30  0.136355   2.063989       32         30        63  Davidson    TN   \n",
              "49  0.000005   0.010867       51         99        63  Davidson    TN   \n",
              "\n",
              "                                             geometry  \n",
              "30  POLYGON ((1725320.674 734952.517, 1725410.826 ...  \n",
              "49  POLYGON ((1814456.873 657102.349, 1813945.726 ...  "
            ],
            "text/html": [
              "<div>\n",
              "<style scoped>\n",
              "    .dataframe tbody tr th:only-of-type {\n",
              "        vertical-align: middle;\n",
              "    }\n",
              "\n",
              "    .dataframe tbody tr th {\n",
              "        vertical-align: top;\n",
              "    }\n",
              "\n",
              "    .dataframe thead th {\n",
              "        text-align: right;\n",
              "    }\n",
              "</style>\n",
              "<table border=\"1\" class=\"dataframe\">\n",
              "  <thead>\n",
              "    <tr style=\"text-align: right;\">\n",
              "      <th></th>\n",
              "      <th>AREA</th>\n",
              "      <th>PERIMETER</th>\n",
              "      <th>TNCODD_</th>\n",
              "      <th>TNCODD_ID</th>\n",
              "      <th>INDEX_NO</th>\n",
              "      <th>COUNTY</th>\n",
              "      <th>STATE</th>\n",
              "      <th>geometry</th>\n",
              "    </tr>\n",
              "  </thead>\n",
              "  <tbody>\n",
              "    <tr>\n",
              "      <th>30</th>\n",
              "      <td>0.136355</td>\n",
              "      <td>2.063989</td>\n",
              "      <td>32</td>\n",
              "      <td>30</td>\n",
              "      <td>63</td>\n",
              "      <td>Davidson</td>\n",
              "      <td>TN</td>\n",
              "      <td>POLYGON ((1725320.674 734952.517, 1725410.826 ...</td>\n",
              "    </tr>\n",
              "    <tr>\n",
              "      <th>49</th>\n",
              "      <td>0.000005</td>\n",
              "      <td>0.010867</td>\n",
              "      <td>51</td>\n",
              "      <td>99</td>\n",
              "      <td>63</td>\n",
              "      <td>Davidson</td>\n",
              "      <td>TN</td>\n",
              "      <td>POLYGON ((1814456.873 657102.349, 1813945.726 ...</td>\n",
              "    </tr>\n",
              "  </tbody>\n",
              "</table>\n",
              "</div>"
            ]
          },
          "metadata": {},
          "execution_count": 6
        }
      ],
      "source": [
        "gdf_dav.head()"
      ]
    },
    {
      "cell_type": "code",
      "execution_count": 7,
      "id": "360924a0",
      "metadata": {
        "colab": {
          "base_uri": "https://localhost:8080/"
        },
        "id": "360924a0",
        "outputId": "2d8aae66-36c4-4f4a-a89f-f29cd3200a65"
      },
      "outputs": [
        {
          "output_type": "execute_result",
          "data": {
            "text/plain": [
              "<Geographic 2D CRS: EPSG:4326>\n",
              "Name: WGS 84\n",
              "Axis Info [ellipsoidal]:\n",
              "- Lat[north]: Geodetic latitude (degree)\n",
              "- Lon[east]: Geodetic longitude (degree)\n",
              "Area of Use:\n",
              "- name: World.\n",
              "- bounds: (-180.0, -90.0, 180.0, 90.0)\n",
              "Datum: World Geodetic System 1984 ensemble\n",
              "- Ellipsoid: WGS 84\n",
              "- Prime Meridian: Greenwich"
            ]
          },
          "metadata": {},
          "execution_count": 7
        }
      ],
      "source": [
        "gdf_david = gdf_dav.to_crs(\"EPSG:4326\")\n",
        "gdf_david.crs"
      ]
    },
    {
      "cell_type": "code",
      "execution_count": 8,
      "id": "f5999cd8",
      "metadata": {
        "colab": {
          "base_uri": "https://localhost:8080/"
        },
        "id": "f5999cd8",
        "outputId": "672b286a-eb16-4c06-cfa3-2b974dc1b666"
      },
      "outputs": [
        {
          "output_type": "execute_result",
          "data": {
            "text/plain": [
              "array([1656664.95403244,  595562.71399883, 1816136.87059501,\n",
              "        755249.86127501])"
            ]
          },
          "metadata": {},
          "execution_count": 8
        }
      ],
      "source": [
        "xmin, ymin, xmax, ymax = gdf_dav.total_bounds\n",
        "gdf_dav.total_bounds"
      ]
    },
    {
      "cell_type": "code",
      "execution_count": 9,
      "id": "fbee9297",
      "metadata": {
        "colab": {
          "base_uri": "https://localhost:8080/"
        },
        "id": "fbee9297",
        "outputId": "4d30c5e5-4e1d-44f2-b662-ba7b17073079"
      },
      "outputs": [
        {
          "output_type": "stream",
          "name": "stdout",
          "text": [
            "32\n",
            "32\n"
          ]
        }
      ],
      "source": [
        "length = 5280\n",
        "wide = 5280\n",
        "\n",
        "cols = list(np.arange(xmin, xmax + wide, wide))\n",
        "print(len(cols))\n",
        "rows = list(np.arange(ymin, ymax + length, length))\n",
        "print(len(cols))\n",
        "\n",
        "polygons = []\n",
        "for x in cols[:-1]:\n",
        "    for y in rows[:-1]:\n",
        "        polygons.append(Polygon([(x,y), (x+wide, y), (x+wide, y+length), (x, y+length)]))\n",
        "\n",
        "grid = gpd.GeoDataFrame({'geometry':polygons})\n",
        "grid.to_file(\"grid.shp\")\n",
        "# grid.plot()"
      ]
    },
    {
      "cell_type": "code",
      "execution_count": 10,
      "id": "fcc2e530",
      "metadata": {
        "colab": {
          "base_uri": "https://localhost:8080/",
          "height": 295
        },
        "id": "fcc2e530",
        "outputId": "240c776a-abfe-40d3-f7c5-24cbd1d52c18"
      },
      "outputs": [
        {
          "output_type": "execute_result",
          "data": {
            "text/plain": [
              "<AxesSubplot:>"
            ]
          },
          "metadata": {},
          "execution_count": 10
        },
        {
          "output_type": "display_data",
          "data": {
            "text/plain": [
              "<Figure size 432x288 with 1 Axes>"
            ],
            "image/png": "[encoded data removed]"
          },
          "metadata": {
            "needs_background": "light"
          }
        }
      ],
      "source": [
        "grid.plot(ax = gdf_dav.plot(color='blue'), color='none', edgecolor='red')"
      ]
    },
    {
      "cell_type": "code",
      "execution_count": 11,
      "id": "9eb357d4",
      "metadata": {
        "colab": {
          "base_uri": "https://localhost:8080/",
          "height": 400
        },
        "id": "9eb357d4",
        "outputId": "ab9fa448-ac3b-49b1-c071-1edd1a008ac2"
      },
      "outputs": [
        {
          "output_type": "execute_result",
          "data": {
            "text/plain": [
              "                          ID_Original   latitude  longitude emdCardNumber  \\\n",
              "0  ObjectId(59d3a81908f47311c891f8e2)  36.037228 -86.783243          29B5   \n",
              "1  ObjectId(59d3a81908f47311c891f8e6)  36.037414 -86.786572         29D2P   \n",
              "2  ObjectId(59d3a81a08f47311c891f8ef)  36.217663 -86.808699         29D1H   \n",
              "3  ObjectId(59d3a81a08f47311c891f8f9)  36.057790 -86.739728         29D8V   \n",
              "4  ObjectId(59d3a81a08f47311c891f904)  36.039221 -86.602785         29A2V   \n",
              "\n",
              "        time_utc fireZone           time     time_local  response_time_sec  \\\n",
              "0  1483257569507       10  1483257569507  1483235969507              268.0   \n",
              "1  1483259455000       10  1483259455000  1483237855000              512.0   \n",
              "2  1483263310000       25  1483263310000  1483241710000              271.0   \n",
              "3  1483266571867       10  1483266571867  1483244971867              366.0   \n",
              "4  1483268953000       33  1483268953000  1483247353000              447.0   \n",
              "\n",
              "   year  month  day  day_of_week  weekend_or_not  hour  window  \\\n",
              "0  2017      1    1            6               1     1      23   \n",
              "1  2017      1    1            6               1     2      30   \n",
              "2  2017      1    1            6               1     3      43   \n",
              "3  2017      1    1            6               1     4      53   \n",
              "4  2017      1    1            6               1     5      61   \n",
              "\n",
              "                     geometry  Incident_ID  Dist_to_Seg       XDSegID  \n",
              "0  POINT (-86.78324 36.03723)           10    13.550370  1.524394e+09  \n",
              "1  POINT (-86.78657 36.03741)           11     3.663952  1.524356e+09  \n",
              "2  POINT (-86.80870 36.21766)           12          NaN           NaN  \n",
              "3  POINT (-86.73973 36.05779)           13          NaN           NaN  \n",
              "4  POINT (-86.60279 36.03922)           14     3.171782  4.496208e+08  "
            ],
            "text/html": [
              "<div>\n",
              "<style scoped>\n",
              "    .dataframe tbody tr th:only-of-type {\n",
              "        vertical-align: middle;\n",
              "    }\n",
              "\n",
              "    .dataframe tbody tr th {\n",
              "        vertical-align: top;\n",
              "    }\n",
              "\n",
              "    .dataframe thead th {\n",
              "        text-align: right;\n",
              "    }\n",
              "</style>\n",
              "<table border=\"1\" class=\"dataframe\">\n",
              "  <thead>\n",
              "    <tr style=\"text-align: right;\">\n",
              "      <th></th>\n",
              "      <th>ID_Original</th>\n",
              "      <th>latitude</th>\n",
              "      <th>longitude</th>\n",
              "      <th>emdCardNumber</th>\n",
              "      <th>time_utc</th>\n",
              "      <th>fireZone</th>\n",
              "      <th>time</th>\n",
              "      <th>time_local</th>\n",
              "      <th>response_time_sec</th>\n",
              "      <th>year</th>\n",
              "      <th>month</th>\n",
              "      <th>day</th>\n",
              "      <th>day_of_week</th>\n",
              "      <th>weekend_or_not</th>\n",
              "      <th>hour</th>\n",
              "      <th>window</th>\n",
              "      <th>geometry</th>\n",
              "      <th>Incident_ID</th>\n",
              "      <th>Dist_to_Seg</th>\n",
              "      <th>XDSegID</th>\n",
              "    </tr>\n",
              "  </thead>\n",
              "  <tbody>\n",
              "    <tr>\n",
              "      <th>0</th>\n",
              "      <td>ObjectId(59d3a81908f47311c891f8e2)</td>\n",
              "      <td>36.037228</td>\n",
              "      <td>-86.783243</td>\n",
              "      <td>29B5</td>\n",
              "      <td>1483257569507</td>\n",
              "      <td>10</td>\n",
              "      <td>1483257569507</td>\n",
              "      <td>1483235969507</td>\n",
              "      <td>268.0</td>\n",
              "      <td>2017</td>\n",
              "      <td>1</td>\n",
              "      <td>1</td>\n",
              "      <td>6</td>\n",
              "      <td>1</td>\n",
              "      <td>1</td>\n",
              "      <td>23</td>\n",
              "      <td>POINT (-86.78324 36.03723)</td>\n",
              "      <td>10</td>\n",
              "      <td>13.550370</td>\n",
              "      <td>1.524394e+09</td>\n",
              "    </tr>\n",
              "    <tr>\n",
              "      <th>1</th>\n",
              "      <td>ObjectId(59d3a81908f47311c891f8e6)</td>\n",
              "      <td>36.037414</td>\n",
              "      <td>-86.786572</td>\n",
              "      <td>29D2P</td>\n",
              "      <td>1483259455000</td>\n",
              "      <td>10</td>\n",
              "      <td>1483259455000</td>\n",
              "      <td>1483237855000</td>\n",
              "      <td>512.0</td>\n",
              "      <td>2017</td>\n",
              "      <td>1</td>\n",
              "      <td>1</td>\n",
              "      <td>6</td>\n",
              "      <td>1</td>\n",
              "      <td>2</td>\n",
              "      <td>30</td>\n",
              "      <td>POINT (-86.78657 36.03741)</td>\n",
              "      <td>11</td>\n",
              "      <td>3.663952</td>\n",
              "      <td>1.524356e+09</td>\n",
              "    </tr>\n",
              "    <tr>\n",
              "      <th>2</th>\n",
              "      <td>ObjectId(59d3a81a08f47311c891f8ef)</td>\n",
              "      <td>36.217663</td>\n",
              "      <td>-86.808699</td>\n",
              "      <td>29D1H</td>\n",
              "      <td>1483263310000</td>\n",
              "      <td>25</td>\n",
              "      <td>1483263310000</td>\n",
              "      <td>1483241710000</td>\n",
              "      <td>271.0</td>\n",
              "      <td>2017</td>\n",
              "      <td>1</td>\n",
              "      <td>1</td>\n",
              "      <td>6</td>\n",
              "      <td>1</td>\n",
              "      <td>3</td>\n",
              "      <td>43</td>\n",
              "      <td>POINT (-86.80870 36.21766)</td>\n",
              "      <td>12</td>\n",
              "      <td>NaN</td>\n",
              "      <td>NaN</td>\n",
              "    </tr>\n",
              "    <tr>\n",
              "      <th>3</th>\n",
              "      <td>ObjectId(59d3a81a08f47311c891f8f9)</td>\n",
              "      <td>36.057790</td>\n",
              "      <td>-86.739728</td>\n",
              "      <td>29D8V</td>\n",
              "      <td>1483266571867</td>\n",
              "      <td>10</td>\n",
              "      <td>1483266571867</td>\n",
              "      <td>1483244971867</td>\n",
              "      <td>366.0</td>\n",
              "      <td>2017</td>\n",
              "      <td>1</td>\n",
              "      <td>1</td>\n",
              "      <td>6</td>\n",
              "      <td>1</td>\n",
              "      <td>4</td>\n",
              "      <td>53</td>\n",
              "      <td>POINT (-86.73973 36.05779)</td>\n",
              "      <td>13</td>\n",
              "      <td>NaN</td>\n",
              "      <td>NaN</td>\n",
              "    </tr>\n",
              "    <tr>\n",
              "      <th>4</th>\n",
              "      <td>ObjectId(59d3a81a08f47311c891f904)</td>\n",
              "      <td>36.039221</td>\n",
              "      <td>-86.602785</td>\n",
              "      <td>29A2V</td>\n",
              "      <td>1483268953000</td>\n",
              "      <td>33</td>\n",
              "      <td>1483268953000</td>\n",
              "      <td>1483247353000</td>\n",
              "      <td>447.0</td>\n",
              "      <td>2017</td>\n",
              "      <td>1</td>\n",
              "      <td>1</td>\n",
              "      <td>6</td>\n",
              "      <td>1</td>\n",
              "      <td>5</td>\n",
              "      <td>61</td>\n",
              "      <td>POINT (-86.60279 36.03922)</td>\n",
              "      <td>14</td>\n",
              "      <td>3.171782</td>\n",
              "      <td>4.496208e+08</td>\n",
              "    </tr>\n",
              "  </tbody>\n",
              "</table>\n",
              "</div>"
            ]
          },
          "metadata": {},
          "execution_count": 11
        }
      ],
      "source": [
        "df_incidents = pd.read_json(\"incident.json\")\n",
        "gdf_incidents2 = gpd.GeoDataFrame(\n",
        "    df_incidents, geometry=gpd.points_from_xy(df_incidents.longitude, df_incidents.latitude))\n",
        "incidents = gdf_incidents2.set_crs(\"EPSG:4326\")\n",
        "incidents.head()"
      ]
    },
    {
      "cell_type": "code",
      "execution_count": 12,
      "id": "cfb4d60f",
      "metadata": {
        "id": "cfb4d60f"
      },
      "outputs": [],
      "source": [
        "# dav_grids = gpd.overlay(gdf_dav, grid, how='intersection')\n",
        "# dav_grids.plot()"
      ]
    },
    {
      "cell_type": "code",
      "execution_count": 13,
      "id": "72272772",
      "metadata": {
        "colab": {
          "base_uri": "https://localhost:8080/"
        },
        "id": "72272772",
        "outputId": "5ba780b4-f1aa-4022-9a5f-c2a12c4d3678"
      },
      "outputs": [
        {
          "output_type": "execute_result",
          "data": {
            "text/plain": [
              "<Projected CRS: EPSG:2274>\n",
              "Name: NAD83 / Tennessee (ftUS)\n",
              "Axis Info [cartesian]:\n",
              "- X[east]: Easting (US survey foot)\n",
              "- Y[north]: Northing (US survey foot)\n",
              "Area of Use:\n",
              "- name: United States (USA) - Tennessee - counties of Anderson; Bedford; Benton; Bledsoe; Blount; Bradley; Campbell; Cannon; Carroll; Carter; Cheatham; Chester; Claiborne; Clay; Cocke; Coffee; Crockett; Cumberland; Davidson; De Kalb; Decatur; Dickson; Dyer; Fayette; Fentress; Franklin; Gibson; Giles; Grainger; Greene; Grundy; Hamblen; Hamilton; Hancock; Hardeman; Hardin; Hawkins; Haywood; Henderson; Henry; Hickman; Houston; Humphreys; Jackson; Jefferson; Johnson; Knox; Lake; Lauderdale; Lawrence; Lewis; Lincoln; Loudon; Macon; Madison; Marion; Marshall; Maury; McMinn; McNairy; Meigs; Monroe; Montgomery; Moore; Morgan; Obion; Overton; Perry; Pickett; Polk; Putnam; Rhea; Roane; Robertson; Rutherford; Scott; Sequatchie; Sevier; Shelby; Smith; Stewart; Sullivan; Sumner; Tipton; Trousdale; Unicoi; Union; Van Buren; Warren; Washington; Wayne; Weakley; White; Williamson; Wilson.\n",
              "- bounds: (-90.31, 34.98, -81.65, 36.68)\n",
              "Coordinate Operation:\n",
              "- name: SPCS83 Tennessee zone (US Survey feet)\n",
              "- method: Lambert Conic Conformal (2SP)\n",
              "Datum: North American Datum 1983\n",
              "- Ellipsoid: GRS 1980\n",
              "- Prime Meridian: Greenwich"
            ]
          },
          "metadata": {},
          "execution_count": 13
        }
      ],
      "source": [
        "grids = grid.set_crs(\"EPSG:2274\")\n",
        "grids.crs"
      ]
    },
    {
      "cell_type": "code",
      "execution_count": 14,
      "id": "3099fae5",
      "metadata": {
        "id": "3099fae5"
      },
      "outputs": [],
      "source": [
        "dav_grids = gpd.overlay(gdf_dav, grids, how='intersection')\n",
        "# dav_grids.plot(figsize=(10, 10))\n",
        "# plt.show()\n",
        "# dav_grids.shape"
      ]
    },
    {
      "cell_type": "code",
      "execution_count": 15,
      "id": "86021f07",
      "metadata": {
        "id": "86021f07"
      },
      "outputs": [],
      "source": [
        "dav_grids['grid_num'] = np.arange(len(dav_grids))"
      ]
    },
    {
      "cell_type": "code",
      "execution_count": 16,
      "id": "856fe5c7",
      "metadata": {
        "id": "856fe5c7"
      },
      "outputs": [],
      "source": [
        "dav_grids2 = dav_grids.to_crs(\"EPSG:4326\")"
      ]
    },
    {
      "cell_type": "code",
      "execution_count": 17,
      "id": "c021d611",
      "metadata": {
        "colab": {
          "base_uri": "https://localhost:8080/",
          "height": 424
        },
        "id": "c021d611",
        "outputId": "ec68551e-aae8-40ae-b39f-01db14c728f9"
      },
      "outputs": [
        {
          "output_type": "execute_result",
          "data": {
            "text/plain": [
              "         AREA  PERIMETER  TNCODD_  TNCODD_ID  INDEX_NO    COUNTY STATE  \\\n",
              "0    0.136355   2.063989       32         30        63  Davidson    TN   \n",
              "1    0.136355   2.063989       32         30        63  Davidson    TN   \n",
              "2    0.136355   2.063989       32         30        63  Davidson    TN   \n",
              "3    0.136355   2.063989       32         30        63  Davidson    TN   \n",
              "4    0.136355   2.063989       32         30        63  Davidson    TN   \n",
              "..        ...        ...      ...        ...       ...       ...   ...   \n",
              "599  0.136355   2.063989       32         30        63  Davidson    TN   \n",
              "600  0.000005   0.010867       51         99        63  Davidson    TN   \n",
              "601  0.136355   2.063989       32         30        63  Davidson    TN   \n",
              "602  0.136355   2.063989       32         30        63  Davidson    TN   \n",
              "603  0.136355   2.063989       32         30        63  Davidson    TN   \n",
              "\n",
              "                                              geometry  grid_num  \n",
              "0    POLYGON ((-87.03922 35.98939, -87.04042 35.993...         0  \n",
              "1    POLYGON ((-87.04103 35.99633, -87.04244 36.001...         1  \n",
              "2    POLYGON ((-87.04592 36.01500, -87.04780 36.022...         2  \n",
              "3    POLYGON ((-87.04958 36.02909, -87.05145 36.036...         3  \n",
              "4    POLYGON ((-87.05207 36.03851, -87.05333 36.043...         4  \n",
              "..                                                 ...       ...  \n",
              "599  POLYGON ((-86.53578 36.13838, -86.53350 36.137...       599  \n",
              "600  POLYGON ((-86.52341 36.13752, -86.52274 36.140...       600  \n",
              "601  POLYGON ((-86.51764 36.08397, -86.51927 36.084...       601  \n",
              "602  POLYGON ((-86.51678 36.09155, -86.51759 36.084...       602  \n",
              "603  POLYGON ((-86.51826 36.10265, -86.51601 36.100...       603  \n",
              "\n",
              "[604 rows x 9 columns]"
            ],
            "text/html": [
              "<div>\n",
              "<style scoped>\n",
              "    .dataframe tbody tr th:only-of-type {\n",
              "        vertical-align: middle;\n",
              "    }\n",
              "\n",
              "    .dataframe tbody tr th {\n",
              "        vertical-align: top;\n",
              "    }\n",
              "\n",
              "    .dataframe thead th {\n",
              "        text-align: right;\n",
              "    }\n",
              "</style>\n",
              "<table border=\"1\" class=\"dataframe\">\n",
              "  <thead>\n",
              "    <tr style=\"text-align: right;\">\n",
              "      <th></th>\n",
              "      <th>AREA</th>\n",
              "      <th>PERIMETER</th>\n",
              "      <th>TNCODD_</th>\n",
              "      <th>TNCODD_ID</th>\n",
              "      <th>INDEX_NO</th>\n",
              "      <th>COUNTY</th>\n",
              "      <th>STATE</th>\n",
              "      <th>geometry</th>\n",
              "      <th>grid_num</th>\n",
              "    </tr>\n",
              "  </thead>\n",
              "  <tbody>\n",
              "    <tr>\n",
              "      <th>0</th>\n",
              "      <td>0.136355</td>\n",
              "      <td>2.063989</td>\n",
              "      <td>32</td>\n",
              "      <td>30</td>\n",
              "      <td>63</td>\n",
              "      <td>Davidson</td>\n",
              "      <td>TN</td>\n",
              "      <td>POLYGON ((-87.03922 35.98939, -87.04042 35.993...</td>\n",
              "      <td>0</td>\n",
              "    </tr>\n",
              "    <tr>\n",
              "      <th>1</th>\n",
              "      <td>0.136355</td>\n",
              "      <td>2.063989</td>\n",
              "      <td>32</td>\n",
              "      <td>30</td>\n",
              "      <td>63</td>\n",
              "      <td>Davidson</td>\n",
              "      <td>TN</td>\n",
              "      <td>POLYGON ((-87.04103 35.99633, -87.04244 36.001...</td>\n",
              "      <td>1</td>\n",
              "    </tr>\n",
              "    <tr>\n",
              "      <th>2</th>\n",
              "      <td>0.136355</td>\n",
              "      <td>2.063989</td>\n",
              "      <td>32</td>\n",
              "      <td>30</td>\n",
              "      <td>63</td>\n",
              "      <td>Davidson</td>\n",
              "      <td>TN</td>\n",
              "      <td>POLYGON ((-87.04592 36.01500, -87.04780 36.022...</td>\n",
              "      <td>2</td>\n",
              "    </tr>\n",
              "    <tr>\n",
              "      <th>3</th>\n",
              "      <td>0.136355</td>\n",
              "      <td>2.063989</td>\n",
              "      <td>32</td>\n",
              "      <td>30</td>\n",
              "      <td>63</td>\n",
              "      <td>Davidson</td>\n",
              "      <td>TN</td>\n",
              "      <td>POLYGON ((-87.04958 36.02909, -87.05145 36.036...</td>\n",
              "      <td>3</td>\n",
              "    </tr>\n",
              "    <tr>\n",
              "      <th>4</th>\n",
              "      <td>0.136355</td>\n",
              "      <td>2.063989</td>\n",
              "      <td>32</td>\n",
              "      <td>30</td>\n",
              "      <td>63</td>\n",
              "      <td>Davidson</td>\n",
              "      <td>TN</td>\n",
              "      <td>POLYGON ((-87.05207 36.03851, -87.05333 36.043...</td>\n",
              "      <td>4</td>\n",
              "    </tr>\n",
              "    <tr>\n",
              "      <th>...</th>\n",
              "      <td>...</td>\n",
              "      <td>...</td>\n",
              "      <td>...</td>\n",
              "      <td>...</td>\n",
              "      <td>...</td>\n",
              "      <td>...</td>\n",
              "      <td>...</td>\n",
              "      <td>...</td>\n",
              "      <td>...</td>\n",
              "    </tr>\n",
              "    <tr>\n",
              "      <th>599</th>\n",
              "      <td>0.136355</td>\n",
              "      <td>2.063989</td>\n",
              "      <td>32</td>\n",
              "      <td>30</td>\n",
              "      <td>63</td>\n",
              "      <td>Davidson</td>\n",
              "      <td>TN</td>\n",
              "      <td>POLYGON ((-86.53578 36.13838, -86.53350 36.137...</td>\n",
              "      <td>599</td>\n",
              "    </tr>\n",
              "    <tr>\n",
              "      <th>600</th>\n",
              "      <td>0.000005</td>\n",
              "      <td>0.010867</td>\n",
              "      <td>51</td>\n",
              "      <td>99</td>\n",
              "      <td>63</td>\n",
              "      <td>Davidson</td>\n",
              "      <td>TN</td>\n",
              "      <td>POLYGON ((-86.52341 36.13752, -86.52274 36.140...</td>\n",
              "      <td>600</td>\n",
              "    </tr>\n",
              "    <tr>\n",
              "      <th>601</th>\n",
              "      <td>0.136355</td>\n",
              "      <td>2.063989</td>\n",
              "      <td>32</td>\n",
              "      <td>30</td>\n",
              "      <td>63</td>\n",
              "      <td>Davidson</td>\n",
              "      <td>TN</td>\n",
              "      <td>POLYGON ((-86.51764 36.08397, -86.51927 36.084...</td>\n",
              "      <td>601</td>\n",
              "    </tr>\n",
              "    <tr>\n",
              "      <th>602</th>\n",
              "      <td>0.136355</td>\n",
              "      <td>2.063989</td>\n",
              "      <td>32</td>\n",
              "      <td>30</td>\n",
              "      <td>63</td>\n",
              "      <td>Davidson</td>\n",
              "      <td>TN</td>\n",
              "      <td>POLYGON ((-86.51678 36.09155, -86.51759 36.084...</td>\n",
              "      <td>602</td>\n",
              "    </tr>\n",
              "    <tr>\n",
              "      <th>603</th>\n",
              "      <td>0.136355</td>\n",
              "      <td>2.063989</td>\n",
              "      <td>32</td>\n",
              "      <td>30</td>\n",
              "      <td>63</td>\n",
              "      <td>Davidson</td>\n",
              "      <td>TN</td>\n",
              "      <td>POLYGON ((-86.51826 36.10265, -86.51601 36.100...</td>\n",
              "      <td>603</td>\n",
              "    </tr>\n",
              "  </tbody>\n",
              "</table>\n",
              "<p>604 rows × 9 columns</p>\n",
              "</div>"
            ]
          },
          "metadata": {},
          "execution_count": 17
        }
      ],
      "source": [
        "dav_grids2"
      ]
    },
    {
      "cell_type": "code",
      "execution_count": 17,
      "id": "2eea1a14",
      "metadata": {
        "id": "2eea1a14"
      },
      "outputs": [],
      "source": [
        ""
      ]
    },
    {
      "cell_type": "code",
      "execution_count": 18,
      "id": "cabf84ef",
      "metadata": {
        "id": "cabf84ef"
      },
      "outputs": [],
      "source": [
        "joined2 = incidents.sjoin(dav_grids2, how=\"right\")\n",
        "# joined2[joined2[\"grid_num\"]==299]"
      ]
    },
    {
      "cell_type": "code",
      "execution_count": 19,
      "id": "cd537fbf",
      "metadata": {
        "colab": {
          "base_uri": "https://localhost:8080/"
        },
        "id": "cd537fbf",
        "outputId": "f7532f0b-6f34-4f30-e80a-9bf3038cbe62"
      },
      "outputs": [
        {
          "output_type": "execute_result",
          "data": {
            "text/plain": [
              "(29745, 29)"
            ]
          },
          "metadata": {},
          "execution_count": 19
        }
      ],
      "source": [
        "# joined2['row_num'] = np.arange(len(joined2))\n",
        "joined2['grid_num'].nunique()\n",
        "joined2.shape"
      ]
    },
    {
      "cell_type": "code",
      "execution_count": 20,
      "id": "0c1a5173",
      "metadata": {
        "colab": {
          "base_uri": "https://localhost:8080/"
        },
        "id": "0c1a5173",
        "outputId": "76c1567e-2d6b-49c1-bfa3-1d5eecb70959"
      },
      "outputs": [
        {
          "output_type": "execute_result",
          "data": {
            "text/plain": [
              "125"
            ]
          },
          "metadata": {},
          "execution_count": 20
        }
      ],
      "source": [
        "joined2.isnull().sum(axis=1)\n",
        "joined2['index_left'].isna().sum()"
      ]
    },
    {
      "cell_type": "code",
      "execution_count": 21,
      "id": "2dcd2347",
      "metadata": {
        "colab": {
          "base_uri": "https://localhost:8080/"
        },
        "id": "2dcd2347",
        "outputId": "315b185b-17a0-49e6-d75a-711c639f33db"
      },
      "outputs": [
        {
          "output_type": "stream",
          "name": "stdout",
          "text": [
            "dt_object = 2021-02-27 13:01:27.997000\n"
          ]
        }
      ],
      "source": [
        "from datetime import datetime\n",
        "\n",
        "timestamp = 1614452487.997\n",
        "#1483286459.000\n",
        "# 1483250400.000\n",
        "#1483247353.000\n",
        "#1483241710.000\n",
        "#1483237855.000\n",
        "#1483235969.507\n",
        "# 1492677023.000\n",
        "dt_object = datetime.fromtimestamp(timestamp)\n",
        "\n",
        "print(\"dt_object =\", dt_object)"
      ]
    },
    {
      "cell_type": "code",
      "execution_count": 22,
      "id": "2689d764",
      "metadata": {
        "id": "2689d764"
      },
      "outputs": [],
      "source": [
        "# joined2.dropna(subset = [\"index_left\"], inplace=True)"
      ]
    },
    {
      "cell_type": "code",
      "execution_count": 23,
      "id": "e540da6d",
      "metadata": {
        "colab": {
          "base_uri": "https://localhost:8080/"
        },
        "id": "e540da6d",
        "outputId": "f7935902-eeba-4a2d-a3b0-43c055f8c59f"
      },
      "outputs": [
        {
          "output_type": "execute_result",
          "data": {
            "text/plain": [
              "299    569\n",
              "325    559\n",
              "382    544\n",
              "479    534\n",
              "274    515\n",
              "      ... \n",
              "240      1\n",
              "241      1\n",
              "242      1\n",
              "258      1\n",
              "603      1\n",
              "Name: grid_num, Length: 604, dtype: int64"
            ]
          },
          "metadata": {},
          "execution_count": 23
        }
      ],
      "source": [
        "joined2.grid_num.value_counts()"
      ]
    },
    {
      "cell_type": "code",
      "execution_count": 24,
      "id": "25a1486e",
      "metadata": {
        "id": "25a1486e"
      },
      "outputs": [],
      "source": [
        "inc_grids = pd.Series.tolist(joined2.grid_num.value_counts())\n"
      ]
    },
    {
      "cell_type": "code",
      "execution_count": 25,
      "id": "6ca6c0c7",
      "metadata": {
        "id": "6ca6c0c7"
      },
      "outputs": [],
      "source": [
        "inc_index = list(joined2.grid_num.value_counts().index)"
      ]
    },
    {
      "cell_type": "code",
      "execution_count": 26,
      "id": "6cf8b3bc",
      "metadata": {
        "id": "6cf8b3bc"
      },
      "outputs": [],
      "source": [
        "# inc_index.sort()"
      ]
    },
    {
      "cell_type": "code",
      "execution_count": 27,
      "id": "f1611b5f",
      "metadata": {
        "id": "f1611b5f"
      },
      "outputs": [],
      "source": [
        "# dax = dav_grids2.plot(figsize=(20, 20))\n",
        "# joined2[joined2.row_num == 299].plot(ax = dax, figsize=(20, 20), color='red')"
      ]
    },
    {
      "cell_type": "code",
      "execution_count": 28,
      "id": "e1ae2175",
      "metadata": {
        "id": "e1ae2175"
      },
      "outputs": [],
      "source": [
        "# dav_grids2[\"no_of_incidents\"] = 0\n",
        "# dav_grids2.head()"
      ]
    },
    {
      "cell_type": "code",
      "execution_count": 29,
      "id": "29420792",
      "metadata": {
        "colab": {
          "base_uri": "https://localhost:8080/"
        },
        "id": "29420792",
        "outputId": "234da8e8-889c-48a7-c7fb-9d2e85ce8cd7"
      },
      "outputs": [
        {
          "output_type": "stream",
          "name": "stderr",
          "text": [
            "C:\\Users\\risha\\AppData\\Local\\Programs\\Python\\Python37\\lib\\site-packages\\ipykernel_launcher.py:8: SettingWithCopyWarning: \n",
            "A value is trying to be set on a copy of a slice from a DataFrame\n",
            "\n",
            "See the caveats in the documentation: https://pandas.pydata.org/pandas-docs/stable/user_guide/indexing.html#returning-a-view-versus-a-copy\n",
            "  \n"
          ]
        }
      ],
      "source": [
        "dav_grids2[\"no_of_incidents\"] = 0\n",
        "\n",
        "for i in range(len(inc_index)):\n",
        "#     print(\"i\",i)\n",
        "    for j in range(dav_grids2.shape[0]):\n",
        "#         print(j, joined[\"row_num\"][j], inc_index[i], inc_grids[i])\n",
        "        if (dav_grids2[\"grid_num\"][j] == inc_index[i]):\n",
        "            dav_grids2[\"no_of_incidents\"][j]= inc_grids[i]\n",
        "        \n",
        "        "
      ]
    },
    {
      "cell_type": "code",
      "execution_count": 30,
      "id": "7fcc8c72",
      "metadata": {
        "colab": {
          "base_uri": "https://localhost:8080/",
          "height": 591
        },
        "id": "7fcc8c72",
        "outputId": "f39b26b6-eb37-4a48-bdaf-11688c0b6aa7"
      },
      "outputs": [
        {
          "output_type": "execute_result",
          "data": {
            "text/plain": [
              "<AxesSubplot:>"
            ]
          },
          "metadata": {},
          "execution_count": 30
        },
        {
          "output_type": "display_data",
          "data": {
            "text/plain": [
              "<Figure size 720x720 with 2 Axes>"
            ],
            "image/png": "[encoded data removed]"
          },
          "metadata": {
            "needs_background": "light"
          }
        }
      ],
      "source": [
        "dav_grids2.plot(column='no_of_incidents', legend=True, figsize=(10, 10))"
      ]
    },
    {
      "cell_type": "code",
      "execution_count": 31,
      "id": "660099db",
      "metadata": {
        "colab": {
          "base_uri": "https://localhost:8080/"
        },
        "id": "660099db",
        "outputId": "1f81b4fb-44a2-404f-c490-3f06c1fb275f"
      },
      "outputs": [
        {
          "output_type": "stream",
          "name": "stdout",
          "text": [
            "9126\n"
          ]
        }
      ],
      "source": [
        "import math\n",
        "start_time = 1483250400000 # 2017-01-01 00:00:00\n",
        "# start_time = g_dav.time_local.min()\n",
        "end_time = 1614671157253 # 2021-03-02 01:45:57.253000\n",
        "# end_time = g_dav.time_local.max()\n",
        "\n",
        "curr_time = start_time/1000\n",
        "# print(start_time/1000)\n",
        "\n",
        "incidents_per_month = [0 for i in range(int(math.ceil((end_time - start_time)/1000)/2592000))]\n",
        "incidents_per_day = [0 for i in range(int(math.ceil((end_time - start_time)/1000)/86400))]\n",
        "incidents_per_4hrs = [0 for i in range(int(math.ceil((end_time - start_time)/1000)/14400)+10)]\n",
        "print(int(math.ceil((end_time - start_time)/1000)/14400))"
      ]
    },
    {
      "cell_type": "code",
      "execution_count": 32,
      "id": "8d20f2a1",
      "metadata": {
        "colab": {
          "base_uri": "https://localhost:8080/",
          "height": 235
        },
        "id": "8d20f2a1",
        "outputId": "5e9c7618-a79d-4596-c9c2-6a95b99b80ac"
      },
      "outputs": [
        {
          "output_type": "error",
          "ename": "NameError",
          "evalue": "ignored",
          "traceback": [
            "\u001b[1;31m---------------------------------------------------------------------------\u001b[0m",
            "\u001b[1;31mNameError\u001b[0m                                 Traceback (most recent call last)",
            "\u001b[1;32m~\\AppData\\Local\\Temp/ipykernel_21324/1199184171.py\u001b[0m in \u001b[0;36m<module>\u001b[1;34m\u001b[0m\n\u001b[0;32m      1\u001b[0m \u001b[0mcounter_4hrs\u001b[0m \u001b[1;33m=\u001b[0m \u001b[1;36m0\u001b[0m\u001b[1;33m\u001b[0m\u001b[1;33m\u001b[0m\u001b[0m\n\u001b[0;32m      2\u001b[0m \u001b[1;33m\u001b[0m\u001b[0m\n\u001b[1;32m----> 3\u001b[1;33m \u001b[1;32mfor\u001b[0m \u001b[0mi\u001b[0m \u001b[1;32min\u001b[0m \u001b[0mrange\u001b[0m\u001b[1;33m(\u001b[0m\u001b[1;36m0\u001b[0m\u001b[1;33m,\u001b[0m \u001b[0mg_dav\u001b[0m\u001b[1;33m.\u001b[0m\u001b[0mshape\u001b[0m\u001b[1;33m[\u001b[0m\u001b[1;36m0\u001b[0m\u001b[1;33m]\u001b[0m\u001b[1;33m)\u001b[0m\u001b[1;33m:\u001b[0m\u001b[1;33m\u001b[0m\u001b[1;33m\u001b[0m\u001b[0m\n\u001b[0m\u001b[0;32m      4\u001b[0m     \u001b[0minc_time\u001b[0m \u001b[1;33m=\u001b[0m \u001b[1;33m(\u001b[0m\u001b[0mg_dav\u001b[0m\u001b[1;33m.\u001b[0m\u001b[0mtime_local\u001b[0m\u001b[1;33m.\u001b[0m\u001b[0miloc\u001b[0m\u001b[1;33m[\u001b[0m\u001b[0mi\u001b[0m\u001b[1;33m]\u001b[0m\u001b[1;33m)\u001b[0m\u001b[1;33m/\u001b[0m\u001b[1;36m1000\u001b[0m \u001b[1;31m#incident time #incidents.time_local\u001b[0m\u001b[1;33m\u001b[0m\u001b[1;33m\u001b[0m\u001b[0m\n\u001b[0;32m      5\u001b[0m     \u001b[1;32mwhile\u001b[0m \u001b[1;32mTrue\u001b[0m\u001b[1;33m:\u001b[0m\u001b[1;33m\u001b[0m\u001b[1;33m\u001b[0m\u001b[0m\n",
            "\u001b[1;31mNameError\u001b[0m: name 'g_dav' is not defined"
          ]
        }
      ],
      "source": [
        "counter_4hrs = 0\n",
        "\n",
        "for i in range(0, g_dav.shape[0]):\n",
        "    inc_time = (g_dav.time_local.iloc[i])/1000 #incident time #incidents.time_local\n",
        "    while True:\n",
        "        limit_time = curr_time +14400\n",
        "#         print(inc_time-limit_time, inc_time-curr_time)\n",
        "        if (inc_time < limit_time):\n",
        "            incidents_per_4hrs[counter_4hrs]+=1\n",
        "            break\n",
        "    \n",
        "        else:\n",
        "            curr_time = limit_time\n",
        "            counter_4hrs += 1\n",
        "        \n",
        "# print(counter_4hrs)\n",
        "# print(incidents_per_4hrs)\n",
        "sum(incidents_per_4hrs)\n",
        "\n",
        " "
      ]
    },
    {
      "cell_type": "code",
      "execution_count": null,
      "id": "7e197181",
      "metadata": {
        "id": "7e197181"
      },
      "outputs": [],
      "source": [
        "plt.figure(figsize=(50, 10), dpi=100)\n",
        "plt.plot(incidents_per_4hrs)"
      ]
    },
    {
      "cell_type": "code",
      "execution_count": null,
      "id": "25cc1d54",
      "metadata": {
        "id": "25cc1d54"
      },
      "outputs": [],
      "source": [
        "sum_day = incidents_per_4hrs[0]\n",
        "counter_day = 0\n",
        "for i in range(1, counter_4hrs+1): \n",
        "    if i%6 == 0:\n",
        "        incidents_per_day[counter_day] = sum_day\n",
        "        counter_day+=1\n",
        "        sum_day = 0\n",
        "    sum_day += incidents_per_4hrs[i]\n",
        "    \n",
        "# print(incidents_per_day)"
      ]
    },
    {
      "cell_type": "code",
      "execution_count": null,
      "id": "6e4879ca",
      "metadata": {
        "id": "6e4879ca"
      },
      "outputs": [],
      "source": [
        "plt.figure(figsize=(50, 10), dpi=100)\n",
        "plt.plot(incidents_per_day)"
      ]
    },
    {
      "cell_type": "code",
      "execution_count": null,
      "id": "a48f0e5c",
      "metadata": {
        "id": "a48f0e5c"
      },
      "outputs": [],
      "source": [
        "sum_month = incidents_per_day[0]\n",
        "counter_month = 0\n",
        "for i in range(1, counter_day): \n",
        "    if i%30 == 0:\n",
        "        incidents_per_month[counter_month] = sum_month\n",
        "        counter_month+=1\n",
        "        sum_month = 0\n",
        "    sum_month += incidents_per_day[i]\n",
        "# print(incidents_per_month)"
      ]
    },
    {
      "cell_type": "code",
      "execution_count": null,
      "id": "6490f215",
      "metadata": {
        "id": "6490f215"
      },
      "outputs": [],
      "source": [
        "values = pd.date_range('2017-01-01','2021-02-01', freq='MS').strftime(\"%Y-%m\").tolist()\n",
        "# print(values)\n",
        "plt.figure(figsize=(50, 10), dpi=100)\n",
        "plt.plot(incidents_per_month, marker='o')\n",
        "default_x_ticks = range(counter_month)\n",
        "# plt.xticks(default_x_ticks,values)\n",
        "plt.show()"
      ]
    },
    {
      "cell_type": "code",
      "execution_count": null,
      "id": "902a3455",
      "metadata": {
        "id": "902a3455"
      },
      "outputs": [],
      "source": [
        "g = (dav_grids2.iloc[299].geometry)\n",
        "g_dav = joined2[joined2[\"grid_num\"]==200]\n",
        "g_dav.time_local.max()/1000"
      ]
    },
    {
      "cell_type": "code",
      "execution_count": null,
      "id": "57be6f31",
      "metadata": {
        "id": "57be6f31"
      },
      "outputs": [],
      "source": [
        "g_dav[[\"day\", \"hour\"]].head(20)\n",
        "incidents.time_local.iloc[0]"
      ]
    },
    {
      "cell_type": "code",
      "execution_count": 34,
      "id": "bdb5b1df",
      "metadata": {
        "colab": {
          "base_uri": "https://localhost:8080/",
          "height": 880
        },
        "id": "bdb5b1df",
        "outputId": "5d8cb5d6-5695-4733-c37a-65bc7e2da753"
      },
      "outputs": [
        {
          "output_type": "execute_result",
          "data": {
            "text/plain": [
              "<AxesSubplot:>"
            ]
          },
          "metadata": {},
          "execution_count": 34
        },
        {
          "output_type": "display_data",
          "data": {
            "text/plain": [
              "<Figure size 1080x1080 with 1 Axes>"
            ],
            "image/png": "[encoded data removed]"
          },
          "metadata": {
            "needs_background": "light"
          }
        }
      ],
      "source": [
        "dav_grids3 = dav_grids2\n",
        "dax = dav_grids3.plot(figsize=(15, 15))\n",
        "dav_grids3[dav_grids3.grid_num == 299].plot(ax = dax, figsize=(15, 15), color='red')\n",
        "dav_grids3[dav_grids3.grid_num == 300].plot(ax = dax, figsize=(20, 20), color='green')"
      ]
    },
    {
      "cell_type": "code",
      "execution_count": 34,
      "id": "9ef927dd",
      "metadata": {
        "id": "9ef927dd"
      },
      "outputs": [],
      "source": [
        ""
      ]
    },
    {
      "cell_type": "code",
      "execution_count": 35,
      "id": "be81a870",
      "metadata": {
        "id": "be81a870"
      },
      "outputs": [],
      "source": [
        "joined3 = joined2\n",
        "joined3.dropna(subset = [\"time_local\"], inplace=True)"
      ]
    },
    {
      "cell_type": "code",
      "execution_count": 36,
      "id": "70598099",
      "metadata": {
        "colab": {
          "base_uri": "https://localhost:8080/"
        },
        "id": "70598099",
        "outputId": "146a8664-c31d-4b69-aca7-a6bddc926af9"
      },
      "outputs": [
        {
          "output_type": "stream",
          "name": "stdout",
          "text": [
            "568\n"
          ]
        }
      ],
      "source": [
        "incidents_mat = [np.arange(len(incidents_per_month))]\n",
        "\n",
        "start_time = 1483250400000 # 2017-01-01 00:00:00\n",
        "end_time = 1614671157253 # 2021-03-02 01:45:57.253000\n",
        "duration = int(math.ceil((end_time - start_time)/1000))\n",
        "for k in range(dav_grids2.grid_num.iloc[-1]+1):\n",
        "    g_dav = joined3[joined3[\"grid_num\"]==k]\n",
        "#     print(g_dav[\"grid_num\"])\n",
        "    \n",
        "    curr_time = start_time/1000\n",
        "    incidents_per_month = [0 for i in range(int(math.ceil((end_time - start_time)/1000)/2592000))]\n",
        "    incidents_per_day = [0 for i in range(int(duration/86400))]\n",
        "    incidents_per_4hrs = [0 for i in range(int(duration/14400)+10)]\n",
        "    counter_4hrs = 0\n",
        "\n",
        "    for i in range(g_dav.shape[0]):\n",
        "        inc_time = (g_dav.time_local.iloc[i])/1000 #incident time #incidents.time_local\n",
        "        while True:\n",
        "            limit_time = curr_time +14400\n",
        "    #         print(inc_time-limit_time, inc_time-curr_time)\n",
        "            if (inc_time < limit_time):\n",
        "                incidents_per_4hrs[counter_4hrs]+=1\n",
        "#                 print(\"found\")\n",
        "                break\n",
        "\n",
        "            else:\n",
        "                curr_time = limit_time\n",
        "                counter_4hrs += 1\n",
        "                \n",
        "    sum_day = incidents_per_4hrs[0]\n",
        "    counter_day = 0\n",
        "    for i in range(1, counter_4hrs+1): \n",
        "        if i%6 == 0:\n",
        "            incidents_per_day[counter_day] = sum_day\n",
        "            counter_day+=1\n",
        "            sum_day = 0\n",
        "        sum_day += incidents_per_4hrs[i]\n",
        "#     print(k)\n",
        "    if (k == 299):\n",
        "        print(sum(incidents_per_day))\n",
        "        \n",
        "    sum_month = incidents_per_day[0]\n",
        "    counter_month = 0\n",
        "    for i in range(1, counter_day): \n",
        "        if i%30 == 0:\n",
        "            incidents_per_month[counter_month] = sum_month\n",
        "            counter_month+=1\n",
        "            sum_month = 0\n",
        "        sum_month += incidents_per_day[i]\n",
        "#         print(sum_month)\n",
        "        \n",
        "    incidents_mat.append(incidents_per_month)"
      ]
    },
    {
      "cell_type": "code",
      "execution_count": 37,
      "id": "234ac6a3",
      "metadata": {
        "id": "234ac6a3"
      },
      "outputs": [],
      "source": [
        "# (incidents_mat[100])"
      ]
    },
    {
      "cell_type": "code",
      "execution_count": 38,
      "id": "f1f7bd71",
      "metadata": {
        "id": "f1f7bd71"
      },
      "outputs": [],
      "source": [
        "df1 = pd.DataFrame()\n",
        "# data = np.zeros((len(incidents_per_day), dav_grids2.grid_num.iloc[-1]+2))\n",
        "df1 = pd.DataFrame(data = incidents_mat)\n",
        "df1 = df1.transpose()\n",
        "df1.columns = [\"days\"]+[\"grid\"+str(i) for i in range(dav_grids2.grid_num.iloc[-1]+1)]"
      ]
    },
    {
      "cell_type": "code",
      "execution_count": 39,
      "id": "86e8fe11",
      "metadata": {
        "id": "86e8fe11"
      },
      "outputs": [],
      "source": [
        "df2 = pd.DataFrame()\n",
        "['80', '81', '82', '99', '101', '123', '124', '125']\n",
        "# df2[\"target\"] = incidents_mat[300]\n",
        "# df2[\"n\"] = incidents_mat[274]\n",
        "# df2[\"nw\"] = incidents_mat[275]\n",
        "# df2[\"w\"] = incidents_mat[276]\n",
        "# df2[\"sw\"] = incidents_mat[299]\n",
        "# df2[\"s\"] = incidents_mat[301]\n",
        "# df2[\"se\"] = incidents_mat[326]\n",
        "# df2[\"e\"] = incidents_mat[327]\n",
        "# df2[\"ne\"] = incidents_mat[328]\n",
        "df2[\"target\"] = incidents_mat[101]\n",
        "df2[\"n\"] = incidents_mat[81]\n",
        "df2[\"nw\"] = incidents_mat[82]\n",
        "df2[\"w\"] = incidents_mat[83]\n",
        "df2[\"sw\"] = incidents_mat[100]\n",
        "df2[\"s\"] = incidents_mat[102]\n",
        "df2[\"se\"] = incidents_mat[124]\n",
        "df2[\"e\"] = incidents_mat[125]\n",
        "df2[\"ne\"] = incidents_mat[126]\n",
        "df = df2\n",
        "df = df.reset_index()\n"
      ]
    },
    {
      "cell_type": "code",
      "execution_count": 40,
      "id": "a8b9a387",
      "metadata": {
        "id": "a8b9a387"
      },
      "outputs": [],
      "source": [
        "import pandas as pd\n",
        "from patsy import dmatrices\n",
        "import numpy as np\n",
        "import statsmodels.api as sm\n",
        "import matplotlib.pyplot as plt"
      ]
    },
    {
      "cell_type": "code",
      "execution_count": 111,
      "id": "4667f544",
      "metadata": {
        "colab": {
          "base_uri": "https://localhost:8080/"
        },
        "id": "4667f544",
        "outputId": "7dc2a875-859d-48e6-e71c-dcdc4cde1cff"
      },
      "outputs": [
        {
          "output_type": "execute_result",
          "data": {
            "text/plain": [
              "array([0.55944219, 0.43197731, 0.07570921, 0.97386866, 0.70208745,\n",
              "       0.00434232, 0.75050084, 0.5955715 , 0.74805939, 0.69745327,\n",
              "       0.75519625, 0.74903252, 0.90437643, 0.5843982 , 0.79956637,\n",
              "       0.60906568, 0.8476597 , 0.49401504, 0.41815398, 0.94546416,\n",
              "       0.64834901, 0.39718042, 0.5004736 , 0.66342743, 0.17888797,\n",
              "       0.86194115, 0.79347294, 0.33183216, 0.51883275, 0.34078327,\n",
              "       0.27554521, 0.45061695, 0.94346346, 0.65247712, 0.33269894,\n",
              "       0.29006551, 0.94147216, 0.51625883, 0.12956671, 0.90265018,\n",
              "       0.91563849, 0.0019693 , 0.82195502, 0.0651727 , 0.52491171,\n",
              "       0.0220566 , 0.38233017, 0.26415904, 0.08140075, 0.55947522])"
            ]
          },
          "metadata": {},
          "execution_count": 111
        }
      ],
      "source": [
        "np.random.rand(len(df))"
      ]
    },
    {
      "cell_type": "code",
      "execution_count": 42,
      "id": "9e366e6e",
      "metadata": {
        "id": "9e366e6e"
      },
      "outputs": [],
      "source": [
        "df_train = df.query('index<=40')\n",
        "df_test = df.query('index>40').reset_index().drop('index', axis=1)\n",
        "# mask = np.random.rand(len(df)) < 0.8\n",
        "\n",
        "# df_train = df[mask]\n",
        "# df_test = df[~mask]\n",
        "# print('Training data set length='+str(len(df_train)))\n",
        "# print('Testing data set length='+str(len(df_test)))"
      ]
    },
    {
      "cell_type": "code",
      "execution_count": 43,
      "id": "de279849",
      "metadata": {
        "id": "de279849"
      },
      "outputs": [],
      "source": [
        "expr = \"\"\"target ~ target+ n + ne + e + se + s + sw + w + nw\"\"\""
      ]
    },
    {
      "cell_type": "code",
      "execution_count": 44,
      "id": "c33f54b9",
      "metadata": {
        "colab": {
          "base_uri": "https://localhost:8080/",
          "height": 332
        },
        "id": "c33f54b9",
        "outputId": "205fc5fb-79e2-4e22-9931-6724abeb41c0"
      },
      "outputs": [
        {
          "output_type": "execute_result",
          "data": {
            "text/plain": [
              "   target\n",
              "0     0.0\n",
              "1     1.0\n",
              "2     0.0\n",
              "3     0.0\n",
              "4     1.0\n",
              "5     0.0\n",
              "6     0.0\n",
              "7     0.0\n",
              "8     0.0"
            ],
            "text/html": [
              "<div>\n",
              "<style scoped>\n",
              "    .dataframe tbody tr th:only-of-type {\n",
              "        vertical-align: middle;\n",
              "    }\n",
              "\n",
              "    .dataframe tbody tr th {\n",
              "        vertical-align: top;\n",
              "    }\n",
              "\n",
              "    .dataframe thead th {\n",
              "        text-align: right;\n",
              "    }\n",
              "</style>\n",
              "<table border=\"1\" class=\"dataframe\">\n",
              "  <thead>\n",
              "    <tr style=\"text-align: right;\">\n",
              "      <th></th>\n",
              "      <th>target</th>\n",
              "    </tr>\n",
              "  </thead>\n",
              "  <tbody>\n",
              "    <tr>\n",
              "      <th>0</th>\n",
              "      <td>0.0</td>\n",
              "    </tr>\n",
              "    <tr>\n",
              "      <th>1</th>\n",
              "      <td>1.0</td>\n",
              "    </tr>\n",
              "    <tr>\n",
              "      <th>2</th>\n",
              "      <td>0.0</td>\n",
              "    </tr>\n",
              "    <tr>\n",
              "      <th>3</th>\n",
              "      <td>0.0</td>\n",
              "    </tr>\n",
              "    <tr>\n",
              "      <th>4</th>\n",
              "      <td>1.0</td>\n",
              "    </tr>\n",
              "    <tr>\n",
              "      <th>5</th>\n",
              "      <td>0.0</td>\n",
              "    </tr>\n",
              "    <tr>\n",
              "      <th>6</th>\n",
              "      <td>0.0</td>\n",
              "    </tr>\n",
              "    <tr>\n",
              "      <th>7</th>\n",
              "      <td>0.0</td>\n",
              "    </tr>\n",
              "    <tr>\n",
              "      <th>8</th>\n",
              "      <td>0.0</td>\n",
              "    </tr>\n",
              "  </tbody>\n",
              "</table>\n",
              "</div>"
            ]
          },
          "metadata": {},
          "execution_count": 44
        }
      ],
      "source": [
        "y_train, X_train = dmatrices(expr, df_train, return_type='dataframe')\n",
        "y_test, X_test = dmatrices(expr, df_test, return_type='dataframe')\n",
        "y_test"
      ]
    },
    {
      "cell_type": "code",
      "execution_count": 45,
      "id": "acf74028",
      "metadata": {
        "id": "acf74028"
      },
      "outputs": [],
      "source": [
        "poisson_training_results = sm.GLM(y_train, X_train, family=sm.families.Poisson()).fit()\n",
        "# u, s, vt = np.linalg.svd(poisson_training_results.exog, 0)\n",
        "# print(s)"
      ]
    },
    {
      "cell_type": "code",
      "execution_count": 46,
      "id": "cf93aefd",
      "metadata": {
        "colab": {
          "base_uri": "https://localhost:8080/"
        },
        "id": "cf93aefd",
        "outputId": "12989a01-c490-4e63-e790-97861599589e"
      },
      "outputs": [
        {
          "output_type": "stream",
          "name": "stdout",
          "text": [
            "                 Generalized Linear Model Regression Results                  \n",
            "==============================================================================\n",
            "Dep. Variable:                 target   No. Observations:                   41\n",
            "Model:                            GLM   Df Residuals:                       32\n",
            "Model Family:                 Poisson   Df Model:                            8\n",
            "Link Function:                    Log   Scale:                          1.0000\n",
            "Method:                          IRLS   Log-Likelihood:                -7.3069\n",
            "Date:                Tue, 01 Feb 2022   Deviance:                   3.6742e-07\n",
            "Time:                        20:27:09   Pearson chi2:                 1.84e-07\n",
            "No. Iterations:                    23   Pseudo R-squ. (CS):             0.5061\n",
            "Covariance Type:            nonrobust                                         \n",
            "==============================================================================\n",
            "                 coef    std err          z      P>|z|      [0.025      0.975]\n",
            "------------------------------------------------------------------------------\n",
            "Intercept    -36.3490    939.894     -0.039      0.969   -1878.508    1805.810\n",
            "target        31.6717    929.272      0.034      0.973   -1789.669    1853.012\n",
            "n             -1.9951     74.765     -0.027      0.979    -148.532     144.542\n",
            "ne         -1.477e-13   6.03e-12     -0.024      0.980    -1.2e-11    1.17e-11\n",
            "e            -17.4844    537.819     -0.033      0.974   -1071.589    1036.621\n",
            "se            -1.4157    531.873     -0.003      0.998   -1043.868    1041.036\n",
            "s              1.5232    123.957      0.012      0.990    -241.428     244.474\n",
            "sw             3.5184    102.347      0.034      0.973    -197.078     204.115\n",
            "w             -8.9244    623.220     -0.014      0.989   -1230.413    1212.564\n",
            "nw            -4.5697    371.847     -0.012      0.990    -733.376     724.237\n",
            "==============================================================================\n"
          ]
        }
      ],
      "source": [
        "print(poisson_training_results.summary())"
      ]
    },
    {
      "cell_type": "code",
      "execution_count": 47,
      "id": "459f303b",
      "metadata": {
        "colab": {
          "base_uri": "https://localhost:8080/"
        },
        "id": "459f303b",
        "outputId": "0e3bacbd-24e0-4dab-855f-b6a0253c6226"
      },
      "outputs": [
        {
          "output_type": "stream",
          "name": "stdout",
          "text": [
            "           mean       mean_se  mean_ci_lower  mean_ci_upper\n",
            "0  2.819070e-14  2.314723e-11            0.0            inf\n",
            "1  6.325764e-06  2.837533e-03            0.0            inf\n",
            "2  8.357728e-16  7.259792e-13            0.0            inf\n",
            "3  4.820433e-20  1.054660e-16            0.0            inf\n",
            "4  1.771622e-08  2.208224e-05            0.0            inf\n",
            "5  5.682142e-19  1.110267e-15            0.0            inf\n",
            "6  2.102059e-18  2.252820e-15            0.0            inf\n",
            "7  1.863861e-07  2.708954e-04            0.0            inf\n",
            "8  2.880309e-11  1.636131e-08            0.0            inf\n"
          ]
        },
        {
          "output_type": "stream",
          "name": "stderr",
          "text": [
            "C:\\Users\\risha\\AppData\\Local\\Programs\\Python\\Python37\\lib\\site-packages\\statsmodels\\genmod\\families\\links.py:516: RuntimeWarning: overflow encountered in exp\n",
            "  return np.exp(z)\n"
          ]
        }
      ],
      "source": [
        "poisson_predictions = poisson_training_results.get_prediction(X_test)\n",
        "predictions_summary_frame = poisson_predictions.summary_frame()\n",
        "print(predictions_summary_frame)"
      ]
    },
    {
      "cell_type": "code",
      "execution_count": 48,
      "id": "9146375b",
      "metadata": {
        "colab": {
          "base_uri": "https://localhost:8080/",
          "height": 530
        },
        "id": "9146375b",
        "outputId": "d98b7f20-d12c-42ad-e3f2-9ac8ff9baef6"
      },
      "outputs": [
        {
          "output_type": "stream",
          "name": "stdout",
          "text": [
            "0    2.819070e-14\n",
            "1    6.325764e-06\n",
            "2    8.357728e-16\n",
            "3    4.820433e-20\n",
            "4    1.771622e-08\n",
            "5    5.682142e-19\n",
            "6    2.102059e-18\n",
            "7    1.863861e-07\n",
            "8    2.880309e-11\n",
            "Name: mean, dtype: float64\n"
          ]
        },
        {
          "output_type": "display_data",
          "data": {
            "text/plain": [
              "<Figure size 1080x360 with 1 Axes>"
            ],
            "image/png": "[encoded data removed]"
          },
          "metadata": {
            "needs_background": "light"
          }
        }
      ],
      "source": [
        "predicted_counts=predictions_summary_frame['mean']\n",
        "print(predicted_counts)\n",
        "actual_counts = y_test['target']\n",
        "fig = plt.figure(figsize = (15, 5))\n",
        "fig.suptitle('Predicted incident rate')\n",
        "predicted, = plt.plot(X_test.index, predicted_counts, 'go-', label='Predicted counts')\n",
        "actual, = plt.plot(X_test.index, actual_counts, 'ro-', label='Actual counts')\n",
        "plt.legend(handles=[predicted, actual])\n",
        "plt.show()"
      ]
    },
    {
      "cell_type": "code",
      "execution_count": 49,
      "id": "45e4a3cb",
      "metadata": {
        "id": "45e4a3cb"
      },
      "outputs": [],
      "source": [
        "gdf = dav_grids2.loc[:, ('grid_num', 'geometry')]\n",
        "\n",
        "gdf[\"neighbors\"] = None  \n",
        "\n",
        "for index, row in gdf.iterrows():  \n",
        "\n",
        "    neighbors = gdf[gdf.geometry.touches(row['geometry'])].grid_num.tolist() \n",
        "    gdf.at[index, \"neighbors\"] = (neighbors)\n",
        "#         gdf.at[index, \"neighbors\"] = \"\".join(neighbors)\n"
      ]
    },
    {
      "cell_type": "code",
      "execution_count": 113,
      "id": "101d6fe3",
      "metadata": {
        "id": "101d6fe3"
      },
      "outputs": [],
      "source": [
        "# incidents_mat"
      ]
    },
    {
      "cell_type": "code",
      "execution_count": 197,
      "id": "cb89ef26",
      "metadata": {
        "colab": {
          "base_uri": "https://localhost:8080/",
          "height": 443
        },
        "id": "cb89ef26",
        "outputId": "4c6fb122-ff7b-4c45-a765-80873fdadce9"
      },
      "outputs": [
        {
          "output_type": "stream",
          "name": "stdout",
          "text": [
            "(50, 605)\n"
          ]
        },
        {
          "output_type": "stream",
          "name": "stderr",
          "text": [
            "C:\\Users\\risha\\AppData\\Local\\Programs\\Python\\Python37\\lib\\site-packages\\statsmodels\\genmod\\families\\links.py:516: RuntimeWarning: overflow encountered in exp\n",
            "  return np.exp(z)\n",
            "C:\\Users\\risha\\AppData\\Local\\Programs\\Python\\Python37\\lib\\site-packages\\statsmodels\\genmod\\families\\family.py:426: RuntimeWarning: invalid value encountered in true_divide\n",
            "  endog_mu = self._clean(endog / mu)\n"
          ]
        },
        {
          "output_type": "display_data",
          "data": {
            "text/plain": [
              "<Figure size 1080x360 with 1 Axes>"
            ],
            "image/png": "[encoded data removed]"
          },
          "metadata": {
            "needs_background": "light"
          }
        }
      ],
      "source": [
        "import time\n",
        "from statistics import mean\n",
        "\n",
        "df1 = pd.DataFrame()\n",
        "# data = np.zeros((len(incidents_per_day), dav_grids2.grid_num.iloc[-1]+2))\n",
        "df1 = pd.DataFrame(data = incidents_mat)\n",
        "df1 = df1.transpose()\n",
        "df1.columns = [\"days\"]+[\"grid\"+str(i) for i in range(dav_grids2.grid_num.iloc[-1]+1)]\n",
        "df2 = pd.DataFrame()\n",
        "mean_error = []\n",
        "print(df1.shape)\n",
        "for i in range(0,gdf.shape[0]): #gdf.shape[0]\n",
        "    if all(v == 0 for v in incidents_mat[int(gdf.grid_num.iloc[i])+1]):\n",
        "        continue\n",
        "#     print(i)\n",
        "    expr = \"\"\"target ~ target \"\"\"\n",
        "    df2[\"target\"] = incidents_mat[int(gdf.grid_num.iloc[i])+1]\n",
        "    nbors = gdf.iloc[i].neighbors\n",
        "    for j in range(len(nbors)):\n",
        "        nbor_name = \"n\"+str(j)\n",
        "        df2[nbor_name] = incidents_mat[int(nbors[j])+1]\n",
        "        expr = expr + \"\"\"+ \"\"\"+nbor_name+\"\"\" \"\"\"\n",
        "        \n",
        "    df = df2\n",
        "    df = df.reset_index()\n",
        "    df_train = df.query('index<=40')\n",
        "    df_test = df.query('index>40').reset_index().drop('index', axis=1)\n",
        "    y_train, X_train = dmatrices(expr, df_train, return_type='dataframe')\n",
        "    y_test, X_test = dmatrices(expr, df_test, return_type='dataframe')\n",
        "    try:\n",
        "        poisson_training_results = sm.GLM(y_train, X_train, family=sm.families.Poisson()).fit()\n",
        "    except:\n",
        "        # print(\"caught\", i)\n",
        "        continue\n",
        "    poisson_predictions = poisson_training_results.get_prediction(X_test)\n",
        "    predictions_summary_frame = poisson_predictions.summary_frame()\n",
        "\n",
        "    predicted_counts=predictions_summary_frame['mean']\n",
        "    \n",
        "    actual_counts = y_test['target']\n",
        "    mean_error.append(mean(abs(x - y) for x, y in zip(actual_counts, predicted_counts)))\n",
        "\n",
        "#     predicted, = plt.plot(X_test.index, predicted_counts, 'go-', label='Predicted counts')\n",
        "#     actual, = plt.plot(X_test.index, actual_counts, 'ro-', label='Actual counts')\n",
        "#     plt.legend(handles=[predicted, actual])\n",
        "#     plt.show()\n",
        "#     time.sleep(5)\n",
        "\n",
        "fig = plt.figure(figsize = (15, 5))\n",
        "fig.suptitle('Predicted incident rate - mean error')\n",
        "plt.plot(mean_error)\n",
        "plt.show()"
      ]
    },
    {
      "cell_type": "code",
      "source": [
        "import pandas as pd\n",
        "import numpy as np\n",
        "import matplotlib.pyplot as plt\n",
        "from sklearn.cluster import KMeans\n",
        "%matplotlib inline\n",
        "\n",
        "df_sel = dav_grids2[['grid_num', 'no_of_incidents']]\n",
        "incidents = df_sel.to_numpy()\n",
        "plt.scatter(incidents[:,0], incidents[:,1], s = 50, )\n",
        "plt.show()\n",
        "\n",
        "from sklearn.cluster import KMeans\n",
        "Kmean = KMeans(n_clusters=3)\n",
        "Kmean.fit(incidents)\n",
        "cc=Kmean.cluster_centers_\n",
        "print(cc)\n",
        "plt.scatter(incidents[:,0], incidents[:,1], s =50)\n",
        "plt.scatter(cc[0][0], cc[0][1], s=200, marker ='.', c='brown')\n",
        "plt.scatter(cc[1][0], cc[1][1], s=200, marker='s')\n",
        "plt.scatter(cc[2][0], cc[2][1], s=200, marker='^')\n",
        "\n",
        "plt.show()\n",
        "kmeans_labels = Kmean.labels_\n",
        "print(kmeans_labels)\n"
      ],
      "metadata": {
        "colab": {
          "base_uri": "https://localhost:8080/",
          "height": 860
        },
        "id": "iQ3YnAJnTALP",
        "outputId": "6c37af78-3b97-43da-a105-877ba5004d8d"
      },
      "id": "iQ3YnAJnTALP",
      "execution_count": 95,
      "outputs": [
        {
          "output_type": "display_data",
          "data": {
            "text/plain": [
              "<Figure size 432x288 with 1 Axes>"
            ],
            "image/png": "[encoded data removed]"
          },
          "metadata": {
            "needs_background": "light"
          }
        },
        {
          "output_type": "stream",
          "name": "stdout",
          "text": [
            "[[352.96078431 289.21568627]\n",
            " [460.26492537  37.69029851]\n",
            " [142.99649123  17.17192982]]\n"
          ]
        },
        {
          "output_type": "display_data",
          "data": {
            "text/plain": [
              "<Figure size 432x288 with 1 Axes>"
            ],
            "image/png": "[encoded data removed]"
          },
          "metadata": {
            "needs_background": "light"
          }
        },
        {
          "output_type": "stream",
          "name": "stdout",
          "text": [
            "[2 2 2 2 2 2 2 2 2 2 2 2 2 2 2 2 2 2 2 2 2 2 2 2 2 2 2 2 2 2 2 2 2 2 2 2 2\n",
            " 2 2 2 2 2 2 2 2 2 2 2 2 2 2 2 2 2 2 2 2 2 2 2 2 2 2 2 2 2 2 2 2 2 2 2 2 2\n",
            " 2 2 2 2 2 2 2 2 2 2 2 2 2 2 2 2 2 2 2 2 2 2 2 2 2 2 2 2 2 2 2 2 2 2 2 2 2\n",
            " 2 2 2 2 2 2 2 2 2 2 2 2 2 2 2 2 2 2 2 2 2 2 2 2 2 2 2 2 2 2 2 2 2 2 2 2 2\n",
            " 2 2 2 2 2 2 2 2 2 2 2 2 2 2 2 2 2 2 2 2 2 2 2 2 2 2 2 2 2 2 2 2 2 2 2 2 2\n",
            " 2 2 2 2 2 2 2 2 2 2 2 2 2 2 2 2 2 0 2 2 2 2 2 2 2 2 2 2 2 2 2 2 2 2 2 2 2\n",
            " 2 2 2 2 2 2 2 2 2 2 2 2 2 2 2 2 2 2 2 2 2 2 2 2 2 2 2 2 0 0 0 2 2 2 2 2 2\n",
            " 2 2 2 2 2 2 2 2 2 2 2 2 2 0 0 0 0 0 2 2 2 2 2 2 2 2 2 2 2 2 2 0 0 2 2 2 2\n",
            " 0 0 0 0 0 0 0 0 0 1 1 1 1 1 1 1 1 1 1 1 1 1 1 1 0 1 1 0 1 0 0 0 1 0 1 0 1\n",
            " 1 1 1 1 1 1 1 1 1 1 1 1 1 1 1 1 1 1 0 0 1 0 1 1 1 1 1 1 1 1 1 1 1 1 1 1 1\n",
            " 1 1 1 1 1 1 1 0 0 1 0 0 0 1 1 1 1 1 1 1 0 1 1 1 1 1 1 1 1 1 1 1 1 1 0 1 1\n",
            " 0 1 0 0 1 1 1 1 1 1 1 1 0 1 1 1 1 1 1 1 1 1 1 1 0 1 1 1 1 0 1 1 1 1 1 1 1\n",
            " 1 1 1 0 1 1 1 1 1 1 0 1 1 1 1 1 1 0 1 1 1 1 1 1 1 1 1 1 1 1 1 1 1 1 1 0 1\n",
            " 1 0 1 1 1 1 1 1 1 1 1 1 1 1 1 1 1 1 1 1 1 1 0 0 1 1 1 1 1 1 1 1 1 1 1 1 1\n",
            " 1 1 1 1 1 0 1 1 1 1 1 1 1 1 1 1 1 1 1 1 1 1 1 1 1 1 1 1 1 1 1 1 1 1 1 1 1\n",
            " 1 1 1 1 1 1 1 1 1 1 1 1 1 1 1 1 1 1 1 1 1 1 1 1 1 1 1 1 1 1 1 1 1 1 1 1 1\n",
            " 1 1 1 1 1 1 1 1 1 1 1 1]\n"
          ]
        }
      ]
    },
    {
      "cell_type": "code",
      "source": [
        "dav_cluster1 = dav_grids2[kmeans_labels==0]\n",
        "dav_cluster2 = dav_grids2[kmeans_labels==1]\n",
        "dav_cluster3 = dav_grids2[kmeans_labels==2]\n",
        "dav_cluster2"
      ],
      "metadata": {
        "colab": {
          "base_uri": "https://localhost:8080/",
          "height": 424
        },
        "id": "sHK3PNlwZLAQ",
        "outputId": "a5289c86-e156-4306-e963-189cbdae7504"
      },
      "id": "sHK3PNlwZLAQ",
      "execution_count": 179,
      "outputs": [
        {
          "output_type": "execute_result",
          "data": {
            "text/plain": [
              "         AREA  PERIMETER  TNCODD_  TNCODD_ID  INDEX_NO    COUNTY STATE  \\\n",
              "305  0.136355   2.063989       32         30        63  Davidson    TN   \n",
              "306  0.136355   2.063989       32         30        63  Davidson    TN   \n",
              "307  0.136355   2.063989       32         30        63  Davidson    TN   \n",
              "308  0.136355   2.063989       32         30        63  Davidson    TN   \n",
              "309  0.136355   2.063989       32         30        63  Davidson    TN   \n",
              "..        ...        ...      ...        ...       ...       ...   ...   \n",
              "599  0.136355   2.063989       32         30        63  Davidson    TN   \n",
              "600  0.000005   0.010867       51         99        63  Davidson    TN   \n",
              "601  0.136355   2.063989       32         30        63  Davidson    TN   \n",
              "602  0.136355   2.063989       32         30        63  Davidson    TN   \n",
              "603  0.136355   2.063989       32         30        63  Davidson    TN   \n",
              "\n",
              "                                              geometry  grid_num  \\\n",
              "305  POLYGON ((-86.78902 36.25698, -86.77112 36.257...       305   \n",
              "306  POLYGON ((-86.78917 36.27148, -86.77126 36.271...       306   \n",
              "307  POLYGON ((-86.78931 36.28598, -86.77140 36.286...       307   \n",
              "308  POLYGON ((-86.78946 36.30049, -86.77154 36.300...       308   \n",
              "309  POLYGON ((-86.78960 36.31499, -86.77168 36.315...       309   \n",
              "..                                                 ...       ...   \n",
              "599  POLYGON ((-86.53578 36.13838, -86.53350 36.137...       599   \n",
              "600  POLYGON ((-86.52341 36.13752, -86.52274 36.140...       600   \n",
              "601  POLYGON ((-86.51764 36.08397, -86.51927 36.084...       601   \n",
              "602  POLYGON ((-86.51678 36.09155, -86.51759 36.084...       602   \n",
              "603  POLYGON ((-86.51826 36.10265, -86.51601 36.100...       603   \n",
              "\n",
              "     no_of_incidents  \n",
              "305               81  \n",
              "306               30  \n",
              "307               40  \n",
              "308                6  \n",
              "309                5  \n",
              "..               ...  \n",
              "599                1  \n",
              "600                1  \n",
              "601                1  \n",
              "602                1  \n",
              "603                1  \n",
              "\n",
              "[268 rows x 10 columns]"
            ],
            "text/html": [
              "<div>\n",
              "<style scoped>\n",
              "    .dataframe tbody tr th:only-of-type {\n",
              "        vertical-align: middle;\n",
              "    }\n",
              "\n",
              "    .dataframe tbody tr th {\n",
              "        vertical-align: top;\n",
              "    }\n",
              "\n",
              "    .dataframe thead th {\n",
              "        text-align: right;\n",
              "    }\n",
              "</style>\n",
              "<table border=\"1\" class=\"dataframe\">\n",
              "  <thead>\n",
              "    <tr style=\"text-align: right;\">\n",
              "      <th></th>\n",
              "      <th>AREA</th>\n",
              "      <th>PERIMETER</th>\n",
              "      <th>TNCODD_</th>\n",
              "      <th>TNCODD_ID</th>\n",
              "      <th>INDEX_NO</th>\n",
              "      <th>COUNTY</th>\n",
              "      <th>STATE</th>\n",
              "      <th>geometry</th>\n",
              "      <th>grid_num</th>\n",
              "      <th>no_of_incidents</th>\n",
              "    </tr>\n",
              "  </thead>\n",
              "  <tbody>\n",
              "    <tr>\n",
              "      <th>305</th>\n",
              "      <td>0.136355</td>\n",
              "      <td>2.063989</td>\n",
              "      <td>32</td>\n",
              "      <td>30</td>\n",
              "      <td>63</td>\n",
              "      <td>Davidson</td>\n",
              "      <td>TN</td>\n",
              "      <td>POLYGON ((-86.78902 36.25698, -86.77112 36.257...</td>\n",
              "      <td>305</td>\n",
              "      <td>81</td>\n",
              "    </tr>\n",
              "    <tr>\n",
              "      <th>306</th>\n",
              "      <td>0.136355</td>\n",
              "      <td>2.063989</td>\n",
              "      <td>32</td>\n",
              "      <td>30</td>\n",
              "      <td>63</td>\n",
              "      <td>Davidson</td>\n",
              "      <td>TN</td>\n",
              "      <td>POLYGON ((-86.78917 36.27148, -86.77126 36.271...</td>\n",
              "      <td>306</td>\n",
              "      <td>30</td>\n",
              "    </tr>\n",
              "    <tr>\n",
              "      <th>307</th>\n",
              "      <td>0.136355</td>\n",
              "      <td>2.063989</td>\n",
              "      <td>32</td>\n",
              "      <td>30</td>\n",
              "      <td>63</td>\n",
              "      <td>Davidson</td>\n",
              "      <td>TN</td>\n",
              "      <td>POLYGON ((-86.78931 36.28598, -86.77140 36.286...</td>\n",
              "      <td>307</td>\n",
              "      <td>40</td>\n",
              "    </tr>\n",
              "    <tr>\n",
              "      <th>308</th>\n",
              "      <td>0.136355</td>\n",
              "      <td>2.063989</td>\n",
              "      <td>32</td>\n",
              "      <td>30</td>\n",
              "      <td>63</td>\n",
              "      <td>Davidson</td>\n",
              "      <td>TN</td>\n",
              "      <td>POLYGON ((-86.78946 36.30049, -86.77154 36.300...</td>\n",
              "      <td>308</td>\n",
              "      <td>6</td>\n",
              "    </tr>\n",
              "    <tr>\n",
              "      <th>309</th>\n",
              "      <td>0.136355</td>\n",
              "      <td>2.063989</td>\n",
              "      <td>32</td>\n",
              "      <td>30</td>\n",
              "      <td>63</td>\n",
              "      <td>Davidson</td>\n",
              "      <td>TN</td>\n",
              "      <td>POLYGON ((-86.78960 36.31499, -86.77168 36.315...</td>\n",
              "      <td>309</td>\n",
              "      <td>5</td>\n",
              "    </tr>\n",
              "    <tr>\n",
              "      <th>...</th>\n",
              "      <td>...</td>\n",
              "      <td>...</td>\n",
              "      <td>...</td>\n",
              "      <td>...</td>\n",
              "      <td>...</td>\n",
              "      <td>...</td>\n",
              "      <td>...</td>\n",
              "      <td>...</td>\n",
              "      <td>...</td>\n",
              "      <td>...</td>\n",
              "    </tr>\n",
              "    <tr>\n",
              "      <th>599</th>\n",
              "      <td>0.136355</td>\n",
              "      <td>2.063989</td>\n",
              "      <td>32</td>\n",
              "      <td>30</td>\n",
              "      <td>63</td>\n",
              "      <td>Davidson</td>\n",
              "      <td>TN</td>\n",
              "      <td>POLYGON ((-86.53578 36.13838, -86.53350 36.137...</td>\n",
              "      <td>599</td>\n",
              "      <td>1</td>\n",
              "    </tr>\n",
              "    <tr>\n",
              "      <th>600</th>\n",
              "      <td>0.000005</td>\n",
              "      <td>0.010867</td>\n",
              "      <td>51</td>\n",
              "      <td>99</td>\n",
              "      <td>63</td>\n",
              "      <td>Davidson</td>\n",
              "      <td>TN</td>\n",
              "      <td>POLYGON ((-86.52341 36.13752, -86.52274 36.140...</td>\n",
              "      <td>600</td>\n",
              "      <td>1</td>\n",
              "    </tr>\n",
              "    <tr>\n",
              "      <th>601</th>\n",
              "      <td>0.136355</td>\n",
              "      <td>2.063989</td>\n",
              "      <td>32</td>\n",
              "      <td>30</td>\n",
              "      <td>63</td>\n",
              "      <td>Davidson</td>\n",
              "      <td>TN</td>\n",
              "      <td>POLYGON ((-86.51764 36.08397, -86.51927 36.084...</td>\n",
              "      <td>601</td>\n",
              "      <td>1</td>\n",
              "    </tr>\n",
              "    <tr>\n",
              "      <th>602</th>\n",
              "      <td>0.136355</td>\n",
              "      <td>2.063989</td>\n",
              "      <td>32</td>\n",
              "      <td>30</td>\n",
              "      <td>63</td>\n",
              "      <td>Davidson</td>\n",
              "      <td>TN</td>\n",
              "      <td>POLYGON ((-86.51678 36.09155, -86.51759 36.084...</td>\n",
              "      <td>602</td>\n",
              "      <td>1</td>\n",
              "    </tr>\n",
              "    <tr>\n",
              "      <th>603</th>\n",
              "      <td>0.136355</td>\n",
              "      <td>2.063989</td>\n",
              "      <td>32</td>\n",
              "      <td>30</td>\n",
              "      <td>63</td>\n",
              "      <td>Davidson</td>\n",
              "      <td>TN</td>\n",
              "      <td>POLYGON ((-86.51826 36.10265, -86.51601 36.100...</td>\n",
              "      <td>603</td>\n",
              "      <td>1</td>\n",
              "    </tr>\n",
              "  </tbody>\n",
              "</table>\n",
              "<p>268 rows × 10 columns</p>\n",
              "</div>"
            ]
          },
          "metadata": {},
          "execution_count": 179
        }
      ]
    },
    {
      "cell_type": "code",
      "source": [
        "inc_mat_clusters = [[0 for i in range(len(incidents_mat[0]))] for i in range(4)]\n",
        "inc_mat_clusters[0] = [i for i in range(1, len(incidents_mat[0])+1)]\n",
        "# print(inc_mat_clusters)\n",
        "# print(inc_mat_clusters[0][0])\n",
        "for i in range(len(kmeans_labels)):\n",
        "  sum_list = []\n",
        "  if kmeans_labels[i] == 0:\n",
        "    for (item1, item2) in zip(inc_mat_clusters[1], incidents_mat[i]):\n",
        "      sum_list.append(item1+item2)\n",
        "    inc_mat_clusters[1] = sum_list\n",
        "  elif kmeans_labels[i] == 1:\n",
        "    for (item1, item2) in zip(inc_mat_clusters[2], incidents_mat[i]):\n",
        "      sum_list.append(item1+item2)\n",
        "    inc_mat_clusters[2] = sum_list\n",
        "  elif kmeans_labels[1] == 2:\n",
        "    for (item1, item2) in zip(inc_mat_clusters[3], incidents_mat[i]):\n",
        "      sum_list.append(item1+item2)\n",
        "    inc_mat_clusters[3] = sum_list\n",
        "# inc_mat_clusters[0]/=len(inc_mat_clusters[0])\n",
        "# inc_mat_clusters[1]/=len(inc_mat_clusters[1])\n",
        "# inc_mat_clusters[2]/=len(inc_mat_clusters[2])\n",
        "\n",
        "# for (item1, item2) in zip(list1, list2):\n",
        "#     sum_list.append(item1+item2)\n",
        "# inc_mat_clusters"
      ],
      "metadata": {
        "id": "Ukik4521bvwA"
      },
      "id": "Ukik4521bvwA",
      "execution_count": 224,
      "outputs": []
    },
    {
      "cell_type": "code",
      "source": [
        "len(inc_mat_clusters"
      ],
      "metadata": {
        "colab": {
          "base_uri": "https://localhost:8080/"
        },
        "id": "CnUfvizBBMUM",
        "outputId": "c8a5b007-bab4-4e5c-b925-494b865381e6"
      },
      "id": "CnUfvizBBMUM",
      "execution_count": 162,
      "outputs": [
        {
          "output_type": "execute_result",
          "data": {
            "text/plain": [
              "4"
            ]
          },
          "metadata": {},
          "execution_count": 162
        }
      ]
    },
    {
      "cell_type": "code",
      "source": [
        "df_train = df.query('index<=40')\n",
        "df_test = df.query('index>40').reset_index().drop('index', axis=1)"
      ],
      "metadata": {
        "id": "dUj4GlnEYHN8"
      },
      "id": "dUj4GlnEYHN8",
      "execution_count": null,
      "outputs": []
    },
    {
      "cell_type": "code",
      "source": [
        "   "
      ],
      "metadata": {
        "id": "UOvBWBmba0j-"
      },
      "id": "UOvBWBmba0j-",
      "execution_count": null,
      "outputs": []
    },
    {
      "cell_type": "code",
      "source": [
        "df1c = pd.DataFrame(data = inc_mat_clusters)\n",
        "print(df1c)\n",
        "df1c = df1c.transpose()\n",
        "df1c.columns = [\"months\"]+[\"cluster\"+str(i) for i in range(1,len(inc_mat_clusters))]\n",
        "df1c.head(10)"
      ],
      "metadata": {
        "colab": {
          "base_uri": "https://localhost:8080/",
          "height": 589
        },
        "id": "Dh3JW29ZFIxx",
        "outputId": "aac3824e-f27e-4346-e71b-edea9fc700e6"
      },
      "id": "Dh3JW29ZFIxx",
      "execution_count": 220,
      "outputs": [
        {
          "output_type": "stream",
          "name": "stdout",
          "text": [
            "    0    1    2    3    4    5   6   7   8   9   ...   40   41   42   43   44  \\\n",
            "0    1    2    3    4    5    6   7   8   9  10  ...   41   42   43   44   45   \n",
            "1  246  224  252  272  248  178   0   0   0   0  ...  177  241  252  240  242   \n",
            "2  343  318  359  374  381  251   0   0   0   0  ...  310  381  358  409  421   \n",
            "3  126  133  119  162  155   80   6   7   8   9  ...  133  151  184  173  156   \n",
            "\n",
            "    45   46   47   48   49  \n",
            "0   46   47   48   49   50  \n",
            "1  241  245  228  213  190  \n",
            "2  370  390  372  371  269  \n",
            "3  182  163  151  143  109  \n",
            "\n",
            "[4 rows x 50 columns]\n"
          ]
        },
        {
          "output_type": "execute_result",
          "data": {
            "text/plain": [
              "   months  cluster1  cluster2  cluster3\n",
              "0       1       246       343       126\n",
              "1       2       224       318       133\n",
              "2       3       252       359       119\n",
              "3       4       272       374       162\n",
              "4       5       248       381       155\n",
              "5       6       178       251        80\n",
              "6       7         0         0         6\n",
              "7       8         0         0         7\n",
              "8       9         0         0         8\n",
              "9      10         0         0         9"
            ],
            "text/html": [
              "<div>\n",
              "<style scoped>\n",
              "    .dataframe tbody tr th:only-of-type {\n",
              "        vertical-align: middle;\n",
              "    }\n",
              "\n",
              "    .dataframe tbody tr th {\n",
              "        vertical-align: top;\n",
              "    }\n",
              "\n",
              "    .dataframe thead th {\n",
              "        text-align: right;\n",
              "    }\n",
              "</style>\n",
              "<table border=\"1\" class=\"dataframe\">\n",
              "  <thead>\n",
              "    <tr style=\"text-align: right;\">\n",
              "      <th></th>\n",
              "      <th>months</th>\n",
              "      <th>cluster1</th>\n",
              "      <th>cluster2</th>\n",
              "      <th>cluster3</th>\n",
              "    </tr>\n",
              "  </thead>\n",
              "  <tbody>\n",
              "    <tr>\n",
              "      <th>0</th>\n",
              "      <td>1</td>\n",
              "      <td>246</td>\n",
              "      <td>343</td>\n",
              "      <td>126</td>\n",
              "    </tr>\n",
              "    <tr>\n",
              "      <th>1</th>\n",
              "      <td>2</td>\n",
              "      <td>224</td>\n",
              "      <td>318</td>\n",
              "      <td>133</td>\n",
              "    </tr>\n",
              "    <tr>\n",
              "      <th>2</th>\n",
              "      <td>3</td>\n",
              "      <td>252</td>\n",
              "      <td>359</td>\n",
              "      <td>119</td>\n",
              "    </tr>\n",
              "    <tr>\n",
              "      <th>3</th>\n",
              "      <td>4</td>\n",
              "      <td>272</td>\n",
              "      <td>374</td>\n",
              "      <td>162</td>\n",
              "    </tr>\n",
              "    <tr>\n",
              "      <th>4</th>\n",
              "      <td>5</td>\n",
              "      <td>248</td>\n",
              "      <td>381</td>\n",
              "      <td>155</td>\n",
              "    </tr>\n",
              "    <tr>\n",
              "      <th>5</th>\n",
              "      <td>6</td>\n",
              "      <td>178</td>\n",
              "      <td>251</td>\n",
              "      <td>80</td>\n",
              "    </tr>\n",
              "    <tr>\n",
              "      <th>6</th>\n",
              "      <td>7</td>\n",
              "      <td>0</td>\n",
              "      <td>0</td>\n",
              "      <td>6</td>\n",
              "    </tr>\n",
              "    <tr>\n",
              "      <th>7</th>\n",
              "      <td>8</td>\n",
              "      <td>0</td>\n",
              "      <td>0</td>\n",
              "      <td>7</td>\n",
              "    </tr>\n",
              "    <tr>\n",
              "      <th>8</th>\n",
              "      <td>9</td>\n",
              "      <td>0</td>\n",
              "      <td>0</td>\n",
              "      <td>8</td>\n",
              "    </tr>\n",
              "    <tr>\n",
              "      <th>9</th>\n",
              "      <td>10</td>\n",
              "      <td>0</td>\n",
              "      <td>0</td>\n",
              "      <td>9</td>\n",
              "    </tr>\n",
              "  </tbody>\n",
              "</table>\n",
              "</div>"
            ]
          },
          "metadata": {},
          "execution_count": 220
        }
      ]
    },
    {
      "cell_type": "code",
      "source": [
        ""
      ],
      "metadata": {
        "id": "A2r1mVcXBpED"
      },
      "id": "A2r1mVcXBpED",
      "execution_count": 218,
      "outputs": []
    },
    {
      "cell_type": "code",
      "source": [
        "df1c_dropped = df1c.drop(labels=range(6, 18), axis=0).reset_index()\n",
        "df1c_dropped"
      ],
      "metadata": {
        "colab": {
          "base_uri": "https://localhost:8080/",
          "height": 1000
        },
        "id": "3j_HjKCLNIuW",
        "outputId": "75cc3401-ac5d-4851-f151-c6cb861f6fd5"
      },
      "id": "3j_HjKCLNIuW",
      "execution_count": 221,
      "outputs": [
        {
          "output_type": "execute_result",
          "data": {
            "text/plain": [
              "    index  months  cluster1  cluster2  cluster3\n",
              "0       0       1       246       343       126\n",
              "1       1       2       224       318       133\n",
              "2       2       3       252       359       119\n",
              "3       3       4       272       374       162\n",
              "4       4       5       248       381       155\n",
              "5       5       6       178       251        80\n",
              "6      18      19       159       234       111\n",
              "7      19      20       230       319       134\n",
              "8      20      21       191       345       128\n",
              "9      21      22       222       319       146\n",
              "10     22      23       260       311       140\n",
              "11     23      24       201       328       143\n",
              "12     24      25       209       274       132\n",
              "13     25      26       269       349       168\n",
              "14     26      27       274       415       178\n",
              "15     27      28       316       500       210\n",
              "16     28      29       291       455       173\n",
              "17     29      30       288       460       194\n",
              "18     30      31       284       465       172\n",
              "19     31      32       315       445       192\n",
              "20     32      33       305       480       183\n",
              "21     33      34       347       499       184\n",
              "22     34      35       344       502       213\n",
              "23     35      36       317       457       218\n",
              "24     36      37       256       388       192\n",
              "25     37      38       289       434       183\n",
              "26     38      39       264       443       192\n",
              "27     39      40       154       290       129\n",
              "28     40      41       177       310       133\n",
              "29     41      42       241       381       151\n",
              "30     42      43       252       358       184\n",
              "31     43      44       240       409       173\n",
              "32     44      45       242       421       156\n",
              "33     45      46       241       370       182\n",
              "34     46      47       245       390       163\n",
              "35     47      48       228       372       151\n",
              "36     48      49       213       371       143\n",
              "37     49      50       190       269       109"
            ],
            "text/html": [
              "<div>\n",
              "<style scoped>\n",
              "    .dataframe tbody tr th:only-of-type {\n",
              "        vertical-align: middle;\n",
              "    }\n",
              "\n",
              "    .dataframe tbody tr th {\n",
              "        vertical-align: top;\n",
              "    }\n",
              "\n",
              "    .dataframe thead th {\n",
              "        text-align: right;\n",
              "    }\n",
              "</style>\n",
              "<table border=\"1\" class=\"dataframe\">\n",
              "  <thead>\n",
              "    <tr style=\"text-align: right;\">\n",
              "      <th></th>\n",
              "      <th>index</th>\n",
              "      <th>months</th>\n",
              "      <th>cluster1</th>\n",
              "      <th>cluster2</th>\n",
              "      <th>cluster3</th>\n",
              "    </tr>\n",
              "  </thead>\n",
              "  <tbody>\n",
              "    <tr>\n",
              "      <th>0</th>\n",
              "      <td>0</td>\n",
              "      <td>1</td>\n",
              "      <td>246</td>\n",
              "      <td>343</td>\n",
              "      <td>126</td>\n",
              "    </tr>\n",
              "    <tr>\n",
              "      <th>1</th>\n",
              "      <td>1</td>\n",
              "      <td>2</td>\n",
              "      <td>224</td>\n",
              "      <td>318</td>\n",
              "      <td>133</td>\n",
              "    </tr>\n",
              "    <tr>\n",
              "      <th>2</th>\n",
              "      <td>2</td>\n",
              "      <td>3</td>\n",
              "      <td>252</td>\n",
              "      <td>359</td>\n",
              "      <td>119</td>\n",
              "    </tr>\n",
              "    <tr>\n",
              "      <th>3</th>\n",
              "      <td>3</td>\n",
              "      <td>4</td>\n",
              "      <td>272</td>\n",
              "      <td>374</td>\n",
              "      <td>162</td>\n",
              "    </tr>\n",
              "    <tr>\n",
              "      <th>4</th>\n",
              "      <td>4</td>\n",
              "      <td>5</td>\n",
              "      <td>248</td>\n",
              "      <td>381</td>\n",
              "      <td>155</td>\n",
              "    </tr>\n",
              "    <tr>\n",
              "      <th>5</th>\n",
              "      <td>5</td>\n",
              "      <td>6</td>\n",
              "      <td>178</td>\n",
              "      <td>251</td>\n",
              "      <td>80</td>\n",
              "    </tr>\n",
              "    <tr>\n",
              "      <th>6</th>\n",
              "      <td>18</td>\n",
              "      <td>19</td>\n",
              "      <td>159</td>\n",
              "      <td>234</td>\n",
              "      <td>111</td>\n",
              "    </tr>\n",
              "    <tr>\n",
              "      <th>7</th>\n",
              "      <td>19</td>\n",
              "      <td>20</td>\n",
              "      <td>230</td>\n",
              "      <td>319</td>\n",
              "      <td>134</td>\n",
              "    </tr>\n",
              "    <tr>\n",
              "      <th>8</th>\n",
              "      <td>20</td>\n",
              "      <td>21</td>\n",
              "      <td>191</td>\n",
              "      <td>345</td>\n",
              "      <td>128</td>\n",
              "    </tr>\n",
              "    <tr>\n",
              "      <th>9</th>\n",
              "      <td>21</td>\n",
              "      <td>22</td>\n",
              "      <td>222</td>\n",
              "      <td>319</td>\n",
              "      <td>146</td>\n",
              "    </tr>\n",
              "    <tr>\n",
              "      <th>10</th>\n",
              "      <td>22</td>\n",
              "      <td>23</td>\n",
              "      <td>260</td>\n",
              "      <td>311</td>\n",
              "      <td>140</td>\n",
              "    </tr>\n",
              "    <tr>\n",
              "      <th>11</th>\n",
              "      <td>23</td>\n",
              "      <td>24</td>\n",
              "      <td>201</td>\n",
              "      <td>328</td>\n",
              "      <td>143</td>\n",
              "    </tr>\n",
              "    <tr>\n",
              "      <th>12</th>\n",
              "      <td>24</td>\n",
              "      <td>25</td>\n",
              "      <td>209</td>\n",
              "      <td>274</td>\n",
              "      <td>132</td>\n",
              "    </tr>\n",
              "    <tr>\n",
              "      <th>13</th>\n",
              "      <td>25</td>\n",
              "      <td>26</td>\n",
              "      <td>269</td>\n",
              "      <td>349</td>\n",
              "      <td>168</td>\n",
              "    </tr>\n",
              "    <tr>\n",
              "      <th>14</th>\n",
              "      <td>26</td>\n",
              "      <td>27</td>\n",
              "      <td>274</td>\n",
              "      <td>415</td>\n",
              "      <td>178</td>\n",
              "    </tr>\n",
              "    <tr>\n",
              "      <th>15</th>\n",
              "      <td>27</td>\n",
              "      <td>28</td>\n",
              "      <td>316</td>\n",
              "      <td>500</td>\n",
              "      <td>210</td>\n",
              "    </tr>\n",
              "    <tr>\n",
              "      <th>16</th>\n",
              "      <td>28</td>\n",
              "      <td>29</td>\n",
              "      <td>291</td>\n",
              "      <td>455</td>\n",
              "      <td>173</td>\n",
              "    </tr>\n",
              "    <tr>\n",
              "      <th>17</th>\n",
              "      <td>29</td>\n",
              "      <td>30</td>\n",
              "      <td>288</td>\n",
              "      <td>460</td>\n",
              "      <td>194</td>\n",
              "    </tr>\n",
              "    <tr>\n",
              "      <th>18</th>\n",
              "      <td>30</td>\n",
              "      <td>31</td>\n",
              "      <td>284</td>\n",
              "      <td>465</td>\n",
              "      <td>172</td>\n",
              "    </tr>\n",
              "    <tr>\n",
              "      <th>19</th>\n",
              "      <td>31</td>\n",
              "      <td>32</td>\n",
              "      <td>315</td>\n",
              "      <td>445</td>\n",
              "      <td>192</td>\n",
              "    </tr>\n",
              "    <tr>\n",
              "      <th>20</th>\n",
              "      <td>32</td>\n",
              "      <td>33</td>\n",
              "      <td>305</td>\n",
              "      <td>480</td>\n",
              "      <td>183</td>\n",
              "    </tr>\n",
              "    <tr>\n",
              "      <th>21</th>\n",
              "      <td>33</td>\n",
              "      <td>34</td>\n",
              "      <td>347</td>\n",
              "      <td>499</td>\n",
              "      <td>184</td>\n",
              "    </tr>\n",
              "    <tr>\n",
              "      <th>22</th>\n",
              "      <td>34</td>\n",
              "      <td>35</td>\n",
              "      <td>344</td>\n",
              "      <td>502</td>\n",
              "      <td>213</td>\n",
              "    </tr>\n",
              "    <tr>\n",
              "      <th>23</th>\n",
              "      <td>35</td>\n",
              "      <td>36</td>\n",
              "      <td>317</td>\n",
              "      <td>457</td>\n",
              "      <td>218</td>\n",
              "    </tr>\n",
              "    <tr>\n",
              "      <th>24</th>\n",
              "      <td>36</td>\n",
              "      <td>37</td>\n",
              "      <td>256</td>\n",
              "      <td>388</td>\n",
              "      <td>192</td>\n",
              "    </tr>\n",
              "    <tr>\n",
              "      <th>25</th>\n",
              "      <td>37</td>\n",
              "      <td>38</td>\n",
              "      <td>289</td>\n",
              "      <td>434</td>\n",
              "      <td>183</td>\n",
              "    </tr>\n",
              "    <tr>\n",
              "      <th>26</th>\n",
              "      <td>38</td>\n",
              "      <td>39</td>\n",
              "      <td>264</td>\n",
              "      <td>443</td>\n",
              "      <td>192</td>\n",
              "    </tr>\n",
              "    <tr>\n",
              "      <th>27</th>\n",
              "      <td>39</td>\n",
              "      <td>40</td>\n",
              "      <td>154</td>\n",
              "      <td>290</td>\n",
              "      <td>129</td>\n",
              "    </tr>\n",
              "    <tr>\n",
              "      <th>28</th>\n",
              "      <td>40</td>\n",
              "      <td>41</td>\n",
              "      <td>177</td>\n",
              "      <td>310</td>\n",
              "      <td>133</td>\n",
              "    </tr>\n",
              "    <tr>\n",
              "      <th>29</th>\n",
              "      <td>41</td>\n",
              "      <td>42</td>\n",
              "      <td>241</td>\n",
              "      <td>381</td>\n",
              "      <td>151</td>\n",
              "    </tr>\n",
              "    <tr>\n",
              "      <th>30</th>\n",
              "      <td>42</td>\n",
              "      <td>43</td>\n",
              "      <td>252</td>\n",
              "      <td>358</td>\n",
              "      <td>184</td>\n",
              "    </tr>\n",
              "    <tr>\n",
              "      <th>31</th>\n",
              "      <td>43</td>\n",
              "      <td>44</td>\n",
              "      <td>240</td>\n",
              "      <td>409</td>\n",
              "      <td>173</td>\n",
              "    </tr>\n",
              "    <tr>\n",
              "      <th>32</th>\n",
              "      <td>44</td>\n",
              "      <td>45</td>\n",
              "      <td>242</td>\n",
              "      <td>421</td>\n",
              "      <td>156</td>\n",
              "    </tr>\n",
              "    <tr>\n",
              "      <th>33</th>\n",
              "      <td>45</td>\n",
              "      <td>46</td>\n",
              "      <td>241</td>\n",
              "      <td>370</td>\n",
              "      <td>182</td>\n",
              "    </tr>\n",
              "    <tr>\n",
              "      <th>34</th>\n",
              "      <td>46</td>\n",
              "      <td>47</td>\n",
              "      <td>245</td>\n",
              "      <td>390</td>\n",
              "      <td>163</td>\n",
              "    </tr>\n",
              "    <tr>\n",
              "      <th>35</th>\n",
              "      <td>47</td>\n",
              "      <td>48</td>\n",
              "      <td>228</td>\n",
              "      <td>372</td>\n",
              "      <td>151</td>\n",
              "    </tr>\n",
              "    <tr>\n",
              "      <th>36</th>\n",
              "      <td>48</td>\n",
              "      <td>49</td>\n",
              "      <td>213</td>\n",
              "      <td>371</td>\n",
              "      <td>143</td>\n",
              "    </tr>\n",
              "    <tr>\n",
              "      <th>37</th>\n",
              "      <td>49</td>\n",
              "      <td>50</td>\n",
              "      <td>190</td>\n",
              "      <td>269</td>\n",
              "      <td>109</td>\n",
              "    </tr>\n",
              "  </tbody>\n",
              "</table>\n",
              "</div>"
            ]
          },
          "metadata": {},
          "execution_count": 221
        }
      ]
    },
    {
      "cell_type": "code",
      "source": [
        "mean_error_c=[]\n",
        "for i in range(1, 4):\n",
        "  target = 'cluster'+str(i)\n",
        "  expr = target+\"\"\" ~ cluster1 + cluster2 + cluster3\"\"\"\n",
        "  df_train = df1c_dropped.query('index<=30')\n",
        "  df_test = df1c_dropped.query('index>30').reset_index().drop('index', axis=1)\n",
        "  y_train, X_train = dmatrices(expr, df_train, return_type='dataframe')\n",
        "  y_test, X_test = dmatrices(expr, df_test, return_type='dataframe')\n",
        "  poisson_training_results = sm.GLM(y_train, X_train, family=sm.families.Poisson()).fit()\n",
        "  poisson_training_results.summary()\n",
        "  poisson_predictions = poisson_training_results.get_prediction(X_test)\n",
        "  predictions_summary_frame = poisson_predictions.summary_frame()\n",
        "  # print(predictions_summary_frame)\n",
        "  predicted_counts=predictions_summary_frame['mean']\n",
        "  # print(predicted_counts)\n",
        "  actual_counts = y_test[target]\n",
        "  fig = plt.figure(figsize = (15, 5))\n",
        "  fig.suptitle('Predicted incident rate')\n",
        "  predicted, = plt.plot(X_test.index, predicted_counts, 'go-', label='Predicted counts')\n",
        "  actual, = plt.plot(X_test.index, actual_counts, 'ro-', label='Actual counts')\n",
        "  plt.legend(handles=[predicted, actual])\n",
        "  plt.show()  \n",
        "  predicted_counts=predictions_summary_frame['mean']\n",
        "  \n",
        "  mean_error_c.append(mean(abs(x - y) for x, y in zip(actual_counts, predicted_counts)))\n",
        "fig = plt.figure(figsize = (15, 5))\n",
        "fig.suptitle('Predicted incident rate - mean error')\n",
        "plt.plot(mean_error_c)\n",
        "plt.show()\n"
      ],
      "metadata": {
        "colab": {
          "base_uri": "https://localhost:8080/",
          "height": 1000
        },
        "id": "14r2dSLZL-2v",
        "outputId": "56d6c924-a6ef-4746-abda-bde3654f6b9f"
      },
      "id": "14r2dSLZL-2v",
      "execution_count": 229,
      "outputs": [
        {
          "output_type": "display_data",
          "data": {
            "text/plain": [
              "<Figure size 1080x360 with 1 Axes>"
            ],
            "image/png": "[encoded data removed]"
          },
          "metadata": {
            "needs_background": "light"
          }
        },
        {
          "output_type": "display_data",
          "data": {
            "text/plain": [
              "<Figure size 1080x360 with 1 Axes>"
            ],
            "image/png": "[encoded data removed]"
          },
          "metadata": {
            "needs_background": "light"
          }
        },
        {
          "output_type": "display_data",
          "data": {
            "text/plain": [
              "<Figure size 1080x360 with 1 Axes>"
            ],
            "image/png": "[encoded data removed]"
          },
          "metadata": {
            "needs_background": "light"
          }
        },
        {
          "output_type": "display_data",
          "data": {
            "text/plain": [
              "<Figure size 1080x360 with 1 Axes>"
            ],
            "image/png": "[encoded data removed]"
          },
          "metadata": {
            "needs_background": "light"
          }
        }
      ]
    }
  ],
  "metadata": {
    "kernelspec": {
      "display_name": "Python 3 (ipykernel)",
      "language": "python",
      "name": "python3"
    },
    "language_info": {
      "codemirror_mode": {
        "name": "ipython",
        "version": 3
      },
      "file_extension": ".py",
      "mimetype": "text/x-python",
      "name": "python",
      "nbconvert_exporter": "python",
      "pygments_lexer": "ipython3",
      "version": "3.7.9"
    },
    "colab": {
      "name": "davidson_incidents_PR-updated.ipynb",
      "provenance": []
    }
  },
  "nbformat": 4,
  "nbformat_minor": 5
}