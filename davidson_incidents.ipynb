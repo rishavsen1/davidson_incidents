{
 "cells": [
  {
   "cell_type": "code",
   "execution_count": 1,
   "id": "ad4dd12b",
   "metadata": {},
   "outputs": [],
   "source": [
    "import geopandas as gpd\n",
    "import matplotlib.pyplot as plt\n",
    "import pandas as pd\n",
    "import numpy as np\n",
    "from shapely.geometry import Polygon"
   ]
  },
  {
   "cell_type": "code",
   "execution_count": 3,
   "id": "2ed643f7",
   "metadata": {},
   "outputs": [],
   "source": [
    "#to convert a geographic point into a circular buffer with radius in meters.\n",
    "\n",
    "from shapely.geometry import Point\n",
    "from functools import partial\n",
    "from shapely.ops import transform\n",
    "import pyproj\n",
    "\n",
    "# def buffer_in_meters(lng, lat, radius):\n",
    "def buffer_in_meters(pt_latlng, radius):\n",
    "    proj_meters = pyproj.Proj(init='epsg:3857')\n",
    "    proj_latlng = pyproj.Proj(init='epsg:4326')\n",
    "    \n",
    "    project_to_meters = partial(pyproj.transform, proj_latlng, proj_meters)\n",
    "    project_to_latlng = partial(pyproj.transform, proj_meters, proj_latlng)\n",
    "    \n",
    "#     pt_latlng = Point(lng, lat)\n",
    "    pt_meters = transform(project_to_meters, pt_latlng)\n",
    "    \n",
    "    buffer_meters = pt_meters.buffer(radius)\n",
    "    buffer_latlng = transform(project_to_latlng, buffer_meters)\n",
    "    return buffer_latlng"
   ]
  },
  {
   "cell_type": "code",
   "execution_count": 4,
   "id": "a5981d97",
   "metadata": {},
   "outputs": [],
   "source": [
    "gdf_county = gpd.read_file(\"county.zip\")"
   ]
  },
  {
   "cell_type": "code",
   "execution_count": 5,
   "id": "1b2d2009",
   "metadata": {},
   "outputs": [
    {
     "data": {
      "text/plain": [
       "<AxesSubplot:>"
      ]
     },
     "execution_count": 5,
     "metadata": {},
     "output_type": "execute_result"
    },
    {
     "data": {
      "image/png": "[encoded data removed]",
      "text/plain": [
       "<Figure size 432x288 with 1 Axes>"
      ]
     },
     "metadata": {
      "needs_background": "light"
     },
     "output_type": "display_data"
    }
   ],
   "source": [
    "gdf_county.plot()"
   ]
  },
  {
   "cell_type": "code",
   "execution_count": 6,
   "id": "66a7b4b7",
   "metadata": {},
   "outputs": [],
   "source": [
    "gdf_dav = gdf_county[gdf_county[\"COUNTY\"] == \"Davidson\"]"
   ]
  },
  {
   "cell_type": "code",
   "execution_count": 7,
   "id": "a880e77e",
   "metadata": {},
   "outputs": [
    {
     "data": {
      "text/html": [
       "<div>\n",
       "<style scoped>\n",
       "    .dataframe tbody tr th:only-of-type {\n",
       "        vertical-align: middle;\n",
       "    }\n",
       "\n",
       "    .dataframe tbody tr th {\n",
       "        vertical-align: top;\n",
       "    }\n",
       "\n",
       "    .dataframe thead th {\n",
       "        text-align: right;\n",
       "    }\n",
       "</style>\n",
       "<table border=\"1\" class=\"dataframe\">\n",
       "  <thead>\n",
       "    <tr style=\"text-align: right;\">\n",
       "      <th></th>\n",
       "      <th>AREA</th>\n",
       "      <th>PERIMETER</th>\n",
       "      <th>TNCODD_</th>\n",
       "      <th>TNCODD_ID</th>\n",
       "      <th>INDEX_NO</th>\n",
       "      <th>COUNTY</th>\n",
       "      <th>STATE</th>\n",
       "      <th>geometry</th>\n",
       "    </tr>\n",
       "  </thead>\n",
       "  <tbody>\n",
       "    <tr>\n",
       "      <th>30</th>\n",
       "      <td>0.136355</td>\n",
       "      <td>2.063989</td>\n",
       "      <td>32</td>\n",
       "      <td>30</td>\n",
       "      <td>63</td>\n",
       "      <td>Davidson</td>\n",
       "      <td>TN</td>\n",
       "      <td>POLYGON ((1725320.674 734952.517, 1725410.826 ...</td>\n",
       "    </tr>\n",
       "    <tr>\n",
       "      <th>49</th>\n",
       "      <td>0.000005</td>\n",
       "      <td>0.010867</td>\n",
       "      <td>51</td>\n",
       "      <td>99</td>\n",
       "      <td>63</td>\n",
       "      <td>Davidson</td>\n",
       "      <td>TN</td>\n",
       "      <td>POLYGON ((1814456.873 657102.349, 1813945.726 ...</td>\n",
       "    </tr>\n",
       "  </tbody>\n",
       "</table>\n",
       "</div>"
      ],
      "text/plain": [
       "        AREA  PERIMETER  TNCODD_  TNCODD_ID  INDEX_NO    COUNTY STATE  \\\n",
       "30  0.136355   2.063989       32         30        63  Davidson    TN   \n",
       "49  0.000005   0.010867       51         99        63  Davidson    TN   \n",
       "\n",
       "                                             geometry  \n",
       "30  POLYGON ((1725320.674 734952.517, 1725410.826 ...  \n",
       "49  POLYGON ((1814456.873 657102.349, 1813945.726 ...  "
      ]
     },
     "execution_count": 7,
     "metadata": {},
     "output_type": "execute_result"
    }
   ],
   "source": [
    "gdf_dav.head()"
   ]
  },
  {
   "cell_type": "code",
   "execution_count": 9,
   "id": "360924a0",
   "metadata": {},
   "outputs": [
    {
     "data": {
      "text/plain": [
       "<Geographic 2D CRS: EPSG:4326>\n",
       "Name: WGS 84\n",
       "Axis Info [ellipsoidal]:\n",
       "- Lat[north]: Geodetic latitude (degree)\n",
       "- Lon[east]: Geodetic longitude (degree)\n",
       "Area of Use:\n",
       "- name: World.\n",
       "- bounds: (-180.0, -90.0, 180.0, 90.0)\n",
       "Datum: World Geodetic System 1984 ensemble\n",
       "- Ellipsoid: WGS 84\n",
       "- Prime Meridian: Greenwich"
      ]
     },
     "execution_count": 9,
     "metadata": {},
     "output_type": "execute_result"
    }
   ],
   "source": [
    "gdf_david = gdf_dav.to_crs(\"EPSG:4326\")\n",
    "gdf_david.crs"
   ]
  },
  {
   "cell_type": "code",
   "execution_count": 10,
   "id": "f5999cd8",
   "metadata": {},
   "outputs": [
    {
     "data": {
      "text/plain": [
       "array([1656664.95403244,  595562.71399883, 1816136.87059501,\n",
       "        755249.86127501])"
      ]
     },
     "execution_count": 10,
     "metadata": {},
     "output_type": "execute_result"
    }
   ],
   "source": [
    "xmin, ymin, xmax, ymax = gdf_dav.total_bounds\n",
    "gdf_dav.total_bounds"
   ]
  },
  {
   "cell_type": "code",
   "execution_count": 12,
   "id": "fbee9297",
   "metadata": {},
   "outputs": [
    {
     "name": "stdout",
     "output_type": "stream",
     "text": [
      "32\n",
      "32\n"
     ]
    }
   ],
   "source": [
    "length = 5280\n",
    "wide = 5280\n",
    "\n",
    "cols = list(np.arange(xmin, xmax + wide, wide))\n",
    "print(len(cols))\n",
    "rows = list(np.arange(ymin, ymax + length, length))\n",
    "print(len(cols))\n",
    "\n",
    "polygons = []\n",
    "for x in cols[:-1]:\n",
    "    for y in rows[:-1]:\n",
    "        polygons.append(Polygon([(x,y), (x+wide, y), (x+wide, y+length), (x, y+length)]))\n",
    "\n",
    "grid = gpd.GeoDataFrame({'geometry':polygons})\n",
    "grid.to_file(\"grid.shp\")\n",
    "# grid.plot()"
   ]
  },
  {
   "cell_type": "code",
   "execution_count": 13,
   "id": "fcc2e530",
   "metadata": {},
   "outputs": [
    {
     "data": {
      "text/plain": [
       "<AxesSubplot:>"
      ]
     },
     "execution_count": 13,
     "metadata": {},
     "output_type": "execute_result"
    },
    {
     "data": {
      "image/png": "[encoded data removed]",
      "text/plain": [
       "<Figure size 432x288 with 1 Axes>"
      ]
     },
     "metadata": {
      "needs_background": "light"
     },
     "output_type": "display_data"
    }
   ],
   "source": [
    "grid.plot(ax = gdf_dav.plot(color='blue'), color='none', edgecolor='red')"
   ]
  },
  {
   "cell_type": "code",
   "execution_count": 102,
   "id": "9eb357d4",
   "metadata": {},
   "outputs": [
    {
     "data": {
      "text/html": [
       "<div>\n",
       "<style scoped>\n",
       "    .dataframe tbody tr th:only-of-type {\n",
       "        vertical-align: middle;\n",
       "    }\n",
       "\n",
       "    .dataframe tbody tr th {\n",
       "        vertical-align: top;\n",
       "    }\n",
       "\n",
       "    .dataframe thead th {\n",
       "        text-align: right;\n",
       "    }\n",
       "</style>\n",
       "<table border=\"1\" class=\"dataframe\">\n",
       "  <thead>\n",
       "    <tr style=\"text-align: right;\">\n",
       "      <th></th>\n",
       "      <th>ID_Original</th>\n",
       "      <th>latitude</th>\n",
       "      <th>longitude</th>\n",
       "      <th>emdCardNumber</th>\n",
       "      <th>time_utc</th>\n",
       "      <th>fireZone</th>\n",
       "      <th>time</th>\n",
       "      <th>time_local</th>\n",
       "      <th>response_time_sec</th>\n",
       "      <th>year</th>\n",
       "      <th>month</th>\n",
       "      <th>day</th>\n",
       "      <th>day_of_week</th>\n",
       "      <th>weekend_or_not</th>\n",
       "      <th>hour</th>\n",
       "      <th>window</th>\n",
       "      <th>geometry</th>\n",
       "      <th>Incident_ID</th>\n",
       "      <th>Dist_to_Seg</th>\n",
       "      <th>XDSegID</th>\n",
       "    </tr>\n",
       "  </thead>\n",
       "  <tbody>\n",
       "    <tr>\n",
       "      <th>0</th>\n",
       "      <td>ObjectId(59d3a81908f47311c891f8e2)</td>\n",
       "      <td>36.037228</td>\n",
       "      <td>-86.783243</td>\n",
       "      <td>29B5</td>\n",
       "      <td>1483257569507</td>\n",
       "      <td>10</td>\n",
       "      <td>1483257569507</td>\n",
       "      <td>1483235969507</td>\n",
       "      <td>268.0</td>\n",
       "      <td>2017</td>\n",
       "      <td>1</td>\n",
       "      <td>1</td>\n",
       "      <td>6</td>\n",
       "      <td>1</td>\n",
       "      <td>1</td>\n",
       "      <td>23</td>\n",
       "      <td>POINT (-86.78324 36.03723)</td>\n",
       "      <td>10</td>\n",
       "      <td>13.550370</td>\n",
       "      <td>1.524394e+09</td>\n",
       "    </tr>\n",
       "    <tr>\n",
       "      <th>1</th>\n",
       "      <td>ObjectId(59d3a81908f47311c891f8e6)</td>\n",
       "      <td>36.037414</td>\n",
       "      <td>-86.786572</td>\n",
       "      <td>29D2P</td>\n",
       "      <td>1483259455000</td>\n",
       "      <td>10</td>\n",
       "      <td>1483259455000</td>\n",
       "      <td>1483237855000</td>\n",
       "      <td>512.0</td>\n",
       "      <td>2017</td>\n",
       "      <td>1</td>\n",
       "      <td>1</td>\n",
       "      <td>6</td>\n",
       "      <td>1</td>\n",
       "      <td>2</td>\n",
       "      <td>30</td>\n",
       "      <td>POINT (-86.78657 36.03741)</td>\n",
       "      <td>11</td>\n",
       "      <td>3.663952</td>\n",
       "      <td>1.524356e+09</td>\n",
       "    </tr>\n",
       "    <tr>\n",
       "      <th>2</th>\n",
       "      <td>ObjectId(59d3a81a08f47311c891f8ef)</td>\n",
       "      <td>36.217663</td>\n",
       "      <td>-86.808699</td>\n",
       "      <td>29D1H</td>\n",
       "      <td>1483263310000</td>\n",
       "      <td>25</td>\n",
       "      <td>1483263310000</td>\n",
       "      <td>1483241710000</td>\n",
       "      <td>271.0</td>\n",
       "      <td>2017</td>\n",
       "      <td>1</td>\n",
       "      <td>1</td>\n",
       "      <td>6</td>\n",
       "      <td>1</td>\n",
       "      <td>3</td>\n",
       "      <td>43</td>\n",
       "      <td>POINT (-86.80870 36.21766)</td>\n",
       "      <td>12</td>\n",
       "      <td>NaN</td>\n",
       "      <td>NaN</td>\n",
       "    </tr>\n",
       "    <tr>\n",
       "      <th>3</th>\n",
       "      <td>ObjectId(59d3a81a08f47311c891f8f9)</td>\n",
       "      <td>36.057790</td>\n",
       "      <td>-86.739728</td>\n",
       "      <td>29D8V</td>\n",
       "      <td>1483266571867</td>\n",
       "      <td>10</td>\n",
       "      <td>1483266571867</td>\n",
       "      <td>1483244971867</td>\n",
       "      <td>366.0</td>\n",
       "      <td>2017</td>\n",
       "      <td>1</td>\n",
       "      <td>1</td>\n",
       "      <td>6</td>\n",
       "      <td>1</td>\n",
       "      <td>4</td>\n",
       "      <td>53</td>\n",
       "      <td>POINT (-86.73973 36.05779)</td>\n",
       "      <td>13</td>\n",
       "      <td>NaN</td>\n",
       "      <td>NaN</td>\n",
       "    </tr>\n",
       "    <tr>\n",
       "      <th>4</th>\n",
       "      <td>ObjectId(59d3a81a08f47311c891f904)</td>\n",
       "      <td>36.039221</td>\n",
       "      <td>-86.602785</td>\n",
       "      <td>29A2V</td>\n",
       "      <td>1483268953000</td>\n",
       "      <td>33</td>\n",
       "      <td>1483268953000</td>\n",
       "      <td>1483247353000</td>\n",
       "      <td>447.0</td>\n",
       "      <td>2017</td>\n",
       "      <td>1</td>\n",
       "      <td>1</td>\n",
       "      <td>6</td>\n",
       "      <td>1</td>\n",
       "      <td>5</td>\n",
       "      <td>61</td>\n",
       "      <td>POINT (-86.60279 36.03922)</td>\n",
       "      <td>14</td>\n",
       "      <td>3.171782</td>\n",
       "      <td>4.496208e+08</td>\n",
       "    </tr>\n",
       "  </tbody>\n",
       "</table>\n",
       "</div>"
      ],
      "text/plain": [
       "                          ID_Original   latitude  longitude emdCardNumber  \\\n",
       "0  ObjectId(59d3a81908f47311c891f8e2)  36.037228 -86.783243          29B5   \n",
       "1  ObjectId(59d3a81908f47311c891f8e6)  36.037414 -86.786572         29D2P   \n",
       "2  ObjectId(59d3a81a08f47311c891f8ef)  36.217663 -86.808699         29D1H   \n",
       "3  ObjectId(59d3a81a08f47311c891f8f9)  36.057790 -86.739728         29D8V   \n",
       "4  ObjectId(59d3a81a08f47311c891f904)  36.039221 -86.602785         29A2V   \n",
       "\n",
       "        time_utc fireZone           time     time_local  response_time_sec  \\\n",
       "0  1483257569507       10  1483257569507  1483235969507              268.0   \n",
       "1  1483259455000       10  1483259455000  1483237855000              512.0   \n",
       "2  1483263310000       25  1483263310000  1483241710000              271.0   \n",
       "3  1483266571867       10  1483266571867  1483244971867              366.0   \n",
       "4  1483268953000       33  1483268953000  1483247353000              447.0   \n",
       "\n",
       "   year  month  day  day_of_week  weekend_or_not  hour  window  \\\n",
       "0  2017      1    1            6               1     1      23   \n",
       "1  2017      1    1            6               1     2      30   \n",
       "2  2017      1    1            6               1     3      43   \n",
       "3  2017      1    1            6               1     4      53   \n",
       "4  2017      1    1            6               1     5      61   \n",
       "\n",
       "                     geometry  Incident_ID  Dist_to_Seg       XDSegID  \n",
       "0  POINT (-86.78324 36.03723)           10    13.550370  1.524394e+09  \n",
       "1  POINT (-86.78657 36.03741)           11     3.663952  1.524356e+09  \n",
       "2  POINT (-86.80870 36.21766)           12          NaN           NaN  \n",
       "3  POINT (-86.73973 36.05779)           13          NaN           NaN  \n",
       "4  POINT (-86.60279 36.03922)           14     3.171782  4.496208e+08  "
      ]
     },
     "execution_count": 102,
     "metadata": {},
     "output_type": "execute_result"
    }
   ],
   "source": [
    "df_incidents = pd.read_json(\"incident.json\")\n",
    "gdf_incidents2 = gpd.GeoDataFrame(\n",
    "    df_incidents, geometry=gpd.points_from_xy(df_incidents.longitude, df_incidents.latitude))\n",
    "incidents = gdf_incidents2.set_crs(\"EPSG:4326\")\n",
    "incidents.head()"
   ]
  },
  {
   "cell_type": "code",
   "execution_count": 272,
   "id": "cfb4d60f",
   "metadata": {},
   "outputs": [],
   "source": [
    "# dav_grids = gpd.overlay(gdf_dav, grid, how='intersection')\n",
    "# dav_grids.plot()"
   ]
  },
  {
   "cell_type": "code",
   "execution_count": 19,
   "id": "72272772",
   "metadata": {},
   "outputs": [
    {
     "data": {
      "text/plain": [
       "<Projected CRS: EPSG:2274>\n",
       "Name: NAD83 / Tennessee (ftUS)\n",
       "Axis Info [cartesian]:\n",
       "- X[east]: Easting (US survey foot)\n",
       "- Y[north]: Northing (US survey foot)\n",
       "Area of Use:\n",
       "- name: United States (USA) - Tennessee - counties of Anderson; Bedford; Benton; Bledsoe; Blount; Bradley; Campbell; Cannon; Carroll; Carter; Cheatham; Chester; Claiborne; Clay; Cocke; Coffee; Crockett; Cumberland; Davidson; De Kalb; Decatur; Dickson; Dyer; Fayette; Fentress; Franklin; Gibson; Giles; Grainger; Greene; Grundy; Hamblen; Hamilton; Hancock; Hardeman; Hardin; Hawkins; Haywood; Henderson; Henry; Hickman; Houston; Humphreys; Jackson; Jefferson; Johnson; Knox; Lake; Lauderdale; Lawrence; Lewis; Lincoln; Loudon; Macon; Madison; Marion; Marshall; Maury; McMinn; McNairy; Meigs; Monroe; Montgomery; Moore; Morgan; Obion; Overton; Perry; Pickett; Polk; Putnam; Rhea; Roane; Robertson; Rutherford; Scott; Sequatchie; Sevier; Shelby; Smith; Stewart; Sullivan; Sumner; Tipton; Trousdale; Unicoi; Union; Van Buren; Warren; Washington; Wayne; Weakley; White; Williamson; Wilson.\n",
       "- bounds: (-90.31, 34.98, -81.65, 36.68)\n",
       "Coordinate Operation:\n",
       "- name: SPCS83 Tennessee zone (US Survey feet)\n",
       "- method: Lambert Conic Conformal (2SP)\n",
       "Datum: North American Datum 1983\n",
       "- Ellipsoid: GRS 1980\n",
       "- Prime Meridian: Greenwich"
      ]
     },
     "execution_count": 19,
     "metadata": {},
     "output_type": "execute_result"
    }
   ],
   "source": [
    "grids = grid.set_crs(\"EPSG:2274\")\n",
    "grids.crs"
   ]
  },
  {
   "cell_type": "code",
   "execution_count": 273,
   "id": "3099fae5",
   "metadata": {},
   "outputs": [
    {
     "data": {
      "image/png": "[encoded data removed]",
      "text/plain": [
       "<Figure size 720x720 with 1 Axes>"
      ]
     },
     "metadata": {
      "needs_background": "light"
     },
     "output_type": "display_data"
    },
    {
     "data": {
      "text/plain": [
       "(604, 8)"
      ]
     },
     "execution_count": 273,
     "metadata": {},
     "output_type": "execute_result"
    }
   ],
   "source": [
    "dav_grids = gpd.overlay(gdf_dav, grids, how='intersection')\n",
    "dav_grids.plot(figsize=(10, 10))\n",
    "plt.show()\n",
    "dav_grids.shape"
   ]
  },
  {
   "cell_type": "code",
   "execution_count": 21,
   "id": "86021f07",
   "metadata": {},
   "outputs": [],
   "source": [
    "dav_grids['row_num'] = np.arange(len(dav_grids))"
   ]
  },
  {
   "cell_type": "code",
   "execution_count": 25,
   "id": "856fe5c7",
   "metadata": {},
   "outputs": [],
   "source": [
    "dav_grids2 = dav_grids.to_crs(\"EPSG:4326\")"
   ]
  },
  {
   "cell_type": "code",
   "execution_count": 26,
   "id": "c021d611",
   "metadata": {},
   "outputs": [
    {
     "data": {
      "text/plain": [
       "<AxesSubplot:>"
      ]
     },
     "execution_count": 26,
     "metadata": {},
     "output_type": "execute_result"
    },
    {
     "data": {
      "image/png": "[encoded data removed]",
      "text/plain": [
       "<Figure size 432x288 with 1 Axes>"
      ]
     },
     "metadata": {
      "needs_background": "light"
     },
     "output_type": "display_data"
    }
   ],
   "source": [
    "dav_grids2.plot()"
   ]
  },
  {
   "cell_type": "code",
   "execution_count": 27,
   "id": "2eea1a14",
   "metadata": {},
   "outputs": [
    {
     "data": {
      "text/html": [
       "<div>\n",
       "<style scoped>\n",
       "    .dataframe tbody tr th:only-of-type {\n",
       "        vertical-align: middle;\n",
       "    }\n",
       "\n",
       "    .dataframe tbody tr th {\n",
       "        vertical-align: top;\n",
       "    }\n",
       "\n",
       "    .dataframe thead th {\n",
       "        text-align: right;\n",
       "    }\n",
       "</style>\n",
       "<table border=\"1\" class=\"dataframe\">\n",
       "  <thead>\n",
       "    <tr style=\"text-align: right;\">\n",
       "      <th></th>\n",
       "      <th>AREA</th>\n",
       "      <th>PERIMETER</th>\n",
       "      <th>TNCODD_</th>\n",
       "      <th>TNCODD_ID</th>\n",
       "      <th>INDEX_NO</th>\n",
       "      <th>COUNTY</th>\n",
       "      <th>STATE</th>\n",
       "      <th>geometry</th>\n",
       "      <th>row_num</th>\n",
       "    </tr>\n",
       "  </thead>\n",
       "  <tbody>\n",
       "    <tr>\n",
       "      <th>0</th>\n",
       "      <td>0.136355</td>\n",
       "      <td>2.063989</td>\n",
       "      <td>32</td>\n",
       "      <td>30</td>\n",
       "      <td>63</td>\n",
       "      <td>Davidson</td>\n",
       "      <td>TN</td>\n",
       "      <td>POLYGON ((-87.03922 35.98939, -87.04042 35.993...</td>\n",
       "      <td>0</td>\n",
       "    </tr>\n",
       "    <tr>\n",
       "      <th>1</th>\n",
       "      <td>0.136355</td>\n",
       "      <td>2.063989</td>\n",
       "      <td>32</td>\n",
       "      <td>30</td>\n",
       "      <td>63</td>\n",
       "      <td>Davidson</td>\n",
       "      <td>TN</td>\n",
       "      <td>POLYGON ((-87.04103 35.99633, -87.04244 36.001...</td>\n",
       "      <td>1</td>\n",
       "    </tr>\n",
       "    <tr>\n",
       "      <th>2</th>\n",
       "      <td>0.136355</td>\n",
       "      <td>2.063989</td>\n",
       "      <td>32</td>\n",
       "      <td>30</td>\n",
       "      <td>63</td>\n",
       "      <td>Davidson</td>\n",
       "      <td>TN</td>\n",
       "      <td>POLYGON ((-87.04592 36.01500, -87.04780 36.022...</td>\n",
       "      <td>2</td>\n",
       "    </tr>\n",
       "    <tr>\n",
       "      <th>3</th>\n",
       "      <td>0.136355</td>\n",
       "      <td>2.063989</td>\n",
       "      <td>32</td>\n",
       "      <td>30</td>\n",
       "      <td>63</td>\n",
       "      <td>Davidson</td>\n",
       "      <td>TN</td>\n",
       "      <td>POLYGON ((-87.04958 36.02909, -87.05145 36.036...</td>\n",
       "      <td>3</td>\n",
       "    </tr>\n",
       "    <tr>\n",
       "      <th>4</th>\n",
       "      <td>0.136355</td>\n",
       "      <td>2.063989</td>\n",
       "      <td>32</td>\n",
       "      <td>30</td>\n",
       "      <td>63</td>\n",
       "      <td>Davidson</td>\n",
       "      <td>TN</td>\n",
       "      <td>POLYGON ((-87.05207 36.03851, -87.05333 36.043...</td>\n",
       "      <td>4</td>\n",
       "    </tr>\n",
       "    <tr>\n",
       "      <th>...</th>\n",
       "      <td>...</td>\n",
       "      <td>...</td>\n",
       "      <td>...</td>\n",
       "      <td>...</td>\n",
       "      <td>...</td>\n",
       "      <td>...</td>\n",
       "      <td>...</td>\n",
       "      <td>...</td>\n",
       "      <td>...</td>\n",
       "    </tr>\n",
       "    <tr>\n",
       "      <th>599</th>\n",
       "      <td>0.136355</td>\n",
       "      <td>2.063989</td>\n",
       "      <td>32</td>\n",
       "      <td>30</td>\n",
       "      <td>63</td>\n",
       "      <td>Davidson</td>\n",
       "      <td>TN</td>\n",
       "      <td>POLYGON ((-86.53578 36.13838, -86.53350 36.137...</td>\n",
       "      <td>599</td>\n",
       "    </tr>\n",
       "    <tr>\n",
       "      <th>600</th>\n",
       "      <td>0.000005</td>\n",
       "      <td>0.010867</td>\n",
       "      <td>51</td>\n",
       "      <td>99</td>\n",
       "      <td>63</td>\n",
       "      <td>Davidson</td>\n",
       "      <td>TN</td>\n",
       "      <td>POLYGON ((-86.52341 36.13752, -86.52274 36.140...</td>\n",
       "      <td>600</td>\n",
       "    </tr>\n",
       "    <tr>\n",
       "      <th>601</th>\n",
       "      <td>0.136355</td>\n",
       "      <td>2.063989</td>\n",
       "      <td>32</td>\n",
       "      <td>30</td>\n",
       "      <td>63</td>\n",
       "      <td>Davidson</td>\n",
       "      <td>TN</td>\n",
       "      <td>POLYGON ((-86.51764 36.08397, -86.51927 36.084...</td>\n",
       "      <td>601</td>\n",
       "    </tr>\n",
       "    <tr>\n",
       "      <th>602</th>\n",
       "      <td>0.136355</td>\n",
       "      <td>2.063989</td>\n",
       "      <td>32</td>\n",
       "      <td>30</td>\n",
       "      <td>63</td>\n",
       "      <td>Davidson</td>\n",
       "      <td>TN</td>\n",
       "      <td>POLYGON ((-86.51678 36.09155, -86.51759 36.084...</td>\n",
       "      <td>602</td>\n",
       "    </tr>\n",
       "    <tr>\n",
       "      <th>603</th>\n",
       "      <td>0.136355</td>\n",
       "      <td>2.063989</td>\n",
       "      <td>32</td>\n",
       "      <td>30</td>\n",
       "      <td>63</td>\n",
       "      <td>Davidson</td>\n",
       "      <td>TN</td>\n",
       "      <td>POLYGON ((-86.51826 36.10265, -86.51601 36.100...</td>\n",
       "      <td>603</td>\n",
       "    </tr>\n",
       "  </tbody>\n",
       "</table>\n",
       "<p>604 rows × 9 columns</p>\n",
       "</div>"
      ],
      "text/plain": [
       "         AREA  PERIMETER  TNCODD_  TNCODD_ID  INDEX_NO    COUNTY STATE  \\\n",
       "0    0.136355   2.063989       32         30        63  Davidson    TN   \n",
       "1    0.136355   2.063989       32         30        63  Davidson    TN   \n",
       "2    0.136355   2.063989       32         30        63  Davidson    TN   \n",
       "3    0.136355   2.063989       32         30        63  Davidson    TN   \n",
       "4    0.136355   2.063989       32         30        63  Davidson    TN   \n",
       "..        ...        ...      ...        ...       ...       ...   ...   \n",
       "599  0.136355   2.063989       32         30        63  Davidson    TN   \n",
       "600  0.000005   0.010867       51         99        63  Davidson    TN   \n",
       "601  0.136355   2.063989       32         30        63  Davidson    TN   \n",
       "602  0.136355   2.063989       32         30        63  Davidson    TN   \n",
       "603  0.136355   2.063989       32         30        63  Davidson    TN   \n",
       "\n",
       "                                              geometry  row_num  \n",
       "0    POLYGON ((-87.03922 35.98939, -87.04042 35.993...        0  \n",
       "1    POLYGON ((-87.04103 35.99633, -87.04244 36.001...        1  \n",
       "2    POLYGON ((-87.04592 36.01500, -87.04780 36.022...        2  \n",
       "3    POLYGON ((-87.04958 36.02909, -87.05145 36.036...        3  \n",
       "4    POLYGON ((-87.05207 36.03851, -87.05333 36.043...        4  \n",
       "..                                                 ...      ...  \n",
       "599  POLYGON ((-86.53578 36.13838, -86.53350 36.137...      599  \n",
       "600  POLYGON ((-86.52341 36.13752, -86.52274 36.140...      600  \n",
       "601  POLYGON ((-86.51764 36.08397, -86.51927 36.084...      601  \n",
       "602  POLYGON ((-86.51678 36.09155, -86.51759 36.084...      602  \n",
       "603  POLYGON ((-86.51826 36.10265, -86.51601 36.100...      603  \n",
       "\n",
       "[604 rows x 9 columns]"
      ]
     },
     "execution_count": 27,
     "metadata": {},
     "output_type": "execute_result"
    }
   ],
   "source": [
    "dav_grids2"
   ]
  },
  {
   "cell_type": "code",
   "execution_count": 85,
   "id": "cabf84ef",
   "metadata": {},
   "outputs": [],
   "source": [
    "joined2 = incidents.sjoin(dav_grids2, how=\"right\")"
   ]
  },
  {
   "cell_type": "code",
   "execution_count": 29,
   "id": "cd537fbf",
   "metadata": {},
   "outputs": [
    {
     "data": {
      "text/plain": [
       "604"
      ]
     },
     "execution_count": 29,
     "metadata": {},
     "output_type": "execute_result"
    }
   ],
   "source": [
    "joined2['row_num'].nunique()"
   ]
  },
  {
   "cell_type": "code",
   "execution_count": 204,
   "id": "0c1a5173",
   "metadata": {},
   "outputs": [
    {
     "data": {
      "text/plain": [
       "1483255752000"
      ]
     },
     "execution_count": 204,
     "metadata": {},
     "output_type": "execute_result"
    }
   ],
   "source": [
    "incidents.time_local[8]"
   ]
  },
  {
   "cell_type": "code",
   "execution_count": 195,
   "id": "366fc6aa",
   "metadata": {},
   "outputs": [
    {
     "name": "stdout",
     "output_type": "stream",
     "text": [
      "dt_object = 2017-01-01 00:00:00\n"
     ]
    }
   ],
   "source": [
    "from datetime import datetime\n",
    "\n",
    "timestamp = 1483250400.000\n",
    "#1483247353.000\n",
    "#1483241710.000\n",
    "#1483237855.000\n",
    "#1483235969.507\n",
    "# 1492677023.000\n",
    "dt_object = datetime.fromtimestamp(timestamp)\n",
    "\n",
    "print(\"dt_object =\", dt_object)"
   ]
  },
  {
   "cell_type": "code",
   "execution_count": 31,
   "id": "2689d764",
   "metadata": {},
   "outputs": [],
   "source": [
    "# joined2.dropna(subset = [\"index_left\"], inplace=True)"
   ]
  },
  {
   "cell_type": "code",
   "execution_count": 32,
   "id": "e540da6d",
   "metadata": {},
   "outputs": [],
   "source": [
    "joined2.row_num.value_counts()"
   ]
  },
  {
   "cell_type": "code",
   "execution_count": 62,
   "id": "82d4a682",
   "metadata": {},
   "outputs": [],
   "source": [
    "inc_grids = pd.Series.tolist(joined2.row_num.value_counts())"
   ]
  },
  {
   "cell_type": "code",
   "execution_count": 44,
   "id": "6ca6c0c7",
   "metadata": {},
   "outputs": [],
   "source": [
    "inc_index = list(inc_grids.index)"
   ]
  },
  {
   "cell_type": "code",
   "execution_count": 40,
   "id": "6cf8b3bc",
   "metadata": {},
   "outputs": [],
   "source": [
    "inc_index.sort()"
   ]
  },
  {
   "cell_type": "code",
   "execution_count": 90,
   "id": "f38732c3",
   "metadata": {},
   "outputs": [
    {
     "data": {
      "text/plain": [
       "<AxesSubplot:>"
      ]
     },
     "execution_count": 90,
     "metadata": {},
     "output_type": "execute_result"
    },
    {
     "data": {
      "image/png": "[encoded data removed]",
      "text/plain": [
       "<Figure size 432x288 with 1 Axes>"
      ]
     },
     "metadata": {
      "needs_background": "light"
     },
     "output_type": "display_data"
    }
   ],
   "source": [
    "joined = joined2\n",
    "joined2.plot()\n"
   ]
  },
  {
   "cell_type": "code",
   "execution_count": 87,
   "id": "f1611b5f",
   "metadata": {},
   "outputs": [],
   "source": [
    "# dax = dav_grids2.plot(figsize=(20, 20))\n",
    "# joined2[joined2.row_num == 299].plot(ax = dax, figsize=(20, 20), color='red')"
   ]
  },
  {
   "cell_type": "code",
   "execution_count": 88,
   "id": "f46286f0",
   "metadata": {},
   "outputs": [],
   "source": [
    "# dav_grids2[\"no_of_incidents\"] = 0\n",
    "# dav_grids2.head()"
   ]
  },
  {
   "cell_type": "code",
   "execution_count": 89,
   "id": "956c5261",
   "metadata": {},
   "outputs": [],
   "source": [
    "# dav_grids2[\"row_num\"][299] == inc_index[0]\n",
    "# inc_index"
   ]
  },
  {
   "cell_type": "code",
   "execution_count": 78,
   "id": "29420792",
   "metadata": {},
   "outputs": [
    {
     "name": "stderr",
     "output_type": "stream",
     "text": [
      "C:\\Users\\risha\\AppData\\Local\\Programs\\Python\\Python37\\lib\\site-packages\\ipykernel_launcher.py:6: SettingWithCopyWarning: \n",
      "A value is trying to be set on a copy of a slice from a DataFrame\n",
      "\n",
      "See the caveats in the documentation: https://pandas.pydata.org/pandas-docs/stable/user_guide/indexing.html#returning-a-view-versus-a-copy\n",
      "  \n"
     ]
    }
   ],
   "source": [
    "for i in range(len(inc_index)):\n",
    "#     print(i)\n",
    "    for j in range(joined.shape[0]):\n",
    "#         print(j)\n",
    "        if (joined[\"row_num\"][j] == inc_index[i]):\n",
    "            joined[\"no_of_incidents\"][j]= inc_grids[i]\n",
    "        \n",
    "        "
   ]
  },
  {
   "cell_type": "code",
   "execution_count": 117,
   "id": "cda34ed8",
   "metadata": {},
   "outputs": [
    {
     "data": {
      "text/plain": [
       "<AxesSubplot:>"
      ]
     },
     "execution_count": 117,
     "metadata": {},
     "output_type": "execute_result"
    },
    {
     "data": {
      "image/png": "[encoded data removed]",
      "text/plain": [
       "<Figure size 720x720 with 2 Axes>"
      ]
     },
     "metadata": {
      "needs_background": "light"
     },
     "output_type": "display_data"
    }
   ],
   "source": [
    "joined.plot(column='no_of_incidents', legend=True, figsize=(10, 10))"
   ]
  },
  {
   "cell_type": "code",
   "execution_count": 266,
   "id": "54328352",
   "metadata": {},
   "outputs": [
    {
     "name": "stdout",
     "output_type": "stream",
     "text": [
      "9126\n"
     ]
    }
   ],
   "source": [
    "import math\n",
    "start_time = 1483250400000 # 2017-01-01 00:00:00\n",
    "end_time = 1614671157253 # 2021-03-02 01:45:57.253000\n",
    "curr_time = start_time/1000\n",
    "# print(start_time/1000)\n",
    "\n",
    "incidents_per_month = [0 for i in range(int(math.ceil((end_time - start_time)/1000)/2592000)+1)]\n",
    "incidents_per_day = [0 for i in range(int(math.ceil((end_time - start_time)/1000)/86400))]\n",
    "incidents_per_4hrs = [0 for i in range(int(math.ceil((end_time - start_time)/1000)/14400))]\n",
    "print(int(math.ceil((end_time - start_time)/1000)/14400))"
   ]
  },
  {
   "cell_type": "code",
   "execution_count": 267,
   "id": "96fd2e3e",
   "metadata": {},
   "outputs": [
    {
     "name": "stdout",
     "output_type": "stream",
     "text": [
      "9125\n",
      "[4, 5, 1, 1, 2, 1, 4, 5, 3, 0, 2, 10, 6, 15, 5, 0, 1, 1, 5, 5, 3, 0, 0, 2, 1, 8, 0, 0, 6, 31, 12, 5, 5, 0, 0, 0, 0, 5, 1, 0, 0, 0, 1, 6, 1, 0, 0, 2, 3, 8, 0, 0, 0, 4, 0, 7, 5, 4, 6, 3, 0, 5, 3, 0, 7, 1, 9, 5, 3, 0, 0, 3, 4, 3, 1, 2, 1, 0, 1, 7, 3, 3, 2, 1, 2, 7, 3, 0, 1, 1, 11, 5, 3, 1, 5, 4, 2, 10, 6, 1, 1, 6, 2, 1, 1, 0, 5, 5, 10, 8, 5, 0, 0, 4, 4, 8, 1, 0, 0, 3, 4, 4, 6, 5, 2, 3, 2, 4, 2, 1, 0, 0, 0, 7, 1, 0, 0, 0, 4, 4, 0, 0, 1, 0, 0, 6, 1, 0, 0, 2, 2, 3, 3, 1, 3, 5, 5, 11, 6, 0, 1, 3, 2, 0, 3, 0, 0, 1, 1, 5, 2, 0, 3, 2, 2, 6, 1, 0, 0, 6, 4, 5, 1, 0, 2, 1, 5, 8, 0, 0, 0, 2, 4, 4, 1, 0, 2, 2, 4, 5, 6, 3, 0, 2, 6, 5, 0, 2, 1, 3, 3, 1, 1, 2, 2, 6, 1, 1, 0, 0, 3, 3, 4, 4, 4, 0, 1, 2, 3, 3, 1, 0, 2, 7, 5, 7, 1, 0, 3, 6, 4, 8, 3, 2, 0, 0, 2, 4, 1, 3, 0, 0, 0, 1, 1, 0, 1, 1, 5, 4, 0, 0, 0, 3, 5, 9, 4, 1, 0, 5, 5, 6, 7, 0, 0, 2, 4, 6, 0, 0, 5, 6, 4, 9, 4, 0, 1, 6, 5, 3, 1, 4, 1, 3, 2, 3, 2, 0, 0, 2, 1, 4, 1, 0, 2, 2, 4, 10, 2, 3, 4, 3, 3, 6, 0, 0, 3, 0, 1, 4, 3, 1, 2, 5, 5, 6, 4, 6, 0, 2, 5, 5, 1, 6, 1, 0, 0, 5, 3, 0, 0, 5, 8, 4, 3, 1, 0, 5, 4, 4, 1, 0, 1, 10, 3, 14, 0, 0, 4, 3, 4, 12, 3, 1, 2, 7, 6, 11, 3, 5, 0, 0, 9, 2, 0, 0, 4, 3, 4, 5, 0, 0, 3, 1, 7, 8, 4, 0, 1, 11, 16, 10, 0, 1, 2, 2, 9, 4, 0, 1, 3, 1, 3, 1, 5, 0, 1, 4, 4, 6, 0, 2, 1, 4, 3, 3, 5, 3, 0, 0, 4, 8, 2, 0, 2, 4, 0, 15, 1, 0, 5, 3, 4, 4, 2, 0, 0, 0, 7, 3, 3, 0, 0, 0, 8, 6, 3, 1, 2, 4, 5, 8, 8, 4, 2, 2, 5, 7, 1, 4, 2, 0, 5, 9, 4, 0, 0, 2, 4, 3, 2, 0, 0, 2, 6, 6, 4, 0, 0, 4, 2, 9, 5, 3, 2, 2, 0, 4, 0, 0, 0, 0, 2, 6, 6, 1, 1, 0, 2, 4, 2, 3, 2, 0, 2, 2, 5, 3, 1, 2, 5, 5, 5, 1, 1, 5, 0, 7, 3, 0, 1, 3, 1, 7, 4, 0, 0, 1, 1, 0, 2, 2, 0, 4, 4, 9, 4, 3, 0, 0, 2, 9, 4, 3, 0, 0, 0, 2, 2, 0, 0, 9, 0, 7, 4, 1, 2, 7, 6, 12, 4, 0, 2, 4, 2, 1, 2, 1, 0, 6, 2, 4, 3, 1, 0, 3, 7, 16, 5, 0, 0, 0, 4, 4, 3, 3, 1, 1, 2, 10, 3, 1, 0, 2, 5, 6, 1, 0, 0, 4, 3, 8, 5, 1, 0, 9, 7, 7, 2, 1, 0, 3, 8, 9, 0, 1, 0, 3, 8, 5, 4, 2, 1, 2, 5, 2, 2, 5, 0, 0, 1, 4, 3, 1, 0, 2, 6, 9, 0, 0, 3, 4, 7, 11, 5, 1, 0, 6, 4, 10, 2, 0, 0, 5, 1, 12, 4, 0, 0, 3, 6, 15, 4, 3, 3, 8, 9, 7, 2, 4, 1, 1, 6, 6, 4, 1, 1, 2, 2, 7, 2, 2, 0, 5, 2, 7, 4, 1, 0, 8, 3, 6, 1, 2, 1, 5, 2, 4, 5, 0, 2, 3, 8, 6, 7, 2, 1, 4, 8, 12, 3, 3, 5, 1, 5, 3, 0, 4, 4, 3, 4, 5, 1, 0, 1, 4, 8, 7, 6, 3, 0, 2, 4, 7, 4, 1, 1, 4, 10, 10, 2, 0, 1, 6, 8, 10, 5, 4, 1, 4, 7, 3, 5, 2, 0, 1, 7, 4, 3, 0, 0, 4, 2, 11, 4, 2, 0, 0, 5, 10, 3, 0, 3, 10, 2, 5, 1, 0, 0, 2, 2, 3, 4, 0, 1, 1, 6, 8, 2, 0, 3, 3, 5, 5, 6, 2, 1, 0, 10, 2, 6, 0, 0, 7, 4, 8, 0, 1, 0, 4, 5, 8, 8, 1, 2, 0, 4, 5, 2, 0, 0, 0, 8, 10, 3, 1, 1, 6, 7, 10, 2, 1, 5, 3, 4, 9, 4, 4, 3, 0, 1, 2, 1, 0, 2, 0, 6, 12, 5, 2, 0, 0, 1, 5, 2, 0, 0, 4, 5, 5, 1, 0, 0, 2, 3, 9, 2, 1, 1, 5, 8, 13, 8, 6, 1, 2, 1, 7, 5, 4, 5, 2, 3, 1, 5, 0, 0, 1, 1, 1, 3, 0, 1, 3, 3, 9, 2, 0, 0, 1, 1, 9, 5, 3, 3, 2, 6, 7, 0, 0, 0, 0, 5, 3, 4, 3, 0, 3, 0, 4, 1, 4, 4, 0, 10, 6, 4, 2, 1, 4, 13, 8, 3, 0, 0, 4, 2, 8, 3, 0, 2, 1, 3, 6, 6, 3, 0, 0, 3, 5, 2, 0, 0, 1, 7, 15, 9, 4, 1, 3, 2, 4, 3, 2, 0, 0, 2, 2, 7, 1, 0, 2, 5, 11, 0, 0, 1, 4, 8, 11, 3, 2, 1, 3, 6, 4, 1, 1, 3, 8, 9, 2, 4, 1, 0, 0, 7, 10, 1, 0, 2, 3, 7, 4, 4, 1, 2, 2, 8, 1, 0, 1, 0, 0, 0, 8, 0, 1, 0, 3, 1, 0, 0, 0, 0, 0, 0, 0, 0, 0, 0, 0, 0, 0, 0, 0, 0, 0, 0, 0, 0, 0, 0, 0, 0, 0, 0, 0, 0, 0, 0, 0, 0, 0, 0, 0, 0, 0, 0, 0, 0, 0, 0, 0, 0, 0, 0, 0, 0, 0, 0, 0, 0, 0, 0, 0, 0, 0, 0, 0, 0, 0, 0, 0, 0, 0, 0, 0, 0, 0, 0, 0, 0, 0, 0, 0, 0, 0, 0, 0, 0, 0, 0, 0, 0, 0, 0, 0, 0, 0, 0, 0, 0, 0, 0, 0, 0, 0, 0, 0, 0, 0, 0, 0, 0, 0, 0, 0, 0, 0, 0, 0, 0, 0, 0, 0, 0, 0, 0, 0, 0, 0, 0, 0, 0, 0, 0, 0, 0, 0, 0, 0, 0, 0, 0, 0, 0, 0, 0, 0, 0, 0, 0, 0, 0, 0, 0, 0, 0, 0, 0, 0, 0, 0, 0, 0, 0, 0, 0, 0, 0, 0, 0, 0, 0, 0, 0, 0, 0, 0, 0, 0, 0, 0, 0, 0, 0, 0, 0, 0, 0, 0, 0, 0, 0, 0, 0, 0, 0, 0, 0, 0, 0, 0, 0, 0, 0, 0, 0, 0, 0, 0, 0, 0, 0, 0, 0, 0, 0, 0, 0, 0, 0, 0, 0, 0, 0, 0, 0, 0, 0, 0, 0, 0, 0, 0, 0, 0, 0, 0, 0, 0, 0, 0, 0, 0, 0, 0, 0, 0, 0, 0, 0, 0, 0, 0, 0, 0, 0, 0, 0, 0, 0, 0, 0, 0, 0, 0, 0, 0, 0, 0, 0, 0, 0, 0, 0, 0, 0, 0, 0, 0, 0, 0, 0, 0, 0, 0, 0, 0, 0, 0, 0, 0, 0, 0, 0, 0, 0, 0, 0, 0, 0, 0, 0, 0, 0, 0, 0, 0, 0, 0, 0, 0, 0, 0, 0, 0, 0, 0, 0, 0, 0, 0, 0, 0, 0, 0, 0, 0, 0, 0, 0, 0, 0, 0, 0, 0, 0, 0, 0, 0, 0, 0, 0, 0, 0, 0, 0, 0, 0, 0, 0, 0, 0, 0, 0, 0, 0, 0, 0, 0, 0, 0, 0, 0, 0, 0, 0, 0, 0, 0, 0, 0, 0, 0, 0, 0, 0, 0, 0, 0, 0, 0, 0, 0, 0, 0, 0, 0, 0, 0, 0, 0, 0, 0, 0, 0, 0, 0, 0, 0, 0, 0, 0, 0, 0, 0, 0, 0, 0, 0, 0, 0, 0, 0, 0, 0, 0, 0, 0, 0, 0, 0, 0, 0, 0, 0, 0, 0, 0, 0, 0, 0, 0, 0, 0, 0, 0, 0, 0, 0, 0, 0, 0, 0, 0, 0, 0, 0, 0, 0, 0, 0, 0, 0, 0, 0, 0, 0, 0, 0, 0, 0, 0, 0, 0, 0, 0, 0, 0, 0, 0, 0, 0, 0, 0, 0, 0, 0, 0, 0, 0, 0, 0, 0, 0, 0, 0, 0, 0, 0, 0, 0, 0, 0, 0, 0, 0, 0, 0, 0, 0, 0, 0, 0, 0, 0, 0, 0, 0, 0, 0, 0, 0, 0, 0, 0, 0, 0, 0, 0, 0, 0, 0, 0, 0, 0, 0, 0, 0, 0, 0, 0, 0, 0, 0, 0, 0, 0, 0, 0, 0, 0, 0, 0, 0, 0, 0, 0, 0, 0, 0, 0, 0, 0, 0, 0, 0, 0, 0, 0, 0, 0, 0, 0, 0, 0, 0, 0, 0, 0, 0, 0, 0, 0, 0, 0, 0, 0, 0, 0, 0, 0, 0, 0, 0, 0, 0, 0, 0, 0, 0, 0, 0, 0, 0, 0, 0, 0, 0, 0, 0, 0, 0, 0, 0, 0, 0, 0, 0, 0, 0, 0, 0, 0, 0, 0, 0, 0, 0, 0, 0, 0, 0, 0, 0, 0, 0, 0, 0, 0, 0, 0, 0, 0, 0, 0, 0, 0, 0, 0, 0, 0, 0, 0, 0, 0, 0, 0, 0, 0, 0, 0, 0, 0, 0, 0, 0, 0, 0, 0, 0, 0, 0, 0, 0, 0, 0, 0, 0, 0, 0, 0, 0, 0, 0, 0, 0, 0, 0, 0, 0, 0, 0, 0, 0, 0, 0, 0, 0, 0, 0, 0, 0, 0, 0, 0, 0, 0, 0, 0, 0, 0, 0, 0, 0, 0, 0, 0, 0, 0, 0, 0, 0, 0, 0, 0, 0, 0, 0, 0, 0, 0, 0, 0, 0, 0, 0, 0, 0, 0, 0, 0, 0, 0, 0, 0, 0, 0, 0, 0, 0, 0, 0, 0, 0, 0, 0, 0, 0, 0, 0, 0, 0, 0, 0, 0, 0, 0, 0, 0, 0, 0, 0, 0, 0, 0, 0, 0, 0, 0, 0, 0, 0, 0, 0, 0, 0, 0, 0, 0, 0, 0, 0, 0, 0, 0, 0, 0, 0, 0, 0, 0, 0, 0, 0, 0, 0, 0, 0, 0, 0, 0, 0, 0, 0, 0, 0, 0, 0, 0, 0, 0, 0, 0, 0, 0, 0, 0, 0, 0, 0, 0, 0, 0, 0, 0, 0, 0, 0, 0, 0, 0, 0, 0, 0, 0, 0, 0, 0, 0, 0, 0, 0, 0, 0, 0, 0, 0, 0, 0, 0, 0, 0, 0, 0, 0, 0, 0, 0, 0, 0, 0, 0, 0, 0, 0, 0, 0, 0, 0, 0, 0, 0, 0, 0, 0, 0, 0, 0, 0, 0, 0, 0, 0, 0, 0, 0, 0, 0, 0, 0, 0, 0, 0, 0, 0, 0, 0, 0, 0, 0, 0, 0, 0, 0, 0, 0, 0, 0, 0, 0, 0, 0, 0, 0, 0, 0, 0, 0, 0, 0, 0, 0, 0, 0, 0, 0, 0, 0, 0, 0, 0, 0, 0, 0, 0, 0, 0, 0, 0, 0, 0, 0, 0, 0, 0, 0, 0, 0, 0, 0, 0, 0, 0, 0, 0, 0, 0, 0, 0, 0, 0, 0, 0, 0, 0, 0, 0, 0, 0, 0, 0, 0, 0, 0, 0, 0, 0, 0, 0, 0, 0, 0, 0, 0, 0, 0, 0, 0, 0, 0, 0, 0, 0, 0, 0, 0, 0, 0, 0, 0, 0, 0, 0, 0, 0, 0, 0, 0, 0, 0, 0, 0, 0, 0, 0, 0, 0, 0, 0, 0, 0, 0, 0, 0, 0, 0, 0, 0, 0, 0, 0, 0, 0, 0, 0, 0, 0, 0, 0, 0, 0, 0, 0, 0, 0, 0, 0, 0, 0, 0, 0, 0, 0, 0, 0, 0, 0, 0, 0, 0, 0, 0, 0, 0, 0, 0, 0, 0, 0, 0, 0, 0, 0, 0, 0, 0, 0, 0, 0, 0, 0, 0, 0, 0, 0, 0, 0, 0, 0, 0, 0, 0, 0, 0, 0, 0, 0, 0, 0, 0, 0, 0, 0, 0, 0, 0, 0, 0, 0, 0, 0, 0, 0, 0, 0, 0, 0, 0, 0, 0, 0, 0, 0, 0, 0, 0, 0, 0, 0, 0, 0, 0, 0, 0, 0, 0, 0, 0, 0, 0, 0, 0, 0, 0, 0, 0, 0, 0, 0, 0, 0, 0, 0, 0, 0, 0, 0, 0, 0, 0, 0, 0, 0, 0, 0, 0, 0, 0, 0, 0, 0, 0, 0, 0, 0, 0, 0, 0, 0, 0, 0, 0, 0, 0, 0, 0, 0, 0, 0, 0, 0, 0, 0, 0, 0, 0, 0, 0, 0, 0, 0, 0, 0, 0, 0, 0, 0, 0, 0, 0, 0, 0, 0, 0, 0, 0, 0, 0, 0, 0, 0, 0, 0, 0, 0, 0, 0, 0, 0, 0, 0, 0, 0, 0, 0, 0, 0, 0, 0, 0, 0, 0, 0, 0, 0, 0, 0, 0, 0, 0, 0, 0, 0, 0, 0, 0, 0, 0, 0, 0, 0, 0, 0, 0, 0, 0, 0, 0, 0, 0, 0, 0, 0, 0, 0, 0, 0, 0, 0, 0, 0, 0, 0, 0, 0, 0, 0, 0, 0, 0, 0, 0, 0, 0, 0, 0, 0, 0, 0, 0, 0, 0, 0, 0, 0, 0, 0, 0, 0, 0, 0, 0, 0, 0, 0, 0, 0, 0, 0, 0, 0, 0, 0, 0, 0, 0, 0, 0, 0, 0, 0, 0, 0, 0, 0, 0, 0, 0, 0, 0, 0, 0, 0, 0, 0, 0, 0, 0, 0, 0, 0, 0, 0, 0, 0, 0, 0, 0, 0, 0, 0, 0, 0, 0, 0, 0, 0, 0, 0, 0, 0, 0, 0, 0, 0, 0, 0, 0, 0, 0, 0, 0, 0, 0, 0, 0, 0, 0, 0, 0, 0, 0, 0, 0, 0, 0, 0, 0, 0, 0, 0, 0, 0, 0, 0, 0, 0, 0, 0, 0, 0, 0, 0, 0, 0, 0, 0, 0, 0, 0, 0, 0, 0, 0, 0, 0, 0, 0, 0, 0, 0, 0, 0, 0, 0, 0, 0, 0, 0, 0, 0, 0, 0, 0, 0, 0, 0, 0, 0, 0, 0, 0, 0, 0, 0, 0, 0, 0, 0, 0, 0, 0, 0, 0, 0, 0, 0, 0, 0, 0, 0, 0, 0, 0, 0, 0, 0, 0, 0, 0, 0, 0, 0, 0, 0, 0, 0, 0, 0, 0, 0, 0, 0, 0, 0, 0, 0, 0, 0, 0, 0, 0, 0, 0, 0, 0, 0, 0, 0, 0, 0, 0, 0, 0, 0, 0, 0, 0, 0, 0, 0, 0, 0, 0, 0, 0, 0, 0, 0, 0, 0, 0, 0, 0, 0, 0, 0, 0, 0, 0, 0, 0, 0, 0, 0, 0, 0, 0, 0, 0, 0, 0, 0, 0, 0, 0, 0, 0, 0, 0, 0, 0, 0, 0, 0, 0, 0, 0, 0, 0, 0, 0, 0, 0, 0, 0, 0, 0, 0, 0, 0, 0, 0, 0, 0, 0, 0, 0, 0, 0, 0, 0, 0, 0, 0, 0, 0, 0, 0, 0, 0, 0, 0, 0, 0, 0, 0, 0, 0, 0, 0, 0, 0, 0, 0, 0, 0, 0, 0, 0, 0, 0, 0, 0, 0, 0, 0, 0, 0, 0, 0, 0, 0, 0, 0, 0, 0, 0, 0, 0, 0, 0, 0, 0, 0, 0, 0, 0, 0, 0, 0, 0, 0, 0, 0, 0, 0, 0, 0, 0, 0, 0, 0, 0, 0, 0, 0, 0, 0, 0, 0, 0, 0, 0, 0, 0, 0, 0, 0, 0, 0, 0, 0, 0, 0, 0, 0, 0, 0, 0, 0, 0, 0, 0, 0, 0, 0, 0, 0, 0, 0, 0, 0, 0, 0, 0, 0, 0, 0, 0, 0, 0, 0, 0, 0, 0, 0, 0, 0, 0, 0, 0, 0, 0, 0, 0, 0, 0, 0, 0, 0, 0, 0, 0, 0, 0, 0, 0, 0, 0, 0, 0, 0, 0, 0, 0, 0, 0, 0, 0, 0, 0, 0, 0, 0, 0, 0, 0, 0, 0, 0, 0, 0, 0, 0, 0, 0, 0, 0, 0, 0, 0, 0, 0, 0, 0, 0, 0, 0, 0, 0, 0, 0, 0, 0, 0, 0, 0, 0, 0, 0, 0, 0, 0, 0, 0, 0, 0, 0, 0, 0, 0, 0, 0, 0, 0, 0, 0, 0, 0, 0, 0, 0, 0, 0, 0, 0, 0, 0, 0, 0, 0, 0, 0, 0, 0, 0, 0, 0, 0, 0, 0, 0, 0, 0, 0, 0, 0, 0, 0, 0, 0, 0, 0, 0, 0, 0, 0, 0, 0, 0, 0, 0, 0, 0, 0, 0, 0, 0, 0, 0, 0, 0, 0, 0, 0, 0, 0, 0, 0, 0, 0, 0, 0, 0, 0, 0, 0, 0, 0, 0, 0, 0, 0, 0, 0, 0, 0, 0, 0, 0, 0, 0, 0, 0, 0, 0, 0, 0, 0, 0, 0, 0, 0, 0, 0, 0, 0, 0, 0, 0, 0, 0, 0, 0, 0, 0, 0, 0, 0, 0, 0, 0, 0, 0, 0, 0, 0, 0, 0, 0, 0, 0, 0, 0, 0, 0, 0, 0, 0, 0, 0, 0, 0, 0, 0, 0, 0, 0, 0, 0, 0, 0, 0, 0, 0, 0, 0, 0, 0, 0, 0, 0, 0, 0, 0, 0, 0, 0, 0, 0, 0, 0, 0, 0, 0, 0, 0, 0, 0, 0, 0, 0, 0, 0, 0, 0, 0, 0, 0, 0, 0, 0, 0, 0, 0, 0, 0, 0, 0, 0, 0, 0, 0, 0, 0, 0, 0, 0, 0, 0, 0, 0, 0, 0, 0, 0, 0, 0, 0, 0, 0, 0, 0, 0, 0, 0, 0, 0, 0, 0, 0, 0, 0, 0, 0, 0, 0, 0, 0, 0, 0, 0, 0, 0, 0, 0, 0, 0, 0, 0, 0, 0, 0, 0, 0, 0, 0, 0, 0, 0, 0, 0, 0, 0, 0, 0, 0, 0, 0, 0, 0, 0, 0, 0, 0, 0, 0, 0, 0, 0, 0, 0, 0, 0, 0, 0, 0, 0, 0, 0, 0, 0, 0, 0, 0, 0, 0, 0, 0, 0, 0, 0, 0, 0, 0, 0, 0, 0, 0, 0, 0, 0, 0, 0, 0, 0, 0, 0, 0, 0, 0, 0, 0, 0, 0, 0, 0, 0, 0, 0, 0, 0, 0, 0, 0, 0, 0, 0, 0, 0, 0, 0, 0, 0, 0, 0, 0, 0, 0, 0, 0, 0, 0, 0, 0, 0, 0, 0, 0, 0, 0, 0, 0, 0, 0, 0, 0, 0, 0, 0, 0, 0, 0, 0, 0, 0, 0, 0, 0, 0, 0, 0, 0, 0, 0, 0, 0, 0, 0, 0, 0, 0, 0, 0, 0, 0, 0, 0, 0, 0, 0, 0, 0, 0, 0, 0, 0, 0, 0, 0, 0, 0, 0, 0, 0, 0, 0, 0, 0, 0, 0, 0, 0, 0, 0, 0, 0, 0, 0, 0, 0, 0, 0, 0, 0, 0, 0, 0, 0, 0, 0, 0, 0, 0, 0, 0, 0, 0, 0, 0, 0, 0, 0, 0, 0, 0, 0, 0, 0, 0, 0, 0, 0, 0, 0, 0, 0, 0, 0, 0, 0, 0, 0, 0, 0, 0, 0, 0, 0, 0, 0, 0, 0, 0, 0, 0, 0, 0, 0, 0, 0, 0, 0, 0, 0, 0, 0, 0, 0, 0, 0, 0, 0, 0, 0, 0, 0, 0, 0, 0, 0, 0, 0, 0, 0, 0, 0, 0, 0, 0, 0, 0, 0, 0, 0, 0, 0, 0, 0, 0, 0, 0, 0, 0, 0, 0, 0, 0, 0, 0, 0, 0, 0, 0, 0, 0, 0, 0, 0, 0, 0, 0, 0, 0, 0, 0, 0, 0, 0, 0, 0, 0, 0, 0, 0, 0, 0, 0, 0, 0, 0, 0, 0, 0, 0, 0, 0, 0, 0, 0, 0, 0, 0, 0, 0, 0, 0, 0, 0, 0, 0, 0, 0, 0, 0, 0, 0, 0, 0, 0, 0, 0, 0, 0, 0, 0, 0, 0, 0, 0, 0, 0, 0, 0, 0, 0, 0, 0, 0, 0, 0, 0, 0, 0, 0, 0, 0, 0, 0, 0, 0, 0, 0, 0, 0, 0, 0, 0, 0, 0, 0, 0, 0, 0, 0, 0, 0, 0, 0, 0, 0, 0, 0, 0, 0, 0, 0, 0, 0, 0, 0, 0, 0, 0, 0, 0, 0, 0, 0, 0, 0, 0, 0, 0, 0, 0, 0, 0, 0, 0, 0, 0, 0, 0, 0, 0, 0, 0, 0, 0, 0, 0, 0, 0, 0, 0, 0, 0, 0, 0, 0, 0, 0, 0, 0, 0, 0, 0, 0, 0, 0, 0, 0, 0, 0, 0, 0, 0, 0, 0, 0, 0, 0, 0, 0, 0, 0, 0, 0, 0, 0, 0, 0, 0, 0, 0, 0, 0, 0, 0, 0, 0, 0, 0, 0, 0, 0, 0, 0, 0, 0, 0, 0, 0, 0, 0, 0, 0, 0, 0, 0, 0, 0, 0, 0, 0, 0, 0, 0, 0, 0, 0, 0, 0, 0, 0, 0, 0, 0, 0, 0, 0, 0, 0, 0, 0, 0, 0, 0, 0, 0, 0, 0, 0, 0, 0, 0, 0, 0, 0, 0, 0, 0, 0, 0, 0, 0, 0, 0, 0, 0, 0, 0, 0, 0, 0, 0, 0, 0, 0, 0, 0, 0, 0, 0, 0, 0, 0, 0, 0, 0, 0, 0, 0, 0, 0, 0, 0, 0, 0, 0, 0, 0, 0, 0, 0, 0, 0, 0, 0, 0, 0, 0, 0, 0, 0, 0, 0, 0, 0, 0, 0, 0, 0, 0, 0, 0, 0, 0, 0, 0, 0, 0, 0, 0, 0, 0, 0, 0, 0, 0, 0, 0, 0, 0, 0, 0, 0, 0, 0, 0, 0, 0, 0, 0, 0, 0, 0, 0, 0, 0, 0, 0, 0, 0, 0, 0, 0, 0, 0, 0, 0, 0, 0, 0, 0, 0, 0, 0, 0, 0, 0, 0, 0, 0, 0, 0, 0, 0, 0, 0, 0, 0, 0, 0, 0, 0, 0, 0, 0, 0, 0, 0, 0, 0, 0, 0, 0, 0, 0, 0, 0, 0, 0, 0, 0, 0, 0, 0, 0, 0, 0, 0, 0, 0, 0, 0, 0, 0, 0, 0, 0, 0, 0, 0, 0, 0, 0, 0, 0, 0, 0, 0, 0, 0, 0, 0, 0, 0, 0, 0, 0, 0, 0, 0, 0, 0, 0, 0, 0, 0, 0, 0, 0, 0, 0, 0, 0, 0, 0, 0, 0, 0, 0, 0, 0, 0, 0, 0, 0, 0, 0, 0, 0, 0, 0, 0, 0, 0, 0, 0, 0, 0, 0, 0, 0, 0, 0, 0, 0, 0, 0, 0, 0, 0, 0, 0, 0, 0, 0, 0, 0, 0, 0, 0, 0, 0, 0, 0, 0, 0, 0, 0, 0, 0, 0, 0, 0, 0, 0, 0, 0, 0, 0, 0, 0, 0, 0, 0, 0, 0, 0, 0, 0, 0, 0, 0, 0, 0, 0, 0, 0, 0, 0, 0, 0, 0, 0, 0, 0, 0, 0, 0, 0, 0, 0, 0, 0, 0, 0, 0, 0, 0, 0, 0, 0, 0, 0, 0, 0, 0, 0, 0, 0, 0, 0, 0, 0, 0, 0, 0, 0, 0, 0, 0, 0, 0, 0, 0, 0, 0, 0, 0, 0, 0, 0, 0, 0, 0, 0, 0, 0, 0, 0, 0, 0, 0, 0, 0, 0, 0, 0, 0, 0, 0, 0, 0, 0, 0, 0, 0, 0, 0, 0, 0, 0, 0, 0, 0, 0, 0, 0, 0, 0, 0, 0, 0, 0, 0, 0, 0, 0, 0, 0, 0, 0, 0, 0, 0, 0, 0, 0, 0, 0, 0, 0, 0, 0, 0, 0, 0, 0, 0, 0, 0, 0, 0, 0, 0, 0, 0, 0, 0, 0, 0, 0, 0, 0, 0, 0, 0, 0, 0, 0, 0, 0, 0, 0, 0, 0, 0, 0, 0, 0, 0, 0, 0, 0, 0, 0, 0, 0, 0, 0, 0, 0, 0, 0, 0, 0, 0, 0, 0, 0, 0, 0, 0, 0, 0, 0, 0, 0, 0, 0, 0, 0, 0, 0, 0, 0, 0, 0, 0, 0, 0, 0, 0, 0, 0, 0, 0, 0, 0, 0, 0, 0, 0, 0, 0, 0, 5, 0, 0, 0, 1, 3, 0, 0, 0, 0, 7, 4, 0, 2, 4, 6, 5, 4, 2, 1, 2, 1, 3, 0, 2, 0, 0, 0, 2, 6, 1, 0, 0, 0, 2, 2, 1, 0, 0, 4, 7, 4, 2, 2, 0, 3, 0, 1, 1, 0, 0, 0, 10, 1, 0, 0, 0, 0, 3, 5, 3, 1, 4, 4, 1, 3, 0, 0, 2, 0, 11, 2, 2, 1, 1, 3, 9, 15, 3, 5, 1, 5, 3, 6, 2, 0, 1, 6, 3, 5, 0, 0, 7, 1, 5, 1, 0, 1, 1, 4, 4, 0, 0, 0, 4, 2, 4, 8, 1, 1, 2, 0, 2, 2, 0, 0, 1, 2, 4, 7, 6, 0, 0, 3, 1, 8, 3, 3, 0, 7, 6, 0, 0, 0, 0, 0, 3, 0, 0, 0, 0, 0, 2, 2, 1, 2, 2, 3, 11, 6, 0, 1, 5, 3, 6, 6, 2, 0, 2, 7, 7, 4, 5, 2, 1, 1, 1, 4, 3, 3, 2, 6, 7, 3, 0, 0, 5, 0, 5, 2, 1, 0, 1, 1, 13, 5, 0, 0, 1, 3, 8, 5, 0, 0, 5, 4, 12, 9, 1, 0, 1, 4, 6, 4, 2, 4, 0, 1, 0, 1, 2, 3, 0, 2, 2, 1, 1, 2, 0, 3, 3, 0, 0, 0, 0, 0, 0, 4, 0, 0, 0, 0, 3, 1, 0, 0, 0, 0, 1, 3, 2, 0, 0, 0, 10, 3, 3, 0, 1, 4, 2, 2, 0, 3, 0, 1, 0, 1, 6, 2, 1, 6, 1, 4, 2, 3, 0, 1, 2, 2, 0, 0, 0, 0, 3, 2, 3, 0, 1, 1, 5, 3, 1, 1, 1, 1, 3, 5, 1, 4, 0, 2, 4, 4, 5, 1, 1, 0, 5, 0, 0, 0, 2, 3, 0, 3, 0, 0, 0, 2, 6, 13, 4, 1, 8, 5, 9, 0, 1, 0, 6, 0, 4, 0, 0, 0, 0, 0, 2, 4, 4, 5, 0, 3, 10, 4, 3, 4, 0, 2, 2, 5, 0, 0, 0, 0, 1, 5, 0, 0, 2, 4, 6, 1, 3, 0, 4, 2, 8, 1, 1, 0, 10, 4, 11, 5, 0, 3, 4, 5, 12, 6, 4, 5, 5, 10, 7, 6, 2, 1, 2, 3, 0, 3, 1, 1, 2, 0, 4, 3, 1, 0, 8, 1, 5, 1, 1, 0, 10, 7, 6, 8, 0, 1, 5, 3, 2, 0, 0, 1, 6, 8, 5, 3, 0, 0, 1, 5, 1, 2, 1, 3, 0, 6, 6, 5, 0, 0, 10, 4, 11, 8, 3, 0, 0, 6, 7, 4, 0, 0, 3, 4, 2, 4, 2, 0, 1, 3, 11, 5, 0, 0, 2, 3, 10, 2, 4, 0, 0, 2, 5, 4, 1, 0, 0, 1, 1, 6, 0, 0, 1, 2, 3, 1, 0, 0, 0, 0, 2, 4, 0, 0, 0, 4, 17, 18, 5, 0, 4, 5, 5, 11, 0, 0, 4, 1, 4, 4, 2, 4, 2, 3, 5, 7, 2, 0, 1, 4, 6, 9, 2, 0, 1, 6, 4, 3, 3, 0, 2, 3, 12, 5, 1, 1, 10, 0, 9, 6, 1, 2, 4, 2, 14, 3, 0, 0, 1, 1, 8, 7, 2, 2, 0, 8, 3, 6, 0, 2, 3, 3, 8, 2, 2, 4, 0, 1, 9, 1, 2, 0, 2, 3, 7, 8, 2, 5, 7, 8, 9, 6, 0, 0, 6, 4, 8, 3, 1, 0, 3, 2, 7, 5, 5, 4, 5, 9, 8, 6, 6, 2, 4, 9, 4, 0, 1, 2, 5, 2, 4, 5, 0, 0, 2, 8, 7, 9, 2, 0, 6, 6, 4, 2, 2, 1, 5, 5, 4, 4, 2, 0, 5, 6, 9, 5, 2, 1, 2, 1, 1, 7, 4, 10, 3, 4, 3, 6, 0, 0, 5, 3, 5, 4, 0, 0, 1, 6, 6, 4, 2, 2, 8, 0, 9, 5, 0, 0, 3, 1, 6, 2, 1, 2, 2, 10, 10, 6, 2, 3, 2, 5, 12, 12, 5, 2, 2, 5, 7, 6, 0, 0, 1, 3, 4, 0, 0, 0, 4, 2, 5, 3, 1, 0, 2, 7, 7, 1, 0, 0, 3, 3, 10, 2, 1, 0, 0, 2, 13, 2, 5, 7, 1, 5, 18, 3, 5, 0, 3, 1, 7, 8, 0, 0, 6, 2, 6, 4, 0, 0, 1, 5, 5, 2, 2, 0, 6, 9, 7, 5, 0, 0, 2, 3, 4, 3, 1, 0, 6, 4, 9, 5, 2, 1, 0, 7, 6, 3, 4, 0, 0, 5, 5, 4, 0, 3, 5, 3, 7, 2, 0, 0, 4, 4, 6, 6, 2, 0, 13, 3, 14, 4, 0, 0, 4, 3, 7, 8, 2, 0, 5, 4, 11, 4, 7, 4, 3, 7, 7, 7, 2, 1, 0, 5, 4, 5, 1, 3, 4, 3, 12, 4, 0, 0, 2, 0, 10, 6, 0, 2, 3, 6, 11, 5, 3, 0, 4, 4, 10, 6, 0, 0, 6, 1, 12, 6, 0, 5, 5, 6, 6, 6, 3, 2, 0, 16, 5, 4, 0, 6, 7, 9, 11, 10, 0, 0, 1, 6, 12, 7, 3, 1, 10, 7, 5, 9, 0, 1, 4, 2, 9, 1, 1, 0, 8, 5, 8, 11, 2, 3, 4, 9, 4, 8, 11, 11, 3, 3, 6, 4, 2, 0, 4, 3, 10, 6, 3, 0, 4, 4, 10, 5, 0, 0, 4, 6, 11, 7, 4, 1, 4, 8, 12, 12, 2, 1, 0, 6, 12, 14, 6, 1, 1, 8, 3, 4, 6, 1, 0, 3, 4, 5, 2, 0, 3, 7, 14, 3, 0, 0, 1, 6, 8, 0, 1, 1, 3, 7, 6, 3, 4, 0, 1, 7, 6, 6, 2, 0, 3, 0, 13, 4, 4, 0, 2, 4, 10, 7, 7, 5, 0, 7, 5, 4, 4, 0, 4, 8, 10, 7, 1, 0, 1, 5, 4, 6, 0, 0, 4, 3, 4, 8, 0, 0, 5, 5, 9, 4, 4, 0, 6, 7, 1, 1, 4, 3, 1, 9, 5, 5, 12, 5, 0, 1, 4, 8, 0, 1, 5, 5, 13, 5, 0, 0, 9, 7, 6, 0, 0, 0, 3, 4, 5, 11, 1, 2, 0, 14, 11, 7, 2, 0, 6, 1, 6, 4, 5, 2, 0, 2, 10, 5, 7, 4, 1, 5, 5, 9, 0, 0, 2, 5, 6, 2, 1, 1, 3, 5, 10, 4, 0, 0, 3, 10, 6, 4, 1, 0, 4, 4, 5, 3, 3, 1, 2, 8, 4, 9, 3, 3, 0, 6, 5, 12, 9, 2, 0, 5, 4, 3, 2, 0, 7, 6, 10, 7, 1, 0, 3, 7, 6, 8, 0, 0, 4, 11, 6, 2, 0, 1, 7, 7, 8, 2, 0, 0, 5, 4, 6, 8, 3, 0, 1, 0, 3, 4, 4, 3, 0, 1, 3, 6, 4, 1, 0, 1, 3, 7, 1, 0, 1, 2, 6, 6, 1, 1, 5, 4, 9, 3, 1, 0, 4, 8, 7, 2, 0, 1, 6, 10, 2, 7, 3, 0, 0, 2, 11, 2, 5, 2, 1, 0, 4, 2, 3, 4, 2, 8, 11, 3, 0, 0, 0, 2, 7, 2, 0, 4, 4, 4, 8, 4, 0, 0, 4, 11, 8, 11, 7, 6, 14, 6, 8, 3, 5, 1, 1, 6, 7, 4, 2, 2, 0, 8, 13, 10, 7, 2, 5, 6, 11, 6, 1, 0, 3, 2, 8, 2, 2, 0, 5, 8, 20, 5, 1, 0, 13, 4, 13, 4, 2, 2, 7, 7, 5, 3, 4, 0, 0, 12, 7, 1, 2, 3, 0, 2, 3, 2, 3, 1, 5, 0, 11, 5, 3, 3, 9, 3, 3, 7, 2, 0, 1, 6, 11, 10, 4, 0, 0, 5, 11, 6, 3, 2, 4, 8, 11, 23, 7, 4, 4, 9, 9, 9, 2, 6, 0, 2, 4, 6, 3, 1, 3, 3, 7, 4, 0, 0, 9, 4, 10, 3, 1, 0, 4, 1, 9, 7, 1, 2, 3, 1, 11, 4, 0, 0, 4, 4, 15, 6, 7, 3, 2, 2, 5, 7, 4, 4, 0, 5, 5, 2, 3, 0, 2, 2, 12, 2, 1, 0, 3, 1, 6, 6, 3, 2, 3, 7, 16, 6, 2, 0, 1, 3, 5, 4, 5, 1, 0, 4, 9, 7, 0, 0, 2, 7, 4, 3, 5, 7, 1, 2, 3, 11, 0, 0, 11, 4, 8, 1, 1, 1, 3, 7, 6, 3, 1, 0, 0, 6, 7, 1, 0, 1, 3, 6, 8, 4, 4, 1, 4, 2, 9, 2, 3, 4, 1, 6, 9, 10, 1, 2, 0, 4, 5, 2, 1, 0, 2, 0, 3, 0, 2, 0, 0, 6, 11, 5, 0, 0, 6, 3, 10, 4, 0, 1, 3, 3, 12, 4, 2, 0, 1, 5, 12, 8, 3, 1, 3, 4, 5, 7, 6, 0, 1, 10, 2, 6, 0, 0, 2, 4, 18, 7, 3, 0, 1, 5, 4, 8, 2, 0, 2, 5, 11, 4, 1, 0, 2, 4, 8, 3, 3, 1, 2, 9, 11, 5, 5, 2, 0, 11, 6, 7, 7, 0, 0, 0, 5, 0, 1, 0, 2, 10, 9, 6, 3, 0, 4, 6, 10, 7, 3, 0, 1, 5, 10, 4, 0, 0, 2, 5, 10, 4, 0, 0, 3, 4, 11, 9, 1, 2, 3, 7, 9, 12, 2, 4, 0, 5, 8, 10, 1, 0, 6, 6, 5, 6, 2, 1, 4, 3, 17, 4, 0, 0, 4, 6, 7, 0, 0, 0, 0, 1, 8, 3, 1, 0, 4, 9, 9, 12, 2, 3, 1, 5, 5, 3, 3, 4, 0, 3, 3, 8, 0, 0, 3, 7, 9, 2, 1, 2, 5, 6, 16, 2, 0, 0, 5, 6, 7, 8, 0, 0, 4, 9, 7, 11, 1, 0, 6, 2, 11, 6, 2, 3, 2, 4, 10, 6, 5, 3, 2, 1, 3, 4, 4, 1, 2, 5, 9, 8, 0, 0, 7, 1, 1, 6, 1, 0, 4, 2, 10, 2, 2, 1, 4, 1, 18, 7, 0, 0, 0, 6, 6, 5, 5, 2, 0, 4, 11, 3, 4, 2, 1, 6, 4, 8, 2, 1, 12, 1, 3, 4, 5, 0, 4, 4, 8, 8, 2, 0, 9, 0, 12, 7, 2, 3, 7, 7, 8, 6, 2, 0, 0, 5, 15, 10, 5, 2, 2, 6, 8, 6, 5, 3, 0, 0, 6, 4, 2, 0, 2, 6, 13, 6, 4, 0, 3, 4, 17, 7, 0, 0, 4, 6, 6, 1, 0, 0, 1, 4, 9, 6, 1, 4, 5, 4, 17, 7, 1, 2, 0, 8, 7, 5, 2, 3, 2, 3, 7, 6, 5, 0, 8, 2, 4, 5, 0, 0, 6, 10, 12, 5, 0, 1, 3, 3, 11, 1, 2, 0, 2, 3, 9, 2, 1, 0, 6, 3, 10, 12, 0, 3, 2, 10, 7, 4, 6, 2, 0, 4, 4, 2, 1, 2, 1, 6, 8, 10, 4, 0, 7, 5, 12, 6, 0, 0, 5, 4, 4, 7, 0, 4, 4, 3, 1, 6, 3, 1, 0, 7, 12, 11, 6, 1, 2, 6, 6, 5, 8, 5, 0, 1, 10, 4, 2, 0, 3, 13, 8, 7, 3, 0, 4, 7, 8, 6, 0, 0, 4, 5, 12, 9, 0, 0, 0, 10, 9, 7, 5, 0, 7, 5, 9, 9, 3, 2, 0, 5, 8, 7, 4, 0, 0, 4, 0, 4, 3, 1, 5, 2, 13, 0, 2, 0, 6, 2, 9, 4, 0, 3, 7, 9, 16, 6, 0, 1, 5, 5, 5, 5, 0, 2, 3, 2, 16, 5, 4, 3, 0, 8, 11, 11, 4, 3, 1, 2, 12, 10, 7, 3, 5, 7, 8, 7, 0, 1, 5, 2, 8, 6, 1, 1, 1, 3, 9, 6, 4, 0, 4, 4, 5, 5, 0, 0, 2, 1, 16, 7, 8, 2, 2, 6, 5, 5, 6, 7, 4, 4, 3, 3, 1, 0, 5, 2, 11, 3, 0, 0, 3, 1, 13, 6, 4, 3, 9, 8, 10, 6, 0, 0, 5, 7, 15, 8, 0, 0, 2, 5, 7, 7, 5, 5, 0, 4, 7, 9, 8, 4, 0, 7, 11, 9, 1, 0, 3, 8, 11, 6, 1, 0, 5, 8, 13, 4, 0, 0, 3, 6, 11, 13, 3, 0, 3, 7, 9, 7, 2, 0, 3, 12, 13, 16, 15, 6, 0, 5, 11, 11, 11, 6, 2, 3, 7, 5, 0, 0, 4, 1, 5, 5, 0, 0, 9, 5, 4, 3, 2, 0, 10, 9, 17, 7, 1, 5, 8, 5, 4, 5, 2, 3, 7, 0, 5, 4, 3, 4, 3, 6, 4, 3, 7, 1, 1, 2, 9, 3, 0, 1, 5, 6, 11, 4, 0, 0, 5, 1, 8, 8, 0, 0, 6, 3, 5, 4, 0, 0, 4, 7, 19, 3, 1, 0, 5, 9, 11, 8, 4, 0, 1, 3, 6, 12, 2, 2, 1, 3, 7, 4, 0, 2, 0, 4, 8, 9, 2, 2, 9, 2, 6, 3, 0, 0, 3, 4, 6, 7, 3, 1, 5, 0, 12, 4, 5, 2, 5, 7, 9, 6, 1, 0, 1, 4, 9, 6, 5, 6, 0, 4, 3, 4, 1, 1, 2, 2, 8, 2, 0, 0, 5, 3, 10, 6, 2, 0, 7, 8, 12, 8, 1, 0, 10, 1, 12, 5, 4, 6, 13, 5, 11, 6, 7, 1, 2, 2, 14, 10, 2, 5, 0, 5, 11, 4, 1, 1, 4, 3, 6, 9, 3, 0, 1, 4, 20, 12, 7, 4, 1, 4, 7, 3, 4, 2, 1, 2, 3, 5, 2, 0, 0, 2, 4, 11, 3, 0, 0, 9, 5, 19, 8, 0, 0, 5, 4, 3, 1, 0, 3, 3, 7, 0, 0, 0, 9, 1, 9, 3, 0, 0, 8, 7, 13, 7, 1, 0, 5, 5, 9, 8, 3, 0, 2, 6, 5, 10, 3, 1, 3, 5, 12, 3, 2, 2, 0, 2, 4, 3, 0, 1, 6, 6, 10, 11, 1, 2, 4, 4, 4, 4, 0, 0, 2, 3, 12, 6, 0, 1, 12, 0, 9, 4, 0, 1, 3, 6, 10, 12, 5, 0, 0, 5, 1, 6, 3, 0, 0, 3, 7, 6, 4, 2, 6, 4, 13, 10, 3, 0, 6, 3, 7, 6, 0, 3, 11, 5, 12, 8, 2, 0, 5, 7, 8, 12, 0, 0, 0, 5, 2, 9, 3, 0, 3, 5, 2, 4, 2, 1, 1, 3, 3, 9, 1, 0, 2, 11, 9, 5, 0, 2, 4, 3, 9, 4, 5, 2, 2, 1, 1, 3, 1, 1, 1, 3, 9, 6, 0, 0, 4, 1, 7, 0, 7, 1, 4, 5, 7, 2, 0, 3, 2, 2, 14, 5, 1, 3, 1, 3, 6, 2, 2, 0, 2, 1, 7, 6, 6, 7, 1, 0, 3, 2, 0, 0, 1, 8, 15, 11, 7, 0, 2, 5, 9, 6, 4, 1, 0, 0, 4, 1, 2, 0, 0, 0, 0, 0, 0, 0, 4, 4, 7, 2, 4, 1, 7, 2, 10, 4, 0, 0, 2, 2, 13, 1, 0, 0, 6, 4, 10, 5, 0, 0, 2, 1, 8, 6, 4, 2, 9, 9, 5, 3, 8, 0, 0, 2, 3, 4, 1, 0, 1, 3, 1, 1, 0, 3, 4, 3, 10, 3, 0, 2, 4, 1, 9, 7, 1, 0, 3, 1, 3, 1, 0, 2, 4, 3, 9, 2, 4, 5, 1, 3, 8, 3, 1, 2, 0, 4, 3, 3, 0, 0, 1, 1, 7, 1, 0, 0, 0, 3, 3, 5, 0, 0, 4, 6, 12, 5, 1, 0, 1, 6, 13, 12, 5, 0, 5, 8, 8, 12, 2, 1, 1, 2, 3, 6, 4, 1, 0, 0, 3, 3, 0, 3, 9, 2, 13, 5, 0, 0, 1, 2, 12, 3, 1, 1, 3, 2, 6, 5, 3, 1, 7, 5, 11, 2, 1, 1, 9, 4, 14, 6, 3, 1, 2, 4, 4, 4, 5, 1, 0, 3, 10, 2, 1, 0, 6, 6, 12, 4, 0, 0, 6, 4, 7, 18, 3, 2, 5, 2, 9, 12, 2, 0, 17, 3, 13, 0, 0, 0, 1, 1, 11, 6, 2, 0, 2, 2, 1, 8, 1, 3, 0, 2, 4, 5, 3, 2, 9, 2, 7, 2, 3, 2, 8, 2, 5, 2, 0, 1, 5, 9, 11, 11, 2, 2, 9, 4, 2, 2, 0, 0, 5, 8, 6, 10, 1, 4, 6, 5, 5, 6, 2, 5, 1, 4, 2, 4, 0, 0, 0, 2, 12, 4, 1, 2, 7, 4, 5, 2, 1, 1, 6, 1, 7, 2, 0, 0, 8, 8, 3, 2, 2, 0, 8, 2, 4, 6, 1, 2, 4, 4, 8, 11, 5, 2, 3, 3, 6, 3, 2, 2, 4, 2, 14, 9, 0, 1, 5, 5, 4, 4, 0, 0, 7, 6, 9, 6, 2, 1, 2, 3, 11, 3, 4, 0, 8, 4, 8, 14, 3, 2, 2, 4, 1, 12, 2, 7, 0, 8, 3, 3, 1, 3, 8, 0, 8, 7, 0, 4, 10, 8, 1, 11, 2, 2, 3, 2, 4, 8, 1, 0, 1, 5, 14, 3, 3, 0, 4, 6, 10, 6, 1, 0, 2, 3, 6, 6, 1, 2, 1, 3, 6, 12, 5, 1, 6, 2, 5, 4, 0, 0, 8, 3, 4, 6, 0, 2, 3, 1, 15, 7, 0, 0, 0, 2, 5, 4, 1, 1, 2, 2, 9, 3, 5, 3, 0, 5, 3, 4, 8, 1, 0, 1, 1, 4, 2, 0, 2, 4, 10, 2, 0, 0, 6, 1, 3, 4, 0, 0, 2, 6, 6, 1, 5, 2, 1, 1, 5, 4, 2, 3, 4, 3, 14, 2, 2, 4, 2, 0, 3, 1, 1, 0, 0, 4, 2, 8, 2, 1, 0, 1, 1, 0, 0, 0, 0, 7, 14, 3, 0, 0, 0, 2, 0, 4, 2, 0, 1, 0, 4, 2, 2, 0, 0, 0, 3, 2, 1, 0, 0, 1, 2, 1, 2, 0, 0, 0, 3, 4, 0, 0, 0, 0, 0, 0, 2, 2, 5, 11, 2, 3, 1, 0, 0, 0, 3, 1, 0, 0, 2, 2, 7, 2, 1, 0, 0, 2, 4, 7, 2, 0, 0, 8, 3, 5, 1, 0, 0, 0, 4, 2, 1, 0, 0, 2, 2, 3, 0, 0, 3, 3, 1, 3, 0, 0, 0, 4, 4, 0, 2, 0, 0, 1, 4, 3, 0, 0, 0, 0, 3, 3, 1, 1, 0, 3, 2, 3, 0, 2, 2, 8, 13, 5, 1, 1, 2, 5, 2, 3, 0, 0, 0, 3, 4, 0, 0, 0, 2, 2, 11, 4, 0, 0, 0, 0, 0, 5, 0, 1, 0, 2, 7, 1, 5, 0, 0, 0, 2, 3, 0, 1, 1, 0, 7, 11, 0, 0, 0, 0, 5, 3, 2, 0, 0, 0, 4, 0, 0, 0, 2, 1, 0, 1, 2, 0, 2, 0, 7, 5, 0, 1, 0, 4, 9, 2, 1, 0, 4, 1, 10, 3, 2, 1, 0, 1, 4, 0, 0, 0, 0, 4, 5, 4, 2, 5, 0, 4, 5, 5, 1, 0, 0, 0, 0, 0, 0, 0, 0, 0, 2, 3, 2, 0, 0, 0, 3, 8, 0, 0, 0, 4, 9, 5, 2, 0, 0, 0, 9, 13, 1, 2, 1, 5, 7, 7, 0, 0, 1, 3, 2, 1, 0, 1, 0, 3, 5, 3, 0, 1, 2, 3, 4, 3, 2, 0, 0, 10, 4, 4, 1, 0, 1, 4, 2, 5, 2, 1, 1, 5, 6, 5, 1, 0, 0, 5, 6, 1, 2, 2, 1, 7, 4, 0, 0, 0, 3, 4, 6, 3, 0, 0, 1, 3, 5, 7, 1, 0, 4, 8, 5, 8, 3, 0, 2, 3, 3, 2, 6, 0, 1, 3, 4, 2, 3, 0, 0, 7, 3, 2, 0, 0, 0, 1, 10, 1, 1, 0, 0, 6, 8, 5, 0, 0, 0, 1, 6, 7, 3, 2, 5, 6, 4, 14, 0, 0, 0, 6, 6, 7, 2, 0, 2, 4, 12, 3, 0, 0, 0, 1, 3, 4, 1, 0, 0, 3, 2, 4, 3, 0, 3, 4, 1, 3, 3, 0, 0, 2, 2, 6, 1, 0, 0, 4, 6, 7, 4, 0, 0, 6, 8, 6, 1, 0, 0, 6, 1, 4, 5, 0, 0, 4, 7, 3, 1, 0, 0, 4, 5, 8, 0, 0, 1, 7, 4, 4, 0, 0, 1, 9, 12, 9, 2, 0, 0, 4, 6, 3, 0, 1, 2, 6, 8, 1, 7, 6, 0, 2, 7, 2, 4, 0, 1, 4, 2, 1, 3, 0, 1, 5, 8, 4, 1, 0, 1, 8, 7, 6, 3, 2, 1, 3, 8, 0, 4, 0, 1, 3, 15, 7, 6, 0, 1, 0, 8, 3, 5, 6, 0, 2, 4, 4, 2, 0, 1, 2, 11, 6, 1, 0, 1, 9, 5, 4, 3, 0, 1, 0, 6, 3, 1, 0, 2, 10, 5, 5, 2, 0, 0, 4, 11, 7, 4, 1, 0, 6, 5, 11, 8, 0, 7, 8, 11, 5, 1, 2, 0, 1, 5, 7, 3, 1, 2, 5, 6, 2, 1, 0, 2, 3, 4, 4, 1, 0, 0, 4, 5, 4, 0, 0, 1, 4, 7, 9, 7, 0, 2, 4, 5, 3, 9, 4, 2, 3, 4, 2, 2, 0, 1, 1, 3, 3, 4, 0, 5, 7, 7, 8, 3, 1, 0, 4, 5, 3, 0, 0, 1, 3, 6, 5, 7, 0, 0, 5, 7, 2, 11, 0, 1, 3, 2, 6, 7, 0, 0, 5, 2, 1, 0, 0, 0, 7, 7, 4, 2, 0, 0, 5, 3, 2, 0, 0, 2, 4, 1, 7, 0, 0, 0, 6, 3, 5, 3, 1, 2, 4, 6, 8, 4, 1, 3, 3, 5, 9, 0, 5, 6, 1, 7, 4, 1, 0, 2, 2, 5, 8, 0, 0, 0, 3, 7, 10, 1, 0, 1, 2, 1, 2, 2, 1, 2, 3, 3, 2, 0, 1, 1, 3, 3, 3, 0, 0, 0, 2, 6, 4, 2, 1, 3, 5, 0, 4, 1, 1, 0, 6, 8, 5, 4, 0, 0, 6, 9, 8, 4, 0, 0, 15, 5, 11, 2, 0, 3, 5, 6, 2, 2, 0, 3, 8, 9, 11, 6, 1, 1, 3, 10, 3, 4, 0, 1, 7, 6, 6, 1, 2, 0, 2, 10, 5, 2, 1, 10, 4, 4, 7, 0, 0, 1, 0, 5, 3, 1, 0, 2, 6, 5, 2, 1, 1, 1, 4, 13, 14, 6, 1, 0, 0, 17, 7, 3, 1, 0, 3, 5, 8, 4, 0, 1, 5, 5, 8, 0, 0, 1, 1, 1, 6, 2, 0, 0, 0, 2, 4, 3, 0, 2, 4, 13, 5, 2, 0, 2, 4, 16, 9, 1, 1, 2, 0, 5, 7, 3, 0, 0, 1, 6, 9, 1, 0, 0, 5, 6, 4, 0, 1, 3, 4, 10, 1, 2, 0, 2, 4, 13, 4, 0, 0, 0, 3, 15, 2, 0, 0, 0, 3, 10, 7, 3, 0, 3, 10, 11, 3, 4, 0, 1, 3, 7, 6, 1, 1, 1, 6, 6, 8, 4, 0, 3, 5, 7, 4, 2, 0, 1, 4, 1, 1, 2, 0, 1, 1, 4, 5, 4, 0, 1, 4, 20, 17, 5, 3, 4, 5, 5, 8, 6, 0, 3, 1, 2, 5, 1, 0, 0, 6, 6, 2, 0, 0, 0, 0, 5, 3, 1, 0, 1, 4, 3, 1, 1, 0, 1, 3, 6, 11, 0, 0, 0, 0, 13, 8, 9, 0, 0, 4, 4, 10, 6, 2, 1, 1, 1, 9, 2, 2, 5, 2, 19, 2, 3, 0, 3, 2, 4, 8, 0, 1, 6, 2, 7, 6, 3, 1, 4, 3, 6, 4, 0, 2, 1, 1, 6, 9, 2, 2, 0, 6, 9, 12, 3, 1, 2, 4, 3, 0, 3, 1, 1, 2, 5, 6, 0, 0, 1, 4, 8, 2, 2, 1, 3, 4, 2, 4, 0, 0, 2, 1, 3, 8, 2, 0, 2, 2, 10, 3, 2, 0, 0, 2, 12, 4, 2, 1, 9, 7, 6, 6, 1, 3, 3, 2, 5, 4, 0, 0, 0, 0, 2, 4, 0, 0, 1, 2, 8, 3, 5, 0, 0, 4, 3, 7, 1, 3, 0, 6, 5, 6, 2, 0, 6, 0, 11, 6, 3, 0, 0, 0, 6, 1, 0, 0, 3, 5, 2, 5, 1, 2, 2, 3, 5, 0, 0, 0, 1, 6, 8, 6, 0, 1, 3, 5, 4, 4, 2, 0, 0, 4, 10, 6, 1, 1, 2, 2, 9, 7, 1, 1, 2, 1, 4, 4, 0, 0, 1, 7, 7, 0, 0, 0, 0, 0, 5, 0, 0, 0, 1, 0, 4, 3, 2, 1, 1, 4, 9, 6, 0, 0, 1, 2, 11, 6, 2, 1, 2, 6, 6, 9, 5, 1, 1, 1, 5, 5, 1, 0, 2, 11, 8, 1, 1, 1, 5, 0, 9, 2, 2, 1, 4, 1, 4, 7, 2, 1, 0, 3, 4, 3, 3, 0, 2, 5, 9, 7, 5, 5, 1, 15, 19, 15, 9, 6, 5, 2, 4, 4, 2, 0, 0, 4, 4, 3, 0, 0, 0, 3, 6, 8, 0, 1, 5, 5, 10, 1, 1, 0, 1, 5, 4, 8, 5, 1, 4, 3, 5, 6, 4, 1, 2, 4, 4, 10, 0, 3, 1, 4, 3, 1, 2, 4, 1, 3, 8, 4, 1, 0, 1, 3, 8, 5, 2, 2, 4, 0, 10, 3, 2, 0, 5, 2, 7, 5, 1, 0, 2, 4, 2, 7, 1, 0, 0, 2, 1, 8, 4, 1, 1, 3, 5, 5, 0, 0, 1, 3, 4, 3, 0, 0, 3, 1, 10, 2, 3, 0, 4, 1, 16, 5, 2, 1, 3, 2, 7, 3, 0, 0, 3, 5, 4, 4, 5, 4, 2, 2, 5, 9, 2, 0, 0, 5, 3, 2, 1, 1, 2, 0, 5, 4, 0, 0, 5, 6, 3, 6, 0, 0, 1, 5, 9, 8, 1, 0, 5, 4, 10, 6, 3, 0, 0, 3, 7, 12, 3, 1, 0, 4, 7, 6, 6, 0, 0, 3, 12, 4, 0, 2, 5, 5, 8, 7, 5, 0, 1, 8, 16, 7, 1, 0, 2, 1, 8, 5, 2, 0, 4, 2, 14, 7, 1, 1, 2, 3, 11, 7, 2, 0, 0, 0, 12, 4, 1, 2, 6, 4, 2, 5, 2, 0, 5, 2, 18, 3, 0, 0, 0, 2, 5, 4, 0, 0, 3, 3, 8, 3, 2, 1, 1, 9, 11, 2, 4, 2, 2, 5, 9, 9, 0, 1, 3, 3, 6, 4, 6, 1, 2, 5, 9, 3, 0, 0, 0, 0, 6, 4, 2, 0, 1, 2, 13, 5, 0, 0, 5, 6, 6, 5, 3, 3, 1, 0, 4, 3, 3, 1, 2, 0, 5, 4, 2, 2, 0, 4, 9, 3, 5, 0, 0, 2, 5, 8, 9, 0, 3, 6, 7, 2, 2, 0, 0, 0, 4, 1, 0, 0, 2, 1, 5, 0, 0, 0, 1, 2, 8, 7, 5, 0, 7, 9, 8, 1, 1, 1, 1, 2, 11, 2, 3, 2, 1, 1, 2, 2, 0, 0, 0, 1, 8, 2, 2, 0, 0, 4, 6, 0, 0, 0, 0, 4, 6, 3, 1, 0, 0, 7, 10, 3, 1, 0, 0, 1, 1, 3, 1, 2, 9, 6, 7, 2, 2, 1, 2, 0, 4, 4, 8, 3, 0, 3, 0, 1, 3, 0, 0, 5, 7, 2, 4, 4, 12, 7, 13, 6, 1, 3, 2, 4, 14, 6, 1, 0, 0, 2, 7, 4, 4, 0, 0, 1, 6, 12, 9, 0, 1, 5, 3, 6, 2, 1, 0, 4, 8, 1, 0, 0, 0, 2, 7, 2, 3, 0, 2, 2, 10, 5, 2, 0, 4, 1, 2, 2, 25, 3, 2, 0, 5, 2, 5, 0, 0, 5, 1, 1, 2, 2, 0, 1, 2, 4, 0, 0, 0, 4, 8, 3, 0, 0, 0, 0, 2, 0, 0, 0, 0, 4, 2, 6, 8, 1, 3, 5, 4, 5, 9, 9, 6, 4, 5, 1, 1, 0, 0, 0, 8, 4, 5, 2, 0, 1, 4, 4, 1, 0, 1, 3, 7, 1, 2, 0, 0, 5, 5, 5, 1, 0, 3, 3, 2, 3, 3, 0, 1, 4, 3, 4, 2, 0, 0, 3, 7, 5, 2, 0, 3, 0, 7, 3, 4, 2, 0, 2, 3, 4, 0, 0, 4, 1, 4, 3, 1, 0, 0, 4, 8, 2, 0, 0, 5, 1, 7, 2, 5, 1, 5, 2, 5, 4, 0, 0, 8, 4, 7, 9, 3, 1, 2, 4, 6, 0, 4, 3, 0, 1, 1, 9, 1, 0, 0, 1, 2, 3, 1, 0, 3, 2, 5, 9, 0, 0, 2, 2, 3, 3, 1, 0, 5, 3, 3, 6, 1, 0, 0, 3, 7, 1, 5, 0, 0, 7, 2, 2, 7, 0, 1, 2, 8, 10, 4, 3, 7, 8, 13, 8, 2, 2, 3, 4, 2, 4, 2, 0, 0, 1, 3, 4, 0, 1, 2, 2, 7, 6, 0, 0, 2, 2, 3, 5, 3, 1, 0, 5, 2, 4, 4, 1, 2, 2, 6, 2, 6, 1, 3, 0, 10, 4, 0, 0, 2, 0, 3, 4, 0, 2, 5, 0, 2, 3, 1, 0, 0, 0, 4, 4, 1, 0, 2, 1, 2, 2, 1, 0, 1, 6, 2, 5, 4, 2, 1, 2, 4, 0, 3, 0, 0, 3, 1, 4, 0, 0, 0, 2, 3, 1, 1, 0, 0, 3, 4, 3, 0, 1, 6, 2, 7, 3, 3, 1, 2, 1, 3, 2, 1, 1, 0, 1, 4, 3, 3, 7, 25, 11, 5, 17, 6, 0, 0, 1, 2, 0, 1, 0, 0, 2, 1, 1, 0, 0, 0, 0, 2, 1, 0, 0, 2, 1, 1, 1, 0, 0, 0, 3, 0, 2, 3, 1, 1, 1, 4, 2, 0, 0, 0, 1, 2, 1, 1, 0, 0, 2, 3, 3, 0, 0, 2, 8, 5, 3, 2, 2, 3, 2, 4, 5, 1, 0, 0, 2, 11, 3, 0, 0, 0, 1, 4, 6, 7, 2, 1, 4, 1, 7, 3, 2, 0, 3, 2, 2, 5, 1, 0, 2, 3, 5, 0, 0]\n"
     ]
    }
   ],
   "source": [
    "counter_4hrs = 0\n",
    "\n",
    "for i in range(7, incidents.shape[0]):\n",
    "    limit_time = curr_time +14400\n",
    "    inc_time = (incidents.time_local[i])/1000\n",
    "#     print(inc_time, limit_time, curr_time)\n",
    "    if (inc_time < limit_time):\n",
    "#         print(\"true\")\n",
    "        incidents_per_4hrs[counter_4hrs]+=1\n",
    "    \n",
    "    else:\n",
    "        curr_time = limit_time\n",
    "        counter_4hrs += 1\n",
    "        \n",
    "print(counter_4hrs)\n",
    "print(incidents_per_4hrs)\n",
    "\n",
    " "
   ]
  },
  {
   "cell_type": "code",
   "execution_count": 269,
   "id": "548ae2a1",
   "metadata": {},
   "outputs": [
    {
     "name": "stdout",
     "output_type": "stream",
     "text": [
      "[14, 24, 28, 15, 46, 22, 6, 10, 15, 25, 16, 20, 11, 17, 14, 29, 26, 14, 27, 16, 24, 9, 8, 9, 9, 17, 26, 6, 13, 15, 13, 15, 13, 20, 17, 15, 8, 15, 16, 22, 17, 10, 4, 12, 24, 20, 21, 24, 17, 9, 10, 26, 12, 16, 23, 18, 13, 21, 20, 24, 29, 25, 18, 13, 31, 31, 18, 14, 17, 14, 20, 24, 10, 13, 24, 29, 19, 20, 11, 20, 23, 4, 16, 13, 15, 22, 14, 13, 9, 20, 18, 13, 21, 28, 12, 13, 28, 16, 18, 16, 26, 20, 21, 22, 14, 11, 22, 30, 21, 20, 39, 24, 20, 18, 22, 18, 16, 28, 32, 19, 15, 26, 21, 29, 32, 18, 18, 19, 31, 10, 11, 22, 19, 25, 17, 24, 11, 29, 28, 24, 6, 25, 12, 13, 21, 38, 24, 10, 9, 15, 23, 13, 18, 13, 27, 28, 16, 18, 11, 39, 11, 14, 21, 28, 23, 16, 23, 20, 10, 12, 1, 0, 0, 0, 0, 0, 0, 0, 0, 0, 0, 0, 0, 0, 0, 0, 0, 0, 0, 0, 0, 0, 0, 0, 0, 0, 0, 0, 0, 0, 0, 0, 0, 0, 0, 0, 0, 0, 0, 0, 0, 0, 0, 0, 0, 0, 0, 0, 0, 0, 0, 0, 0, 0, 0, 0, 0, 0, 0, 0, 0, 0, 0, 0, 0, 0, 0, 0, 0, 0, 0, 0, 0, 0, 0, 0, 0, 0, 0, 0, 0, 0, 0, 0, 0, 0, 0, 0, 0, 0, 0, 0, 0, 0, 0, 0, 0, 0, 0, 0, 0, 0, 0, 0, 0, 0, 0, 0, 0, 0, 0, 0, 0, 0, 0, 0, 0, 0, 0, 0, 0, 0, 0, 0, 0, 0, 0, 0, 0, 0, 0, 0, 0, 0, 0, 0, 0, 0, 0, 0, 0, 0, 0, 0, 0, 0, 0, 0, 0, 0, 0, 0, 0, 0, 0, 0, 0, 0, 0, 0, 0, 0, 0, 0, 0, 0, 0, 0, 0, 0, 0, 0, 0, 0, 0, 0, 0, 0, 0, 0, 0, 0, 0, 0, 0, 0, 0, 0, 0, 0, 0, 0, 0, 0, 0, 0, 0, 0, 0, 0, 0, 0, 0, 0, 0, 0, 0, 0, 0, 0, 0, 0, 0, 0, 0, 0, 0, 0, 0, 0, 0, 0, 0, 0, 0, 0, 0, 0, 0, 0, 0, 0, 0, 0, 0, 0, 0, 0, 0, 0, 0, 0, 0, 0, 0, 0, 0, 0, 0, 0, 0, 0, 0, 0, 0, 0, 0, 0, 0, 0, 0, 0, 0, 0, 0, 0, 0, 0, 0, 0, 0, 0, 0, 0, 0, 0, 0, 0, 0, 0, 0, 0, 0, 0, 0, 0, 0, 0, 0, 0, 0, 0, 0, 0, 0, 0, 0, 0, 0, 0, 0, 0, 0, 0, 0, 0, 0, 0, 0, 0, 0, 0, 0, 0, 0, 0, 0, 0, 0, 0, 0, 0, 0, 0, 0, 0, 0, 0, 0, 0, 0, 0, 0, 0, 0, 0, 0, 0, 0, 0, 0, 0, 0, 0, 0, 0, 0, 0, 0, 0, 0, 0, 0, 0, 0, 0, 0, 0, 0, 0, 0, 0, 0, 0, 0, 0, 0, 0, 0, 0, 0, 0, 0, 0, 0, 0, 0, 0, 0, 0, 0, 0, 0, 0, 0, 0, 0, 0, 0, 0, 0, 0, 0, 0, 0, 0, 0, 0, 0, 0, 0, 0, 0, 0, 0, 0, 0, 0, 0, 0, 0, 0, 0, 0, 0, 0, 0, 0, 0, 0, 0, 0, 0, 0, 0, 0, 0, 0, 0, 0, 0, 0, 0, 0, 0, 0, 0, 0, 0, 0, 0, 0, 0, 0, 0, 0, 0, 0, 0, 0, 0, 0, 0, 0, 0, 0, 0, 0, 0, 0, 0, 0, 0, 0, 0, 0, 0, 0, 0, 0, 0, 0, 0, 0, 0, 0, 0, 0, 0, 0, 0, 0, 0, 0, 0, 0, 0, 0, 0, 0, 0, 0, 0, 0, 0, 0, 0, 0, 0, 0, 0, 0, 0, 0, 0, 0, 0, 0, 0, 0, 0, 0, 0, 0, 0, 5, 4, 13, 22, 8, 9, 5, 19, 5, 11, 12, 12, 18, 36, 17, 15, 15, 9, 20, 6, 20, 18, 13, 3, 7, 23, 22, 27, 13, 18, 13, 20, 17, 31, 21, 7, 8, 6, 4, 4, 6, 16, 12, 10, 17, 5, 8, 12, 15, 16, 6, 8, 26, 23, 10, 15, 24, 9, 6, 16, 16, 33, 36, 31, 10, 10, 16, 32, 11, 22, 13, 17, 36, 17, 15, 20, 21, 12, 8, 7, 6, 44, 25, 19, 19, 22, 17, 24, 28, 23, 21, 19, 22, 13, 27, 30, 22, 26, 36, 20, 16, 28, 21, 20, 28, 25, 16, 17, 21, 22, 15, 33, 38, 20, 8, 15, 17, 19, 29, 32, 19, 18, 15, 27, 13, 27, 20, 17, 17, 22, 34, 24, 35, 27, 18, 23, 20, 28, 24, 30, 28, 31, 37, 30, 32, 17, 37, 47, 18, 26, 23, 33, 39, 39, 23, 14, 27, 17, 23, 22, 24, 35, 20, 30, 16, 19, 27, 22, 37, 14, 28, 22, 26, 34, 24, 28, 20, 17, 22, 24, 20, 29, 34, 14, 31, 24, 24, 24, 26, 15, 15, 12, 17, 22, 22, 28, 22, 14, 24, 15, 20, 47, 37, 22, 40, 29, 17, 39, 38, 26, 25, 11, 27, 24, 32, 27, 57, 39, 16, 17, 27, 24, 19, 39, 24, 15, 19, 21, 34, 19, 20, 28, 17, 26, 20, 15, 26, 24, 29, 12, 7, 22, 24, 24, 30, 25, 19, 34, 20, 23, 21, 34, 31, 6, 30, 30, 20, 21, 30, 37, 24, 26, 28, 17, 13, 39, 21, 14, 24, 29, 26, 32, 30, 30, 15, 24, 16, 21, 30, 24, 24, 22, 25, 26, 33, 30, 37, 30, 12, 31, 31, 17, 25, 36, 25, 23, 19, 34, 20, 17, 34, 31, 13, 29, 30, 24, 18, 37, 32, 17, 34, 25, 30, 31, 35, 24, 12, 22, 24, 39, 22, 33, 37, 35, 28, 23, 23, 18, 36, 31, 15, 21, 30, 33, 35, 31, 32, 28, 29, 30, 36, 28, 65, 44, 17, 15, 23, 49, 27, 23, 24, 16, 26, 22, 18, 34, 37, 26, 17, 25, 20, 24, 28, 28, 31, 13, 14, 26, 36, 38, 43, 35, 22, 25, 48, 21, 13, 20, 41, 13, 13, 22, 36, 30, 27, 27, 10, 36, 16, 24, 26, 36, 15, 22, 36, 25, 38, 32, 19, 17, 17, 29, 27, 9, 19, 20, 21, 27, 14, 29, 6, 42, 27, 7, 0, 22, 23, 18, 25, 23, 34, 10, 9, 22, 22, 10, 27, 18, 10, 10, 11, 28, 37, 36, 17, 9, 29, 20, 20, 27, 37, 20, 16, 28, 40, 30, 33, 21, 17, 16, 25, 18, 40, 17, 34, 29, 11, 21, 20, 16, 23, 23, 34, 19, 30, 18, 31, 23, 39, 28, 18, 27, 34, 18, 26, 27, 20, 28, 17, 23, 26, 13, 24, 21, 8, 18, 14, 22, 16, 29, 7, 17, 2, 24, 8, 9, 6, 6, 7, 4, 22, 4, 14, 15, 17, 7, 7, 10, 10, 8, 8, 10, 30, 12, 7, 19, 6, 15, 6, 19, 10, 4, 6, 15, 16, 21, 5, 20, 15, 0, 7, 11, 20, 25, 20, 8, 12, 14, 19, 15, 18, 16, 12, 16, 17, 28, 16, 13, 12, 13, 19, 19, 29, 21, 21, 9, 12, 14, 11, 21, 21, 16, 15, 17, 16, 33, 14, 30, 15, 11, 19, 27, 16, 32, 23, 12, 21, 22, 11, 24, 27, 30, 34, 17, 16, 14, 13, 28, 27, 13, 12, 31, 12, 22, 25, 19, 8, 20, 10, 14, 18, 25, 25, 19, 17, 21, 9, 11, 10, 15, 14, 23, 27, 33, 18, 38, 21, 23, 20, 25, 10, 17, 39, 28, 20, 19, 11, 9, 26, 33, 17, 17, 16, 20, 23, 20, 23, 31, 19, 25, 21, 9, 15, 50, 28, 12, 14, 9, 10, 21, 30, 26, 16, 31, 18, 25, 19, 21, 31, 13, 14, 18, 13, 16, 19, 21, 32, 14, 6, 19, 18, 19, 26, 7, 18, 10, 22, 18, 22, 22, 11, 15, 5, 11, 20, 23, 29, 13, 24, 19, 19, 13, 33, 65, 17, 11, 18, 22, 24, 23, 23, 15, 17, 21, 19, 20, 16, 16, 14, 11, 19, 29, 15, 25, 20, 12, 11, 20, 24, 28, 26, 23, 21, 30, 33, 18, 29, 25, 19, 19, 28, 11, 20, 29, 26, 23, 19, 12, 21, 28, 12, 15, 21, 24, 20, 5, 8, 23, 27, 21, 6, 13, 10, 14, 21, 8, 27, 21, 7, 22, 42, 27, 17, 28, 18, 13, 14, 21, 37, 14, 11, 7, 15, 2, 21, 35, 17, 19, 10, 14, 16, 14, 14, 17, 19, 9, 13, 14, 21, 16, 32, 19, 12, 7, 19, 11, 18, 16, 18, 28, 40, 15, 9, 17, 16, 16, 19, 17, 11, 11, 9, 8, 20, 10, 8, 7, 11, 22, 10, 18, 64, 4, 4, 3, 5, 9, 8, 5, 8, 22, 15, 16, 20, 18, 13, 14]\n"
     ]
    }
   ],
   "source": [
    "sum_day = incidents_per_4hrs[0]\n",
    "counter_day = 0\n",
    "for i in range(1, counter_4hrs+1): \n",
    "    if i%6 == 0:\n",
    "        incidents_per_day[counter_day] = sum_day\n",
    "        counter_day+=1\n",
    "        sum_day = 0\n",
    "    sum_day += incidents_per_4hrs[i]\n",
    "    \n",
    "print(incidents_per_day)"
   ]
  },
  {
   "cell_type": "code",
   "execution_count": 271,
   "id": "8bd7d9f0",
   "metadata": {},
   "outputs": [
    {
     "name": "stdout",
     "output_type": "stream",
     "text": [
      "[531, 1026, 1575, 2201, 2803, 3188, 3188, 3188, 3188, 3188, 3188, 3188, 3188, 3188, 3188, 3188, 3188, 3188, 3188, 3188, 3188, 3188, 3240, 3715, 4130, 4716, 5382, 6208, 6928, 7666, 8387, 9136, 9905, 10729, 11582, 12366, 12999, 13700, 14395, 14765, 15172, 15735, 16321, 16934, 17551, 18142, 18748, 19315, 19862, 20341, 0]\n"
     ]
    }
   ],
   "source": [
    "sum_month = incidents_per_day[0]\n",
    "counter_month = 0\n",
    "for i in range(1, counter_day+1): \n",
    "    if i%30 == 0:\n",
    "#         print(counter_month)\n",
    "        incidents_per_month[counter_month] = sum_month\n",
    "        counter_month+=1\n",
    "        sum_year = 0\n",
    "#         print(counter_year)\n",
    "    sum_month += incidents_per_day[i]\n",
    "print(incidents_per_month)"
   ]
  }
 ],
 "metadata": {
  "kernelspec": {
   "display_name": "Python 3 (ipykernel)",
   "language": "python",
   "name": "python3"
  },
  "language_info": {
   "codemirror_mode": {
    "name": "ipython",
    "version": 3
   },
   "file_extension": ".py",
   "mimetype": "text/x-python",
   "name": "python",
   "nbconvert_exporter": "python",
   "pygments_lexer": "ipython3",
   "version": "3.7.9"
  }
 },
 "nbformat": 4,
 "nbformat_minor": 5
}
