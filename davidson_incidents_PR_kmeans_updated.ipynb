{
 "cells": [
  {
   "cell_type": "code",
   "execution_count": 2,
   "id": "ad4dd12b",
   "metadata": {
    "id": "ad4dd12b"
   },
   "outputs": [],
   "source": [
    "import geopandas as gpd\n",
    "import matplotlib.pyplot as plt\n",
    "import pandas as pd\n",
    "import numpy as np\n",
    "from shapely.geometry import Polygon"
   ]
  },
  {
   "cell_type": "code",
   "execution_count": 3,
   "id": "2ed643f7",
   "metadata": {
    "id": "2ed643f7"
   },
   "outputs": [],
   "source": [
    "#to convert a geographic point into a circular buffer with radius in meters.\n",
    "\n",
    "from shapely.geometry import Point\n",
    "from functools import partial\n",
    "from shapely.ops import transform\n",
    "import pyproj\n",
    "\n",
    "# def buffer_in_meters(lng, lat, radius):\n",
    "def buffer_in_meters(pt_latlng, radius):\n",
    "    proj_meters = pyproj.Proj(init='epsg:3857')\n",
    "    proj_latlng = pyproj.Proj(init='epsg:4326')\n",
    "    \n",
    "    project_to_meters = partial(pyproj.transform, proj_latlng, proj_meters)\n",
    "    project_to_latlng = partial(pyproj.transform, proj_meters, proj_latlng)\n",
    "    \n",
    "#     pt_latlng = Point(lng, lat)\n",
    "    pt_meters = transform(project_to_meters, pt_latlng)\n",
    "    \n",
    "    buffer_meters = pt_meters.buffer(radius)\n",
    "    buffer_latlng = transform(project_to_latlng, buffer_meters)\n",
    "    return buffer_latlng"
   ]
  },
  {
   "cell_type": "code",
   "execution_count": 4,
   "id": "a5981d97",
   "metadata": {
    "id": "a5981d97"
   },
   "outputs": [],
   "source": [
    "gdf_county = gpd.read_file(\"county.zip\")"
   ]
  },
  {
   "cell_type": "code",
   "execution_count": 5,
   "id": "1b2d2009",
   "metadata": {
    "colab": {
     "base_uri": "https://localhost:8080/",
     "height": 159
    },
    "id": "1b2d2009",
    "outputId": "d1147f6a-4e2d-4a3c-bdcf-db53a3a5893a"
   },
   "outputs": [
    {
     "data": {
      "text/plain": [
       "<AxesSubplot:>"
      ]
     },
     "execution_count": 5,
     "metadata": {},
     "output_type": "execute_result"
    },
    {
     "data": {
      "image/png": "[encoded data removed]",
      "text/plain": [
       "<Figure size 432x288 with 1 Axes>"
      ]
     },
     "metadata": {
      "needs_background": "light"
     },
     "output_type": "display_data"
    }
   ],
   "source": [
    "gdf_county.plot()"
   ]
  },
  {
   "cell_type": "code",
   "execution_count": 6,
   "id": "66a7b4b7",
   "metadata": {
    "id": "66a7b4b7"
   },
   "outputs": [],
   "source": [
    "gdf_dav = gdf_county[gdf_county[\"COUNTY\"] == \"Davidson\"]"
   ]
  },
  {
   "cell_type": "code",
   "execution_count": 8,
   "id": "a880e77e",
   "metadata": {
    "colab": {
     "base_uri": "https://localhost:8080/",
     "height": 112
    },
    "id": "a880e77e",
    "outputId": "452e0596-3753-41ba-c7ca-8ea6be12ceef"
   },
   "outputs": [
    {
     "data": {
      "text/html": [
       "<div>\n",
       "<style scoped>\n",
       "    .dataframe tbody tr th:only-of-type {\n",
       "        vertical-align: middle;\n",
       "    }\n",
       "\n",
       "    .dataframe tbody tr th {\n",
       "        vertical-align: top;\n",
       "    }\n",
       "\n",
       "    .dataframe thead th {\n",
       "        text-align: right;\n",
       "    }\n",
       "</style>\n",
       "<table border=\"1\" class=\"dataframe\">\n",
       "  <thead>\n",
       "    <tr style=\"text-align: right;\">\n",
       "      <th></th>\n",
       "      <th>AREA</th>\n",
       "      <th>PERIMETER</th>\n",
       "      <th>TNCODD_</th>\n",
       "      <th>TNCODD_ID</th>\n",
       "      <th>INDEX_NO</th>\n",
       "      <th>COUNTY</th>\n",
       "      <th>STATE</th>\n",
       "      <th>geometry</th>\n",
       "    </tr>\n",
       "  </thead>\n",
       "  <tbody>\n",
       "    <tr>\n",
       "      <th>30</th>\n",
       "      <td>0.136355</td>\n",
       "      <td>2.063989</td>\n",
       "      <td>32</td>\n",
       "      <td>30</td>\n",
       "      <td>63</td>\n",
       "      <td>Davidson</td>\n",
       "      <td>TN</td>\n",
       "      <td>POLYGON ((1725320.674 734952.517, 1725410.826 ...</td>\n",
       "    </tr>\n",
       "    <tr>\n",
       "      <th>49</th>\n",
       "      <td>0.000005</td>\n",
       "      <td>0.010867</td>\n",
       "      <td>51</td>\n",
       "      <td>99</td>\n",
       "      <td>63</td>\n",
       "      <td>Davidson</td>\n",
       "      <td>TN</td>\n",
       "      <td>POLYGON ((1814456.873 657102.349, 1813945.726 ...</td>\n",
       "    </tr>\n",
       "  </tbody>\n",
       "</table>\n",
       "</div>"
      ],
      "text/plain": [
       "        AREA  PERIMETER  TNCODD_  TNCODD_ID  INDEX_NO    COUNTY STATE  \\\n",
       "30  0.136355   2.063989       32         30        63  Davidson    TN   \n",
       "49  0.000005   0.010867       51         99        63  Davidson    TN   \n",
       "\n",
       "                                             geometry  \n",
       "30  POLYGON ((1725320.674 734952.517, 1725410.826 ...  \n",
       "49  POLYGON ((1814456.873 657102.349, 1813945.726 ...  "
      ]
     },
     "execution_count": 8,
     "metadata": {},
     "output_type": "execute_result"
    }
   ],
   "source": [
    "gdf_dav.head()"
   ]
  },
  {
   "cell_type": "code",
   "execution_count": 9,
   "id": "360924a0",
   "metadata": {
    "colab": {
     "base_uri": "https://localhost:8080/"
    },
    "id": "360924a0",
    "outputId": "2d8aae66-36c4-4f4a-a89f-f29cd3200a65"
   },
   "outputs": [
    {
     "data": {
      "text/plain": [
       "<Geographic 2D CRS: EPSG:4326>\n",
       "Name: WGS 84\n",
       "Axis Info [ellipsoidal]:\n",
       "- Lat[north]: Geodetic latitude (degree)\n",
       "- Lon[east]: Geodetic longitude (degree)\n",
       "Area of Use:\n",
       "- name: World.\n",
       "- bounds: (-180.0, -90.0, 180.0, 90.0)\n",
       "Datum: World Geodetic System 1984 ensemble\n",
       "- Ellipsoid: WGS 84\n",
       "- Prime Meridian: Greenwich"
      ]
     },
     "execution_count": 9,
     "metadata": {},
     "output_type": "execute_result"
    }
   ],
   "source": [
    "gdf_david = gdf_dav.to_crs(\"EPSG:4326\")\n",
    "gdf_david.crs"
   ]
  },
  {
   "cell_type": "code",
   "execution_count": 10,
   "id": "f5999cd8",
   "metadata": {
    "colab": {
     "base_uri": "https://localhost:8080/"
    },
    "id": "f5999cd8",
    "outputId": "672b286a-eb16-4c06-cfa3-2b974dc1b666"
   },
   "outputs": [
    {
     "data": {
      "text/plain": [
       "array([1656664.95403244,  595562.71399883, 1816136.87059501,\n",
       "        755249.86127501])"
      ]
     },
     "execution_count": 10,
     "metadata": {},
     "output_type": "execute_result"
    }
   ],
   "source": [
    "xmin, ymin, xmax, ymax = gdf_dav.total_bounds\n",
    "gdf_dav.total_bounds"
   ]
  },
  {
   "cell_type": "code",
   "execution_count": 11,
   "id": "fbee9297",
   "metadata": {
    "colab": {
     "base_uri": "https://localhost:8080/"
    },
    "id": "fbee9297",
    "outputId": "4d30c5e5-4e1d-44f2-b662-ba7b17073079"
   },
   "outputs": [
    {
     "name": "stdout",
     "output_type": "stream",
     "text": [
      "32\n",
      "32\n"
     ]
    }
   ],
   "source": [
    "length = 5280\n",
    "wide = 5280\n",
    "\n",
    "cols = list(np.arange(xmin, xmax + wide, wide))\n",
    "print(len(cols))\n",
    "rows = list(np.arange(ymin, ymax + length, length))\n",
    "print(len(cols))\n",
    "\n",
    "polygons = []\n",
    "for x in cols[:-1]:\n",
    "    for y in rows[:-1]:\n",
    "        polygons.append(Polygon([(x,y), (x+wide, y), (x+wide, y+length), (x, y+length)]))\n",
    "\n",
    "grid = gpd.GeoDataFrame({'geometry':polygons})\n",
    "grid.to_file(\"grid.shp\")\n",
    "# grid.plot()"
   ]
  },
  {
   "cell_type": "code",
   "execution_count": 42,
   "id": "fcc2e530",
   "metadata": {
    "colab": {
     "base_uri": "https://localhost:8080/",
     "height": 295
    },
    "id": "fcc2e530",
    "outputId": "240c776a-abfe-40d3-f7c5-24cbd1d52c18"
   },
   "outputs": [
    {
     "data": {
      "text/plain": [
       "<AxesSubplot:>"
      ]
     },
     "execution_count": 42,
     "metadata": {},
     "output_type": "execute_result"
    },
    {
     "data": {
      "image/png": "[encoded data removed]",
      "text/plain": [
       "<Figure size 432x288 with 1 Axes>"
      ]
     },
     "metadata": {
      "needs_background": "light"
     },
     "output_type": "display_data"
    }
   ],
   "source": [
    "grid.plot(ax = gdf_dav.plot(color='blue'), color='none', edgecolor='red')"
   ]
  },
  {
   "cell_type": "code",
   "execution_count": 43,
   "id": "9eb357d4",
   "metadata": {
    "colab": {
     "base_uri": "https://localhost:8080/",
     "height": 400
    },
    "id": "9eb357d4",
    "outputId": "ab9fa448-ac3b-49b1-c071-1edd1a008ac2"
   },
   "outputs": [
    {
     "data": {
      "text/html": [
       "<div>\n",
       "<style scoped>\n",
       "    .dataframe tbody tr th:only-of-type {\n",
       "        vertical-align: middle;\n",
       "    }\n",
       "\n",
       "    .dataframe tbody tr th {\n",
       "        vertical-align: top;\n",
       "    }\n",
       "\n",
       "    .dataframe thead th {\n",
       "        text-align: right;\n",
       "    }\n",
       "</style>\n",
       "<table border=\"1\" class=\"dataframe\">\n",
       "  <thead>\n",
       "    <tr style=\"text-align: right;\">\n",
       "      <th></th>\n",
       "      <th>ID_Original</th>\n",
       "      <th>latitude</th>\n",
       "      <th>longitude</th>\n",
       "      <th>emdCardNumber</th>\n",
       "      <th>time_utc</th>\n",
       "      <th>fireZone</th>\n",
       "      <th>time</th>\n",
       "      <th>time_local</th>\n",
       "      <th>response_time_sec</th>\n",
       "      <th>year</th>\n",
       "      <th>month</th>\n",
       "      <th>day</th>\n",
       "      <th>day_of_week</th>\n",
       "      <th>weekend_or_not</th>\n",
       "      <th>hour</th>\n",
       "      <th>window</th>\n",
       "      <th>geometry</th>\n",
       "      <th>Incident_ID</th>\n",
       "      <th>Dist_to_Seg</th>\n",
       "      <th>XDSegID</th>\n",
       "    </tr>\n",
       "  </thead>\n",
       "  <tbody>\n",
       "    <tr>\n",
       "      <th>0</th>\n",
       "      <td>ObjectId(59d3a81908f47311c891f8e2)</td>\n",
       "      <td>36.037228</td>\n",
       "      <td>-86.783243</td>\n",
       "      <td>29B5</td>\n",
       "      <td>1483257569507</td>\n",
       "      <td>10</td>\n",
       "      <td>1483257569507</td>\n",
       "      <td>1483235969507</td>\n",
       "      <td>268.0</td>\n",
       "      <td>2017</td>\n",
       "      <td>1</td>\n",
       "      <td>1</td>\n",
       "      <td>6</td>\n",
       "      <td>1</td>\n",
       "      <td>1</td>\n",
       "      <td>23</td>\n",
       "      <td>POINT (-86.78324 36.03723)</td>\n",
       "      <td>10</td>\n",
       "      <td>13.550370</td>\n",
       "      <td>1.524394e+09</td>\n",
       "    </tr>\n",
       "    <tr>\n",
       "      <th>1</th>\n",
       "      <td>ObjectId(59d3a81908f47311c891f8e6)</td>\n",
       "      <td>36.037414</td>\n",
       "      <td>-86.786572</td>\n",
       "      <td>29D2P</td>\n",
       "      <td>1483259455000</td>\n",
       "      <td>10</td>\n",
       "      <td>1483259455000</td>\n",
       "      <td>1483237855000</td>\n",
       "      <td>512.0</td>\n",
       "      <td>2017</td>\n",
       "      <td>1</td>\n",
       "      <td>1</td>\n",
       "      <td>6</td>\n",
       "      <td>1</td>\n",
       "      <td>2</td>\n",
       "      <td>30</td>\n",
       "      <td>POINT (-86.78657 36.03741)</td>\n",
       "      <td>11</td>\n",
       "      <td>3.663952</td>\n",
       "      <td>1.524356e+09</td>\n",
       "    </tr>\n",
       "    <tr>\n",
       "      <th>2</th>\n",
       "      <td>ObjectId(59d3a81a08f47311c891f8ef)</td>\n",
       "      <td>36.217663</td>\n",
       "      <td>-86.808699</td>\n",
       "      <td>29D1H</td>\n",
       "      <td>1483263310000</td>\n",
       "      <td>25</td>\n",
       "      <td>1483263310000</td>\n",
       "      <td>1483241710000</td>\n",
       "      <td>271.0</td>\n",
       "      <td>2017</td>\n",
       "      <td>1</td>\n",
       "      <td>1</td>\n",
       "      <td>6</td>\n",
       "      <td>1</td>\n",
       "      <td>3</td>\n",
       "      <td>43</td>\n",
       "      <td>POINT (-86.80870 36.21766)</td>\n",
       "      <td>12</td>\n",
       "      <td>NaN</td>\n",
       "      <td>NaN</td>\n",
       "    </tr>\n",
       "    <tr>\n",
       "      <th>3</th>\n",
       "      <td>ObjectId(59d3a81a08f47311c891f8f9)</td>\n",
       "      <td>36.057790</td>\n",
       "      <td>-86.739728</td>\n",
       "      <td>29D8V</td>\n",
       "      <td>1483266571867</td>\n",
       "      <td>10</td>\n",
       "      <td>1483266571867</td>\n",
       "      <td>1483244971867</td>\n",
       "      <td>366.0</td>\n",
       "      <td>2017</td>\n",
       "      <td>1</td>\n",
       "      <td>1</td>\n",
       "      <td>6</td>\n",
       "      <td>1</td>\n",
       "      <td>4</td>\n",
       "      <td>53</td>\n",
       "      <td>POINT (-86.73973 36.05779)</td>\n",
       "      <td>13</td>\n",
       "      <td>NaN</td>\n",
       "      <td>NaN</td>\n",
       "    </tr>\n",
       "    <tr>\n",
       "      <th>4</th>\n",
       "      <td>ObjectId(59d3a81a08f47311c891f904)</td>\n",
       "      <td>36.039221</td>\n",
       "      <td>-86.602785</td>\n",
       "      <td>29A2V</td>\n",
       "      <td>1483268953000</td>\n",
       "      <td>33</td>\n",
       "      <td>1483268953000</td>\n",
       "      <td>1483247353000</td>\n",
       "      <td>447.0</td>\n",
       "      <td>2017</td>\n",
       "      <td>1</td>\n",
       "      <td>1</td>\n",
       "      <td>6</td>\n",
       "      <td>1</td>\n",
       "      <td>5</td>\n",
       "      <td>61</td>\n",
       "      <td>POINT (-86.60279 36.03922)</td>\n",
       "      <td>14</td>\n",
       "      <td>3.171782</td>\n",
       "      <td>4.496208e+08</td>\n",
       "    </tr>\n",
       "  </tbody>\n",
       "</table>\n",
       "</div>"
      ],
      "text/plain": [
       "                          ID_Original   latitude  longitude emdCardNumber  \\\n",
       "0  ObjectId(59d3a81908f47311c891f8e2)  36.037228 -86.783243          29B5   \n",
       "1  ObjectId(59d3a81908f47311c891f8e6)  36.037414 -86.786572         29D2P   \n",
       "2  ObjectId(59d3a81a08f47311c891f8ef)  36.217663 -86.808699         29D1H   \n",
       "3  ObjectId(59d3a81a08f47311c891f8f9)  36.057790 -86.739728         29D8V   \n",
       "4  ObjectId(59d3a81a08f47311c891f904)  36.039221 -86.602785         29A2V   \n",
       "\n",
       "        time_utc fireZone           time     time_local  response_time_sec  \\\n",
       "0  1483257569507       10  1483257569507  1483235969507              268.0   \n",
       "1  1483259455000       10  1483259455000  1483237855000              512.0   \n",
       "2  1483263310000       25  1483263310000  1483241710000              271.0   \n",
       "3  1483266571867       10  1483266571867  1483244971867              366.0   \n",
       "4  1483268953000       33  1483268953000  1483247353000              447.0   \n",
       "\n",
       "   year  month  day  day_of_week  weekend_or_not  hour  window  \\\n",
       "0  2017      1    1            6               1     1      23   \n",
       "1  2017      1    1            6               1     2      30   \n",
       "2  2017      1    1            6               1     3      43   \n",
       "3  2017      1    1            6               1     4      53   \n",
       "4  2017      1    1            6               1     5      61   \n",
       "\n",
       "                     geometry  Incident_ID  Dist_to_Seg       XDSegID  \n",
       "0  POINT (-86.78324 36.03723)           10    13.550370  1.524394e+09  \n",
       "1  POINT (-86.78657 36.03741)           11     3.663952  1.524356e+09  \n",
       "2  POINT (-86.80870 36.21766)           12          NaN           NaN  \n",
       "3  POINT (-86.73973 36.05779)           13          NaN           NaN  \n",
       "4  POINT (-86.60279 36.03922)           14     3.171782  4.496208e+08  "
      ]
     },
     "execution_count": 43,
     "metadata": {},
     "output_type": "execute_result"
    }
   ],
   "source": [
    "df_incidents = pd.read_json(\"incident.json\")\n",
    "gdf_incidents2 = gpd.GeoDataFrame(\n",
    "    df_incidents, geometry=gpd.points_from_xy(df_incidents.longitude, df_incidents.latitude))\n",
    "incidents = gdf_incidents2.set_crs(\"EPSG:4326\")\n",
    "incidents.head()"
   ]
  },
  {
   "cell_type": "code",
   "execution_count": 12,
   "id": "cfb4d60f",
   "metadata": {
    "id": "cfb4d60f"
   },
   "outputs": [],
   "source": [
    "# dav_grids = gpd.overlay(gdf_dav, grid, how='intersection')\n",
    "# dav_grids.plot()"
   ]
  },
  {
   "cell_type": "code",
   "execution_count": 44,
   "id": "72272772",
   "metadata": {
    "colab": {
     "base_uri": "https://localhost:8080/"
    },
    "id": "72272772",
    "outputId": "55bfa54f-8993-4b05-ea23-fd1cec72f8a1"
   },
   "outputs": [
    {
     "data": {
      "text/plain": [
       "<Projected CRS: EPSG:2274>\n",
       "Name: NAD83 / Tennessee (ftUS)\n",
       "Axis Info [cartesian]:\n",
       "- X[east]: Easting (US survey foot)\n",
       "- Y[north]: Northing (US survey foot)\n",
       "Area of Use:\n",
       "- name: United States (USA) - Tennessee - counties of Anderson; Bedford; Benton; Bledsoe; Blount; Bradley; Campbell; Cannon; Carroll; Carter; Cheatham; Chester; Claiborne; Clay; Cocke; Coffee; Crockett; Cumberland; Davidson; De Kalb; Decatur; Dickson; Dyer; Fayette; Fentress; Franklin; Gibson; Giles; Grainger; Greene; Grundy; Hamblen; Hamilton; Hancock; Hardeman; Hardin; Hawkins; Haywood; Henderson; Henry; Hickman; Houston; Humphreys; Jackson; Jefferson; Johnson; Knox; Lake; Lauderdale; Lawrence; Lewis; Lincoln; Loudon; Macon; Madison; Marion; Marshall; Maury; McMinn; McNairy; Meigs; Monroe; Montgomery; Moore; Morgan; Obion; Overton; Perry; Pickett; Polk; Putnam; Rhea; Roane; Robertson; Rutherford; Scott; Sequatchie; Sevier; Shelby; Smith; Stewart; Sullivan; Sumner; Tipton; Trousdale; Unicoi; Union; Van Buren; Warren; Washington; Wayne; Weakley; White; Williamson; Wilson.\n",
       "- bounds: (-90.31, 34.98, -81.65, 36.68)\n",
       "Coordinate Operation:\n",
       "- name: SPCS83 Tennessee zone (US Survey feet)\n",
       "- method: Lambert Conic Conformal (2SP)\n",
       "Datum: North American Datum 1983\n",
       "- Ellipsoid: GRS 1980\n",
       "- Prime Meridian: Greenwich"
      ]
     },
     "execution_count": 44,
     "metadata": {},
     "output_type": "execute_result"
    }
   ],
   "source": [
    "grids = grid.set_crs(\"EPSG:2274\")\n",
    "grids.crs"
   ]
  },
  {
   "cell_type": "code",
   "execution_count": 45,
   "id": "3099fae5",
   "metadata": {
    "id": "3099fae5"
   },
   "outputs": [],
   "source": [
    "dav_grids = gpd.overlay(gdf_dav, grids, how='intersection')\n",
    "# dav_grids.plot(figsize=(10, 10))\n",
    "# plt.show()\n",
    "# dav_grids.shape"
   ]
  },
  {
   "cell_type": "code",
   "execution_count": 46,
   "id": "86021f07",
   "metadata": {
    "id": "86021f07"
   },
   "outputs": [],
   "source": [
    "dav_grids['grid_num'] = np.arange(len(dav_grids))"
   ]
  },
  {
   "cell_type": "code",
   "execution_count": 47,
   "id": "EF8nlYVRrbQJ",
   "metadata": {
    "colab": {
     "base_uri": "https://localhost:8080/",
     "height": 424
    },
    "id": "EF8nlYVRrbQJ",
    "outputId": "c4745614-a5b2-4d38-e85a-c732627cb152"
   },
   "outputs": [
    {
     "data": {
      "text/html": [
       "<div>\n",
       "<style scoped>\n",
       "    .dataframe tbody tr th:only-of-type {\n",
       "        vertical-align: middle;\n",
       "    }\n",
       "\n",
       "    .dataframe tbody tr th {\n",
       "        vertical-align: top;\n",
       "    }\n",
       "\n",
       "    .dataframe thead th {\n",
       "        text-align: right;\n",
       "    }\n",
       "</style>\n",
       "<table border=\"1\" class=\"dataframe\">\n",
       "  <thead>\n",
       "    <tr style=\"text-align: right;\">\n",
       "      <th></th>\n",
       "      <th>AREA</th>\n",
       "      <th>PERIMETER</th>\n",
       "      <th>TNCODD_</th>\n",
       "      <th>TNCODD_ID</th>\n",
       "      <th>INDEX_NO</th>\n",
       "      <th>COUNTY</th>\n",
       "      <th>STATE</th>\n",
       "      <th>geometry</th>\n",
       "      <th>grid_num</th>\n",
       "    </tr>\n",
       "  </thead>\n",
       "  <tbody>\n",
       "    <tr>\n",
       "      <th>0</th>\n",
       "      <td>0.136355</td>\n",
       "      <td>2.063989</td>\n",
       "      <td>32</td>\n",
       "      <td>30</td>\n",
       "      <td>63</td>\n",
       "      <td>Davidson</td>\n",
       "      <td>TN</td>\n",
       "      <td>POLYGON ((1661067.007 604445.851, 1660729.383 ...</td>\n",
       "      <td>0</td>\n",
       "    </tr>\n",
       "    <tr>\n",
       "      <th>1</th>\n",
       "      <td>0.136355</td>\n",
       "      <td>2.063989</td>\n",
       "      <td>32</td>\n",
       "      <td>30</td>\n",
       "      <td>63</td>\n",
       "      <td>Davidson</td>\n",
       "      <td>TN</td>\n",
       "      <td>POLYGON ((1660556.754 606980.106, 1660160.039 ...</td>\n",
       "      <td>1</td>\n",
       "    </tr>\n",
       "    <tr>\n",
       "      <th>2</th>\n",
       "      <td>0.136355</td>\n",
       "      <td>2.063989</td>\n",
       "      <td>32</td>\n",
       "      <td>30</td>\n",
       "      <td>63</td>\n",
       "      <td>Davidson</td>\n",
       "      <td>TN</td>\n",
       "      <td>POLYGON ((1659182.784 613788.323, 1658655.633 ...</td>\n",
       "      <td>2</td>\n",
       "    </tr>\n",
       "    <tr>\n",
       "      <th>3</th>\n",
       "      <td>0.136355</td>\n",
       "      <td>2.063989</td>\n",
       "      <td>32</td>\n",
       "      <td>30</td>\n",
       "      <td>63</td>\n",
       "      <td>Davidson</td>\n",
       "      <td>TN</td>\n",
       "      <td>POLYGON ((1658154.847 618932.019, 1657629.924 ...</td>\n",
       "      <td>3</td>\n",
       "    </tr>\n",
       "    <tr>\n",
       "      <th>4</th>\n",
       "      <td>0.136355</td>\n",
       "      <td>2.063989</td>\n",
       "      <td>32</td>\n",
       "      <td>30</td>\n",
       "      <td>63</td>\n",
       "      <td>Davidson</td>\n",
       "      <td>TN</td>\n",
       "      <td>POLYGON ((1657456.311 622368.268, 1657102.590 ...</td>\n",
       "      <td>4</td>\n",
       "    </tr>\n",
       "    <tr>\n",
       "      <th>...</th>\n",
       "      <td>...</td>\n",
       "      <td>...</td>\n",
       "      <td>...</td>\n",
       "      <td>...</td>\n",
       "      <td>...</td>\n",
       "      <td>...</td>\n",
       "      <td>...</td>\n",
       "      <td>...</td>\n",
       "      <td>...</td>\n",
       "    </tr>\n",
       "    <tr>\n",
       "      <th>599</th>\n",
       "      <td>0.136355</td>\n",
       "      <td>2.063989</td>\n",
       "      <td>32</td>\n",
       "      <td>30</td>\n",
       "      <td>63</td>\n",
       "      <td>Davidson</td>\n",
       "      <td>TN</td>\n",
       "      <td>POLYGON ((1810293.363 657484.514, 1810964.959 ...</td>\n",
       "      <td>599</td>\n",
       "    </tr>\n",
       "    <tr>\n",
       "      <th>600</th>\n",
       "      <td>0.000005</td>\n",
       "      <td>0.010867</td>\n",
       "      <td>51</td>\n",
       "      <td>99</td>\n",
       "      <td>63</td>\n",
       "      <td>Davidson</td>\n",
       "      <td>TN</td>\n",
       "      <td>POLYGON ((1813945.726 657150.905, 1814146.610 ...</td>\n",
       "      <td>600</td>\n",
       "    </tr>\n",
       "    <tr>\n",
       "      <th>601</th>\n",
       "      <td>0.136355</td>\n",
       "      <td>2.063989</td>\n",
       "      <td>32</td>\n",
       "      <td>30</td>\n",
       "      <td>63</td>\n",
       "      <td>Davidson</td>\n",
       "      <td>TN</td>\n",
       "      <td>POLYGON ((1815545.748 637646.651, 1815064.954 ...</td>\n",
       "      <td>601</td>\n",
       "    </tr>\n",
       "    <tr>\n",
       "      <th>602</th>\n",
       "      <td>0.136355</td>\n",
       "      <td>2.063989</td>\n",
       "      <td>32</td>\n",
       "      <td>30</td>\n",
       "      <td>63</td>\n",
       "      <td>Davidson</td>\n",
       "      <td>TN</td>\n",
       "      <td>POLYGON ((1815815.066 640405.917, 1815560.980 ...</td>\n",
       "      <td>602</td>\n",
       "    </tr>\n",
       "    <tr>\n",
       "      <th>603</th>\n",
       "      <td>0.136355</td>\n",
       "      <td>2.063989</td>\n",
       "      <td>32</td>\n",
       "      <td>30</td>\n",
       "      <td>63</td>\n",
       "      <td>Davidson</td>\n",
       "      <td>TN</td>\n",
       "      <td>POLYGON ((1815399.163 644449.174, 1816060.568 ...</td>\n",
       "      <td>603</td>\n",
       "    </tr>\n",
       "  </tbody>\n",
       "</table>\n",
       "<p>604 rows × 9 columns</p>\n",
       "</div>"
      ],
      "text/plain": [
       "         AREA  PERIMETER  TNCODD_  TNCODD_ID  INDEX_NO    COUNTY STATE  \\\n",
       "0    0.136355   2.063989       32         30        63  Davidson    TN   \n",
       "1    0.136355   2.063989       32         30        63  Davidson    TN   \n",
       "2    0.136355   2.063989       32         30        63  Davidson    TN   \n",
       "3    0.136355   2.063989       32         30        63  Davidson    TN   \n",
       "4    0.136355   2.063989       32         30        63  Davidson    TN   \n",
       "..        ...        ...      ...        ...       ...       ...   ...   \n",
       "599  0.136355   2.063989       32         30        63  Davidson    TN   \n",
       "600  0.000005   0.010867       51         99        63  Davidson    TN   \n",
       "601  0.136355   2.063989       32         30        63  Davidson    TN   \n",
       "602  0.136355   2.063989       32         30        63  Davidson    TN   \n",
       "603  0.136355   2.063989       32         30        63  Davidson    TN   \n",
       "\n",
       "                                              geometry  grid_num  \n",
       "0    POLYGON ((1661067.007 604445.851, 1660729.383 ...         0  \n",
       "1    POLYGON ((1660556.754 606980.106, 1660160.039 ...         1  \n",
       "2    POLYGON ((1659182.784 613788.323, 1658655.633 ...         2  \n",
       "3    POLYGON ((1658154.847 618932.019, 1657629.924 ...         3  \n",
       "4    POLYGON ((1657456.311 622368.268, 1657102.590 ...         4  \n",
       "..                                                 ...       ...  \n",
       "599  POLYGON ((1810293.363 657484.514, 1810964.959 ...       599  \n",
       "600  POLYGON ((1813945.726 657150.905, 1814146.610 ...       600  \n",
       "601  POLYGON ((1815545.748 637646.651, 1815064.954 ...       601  \n",
       "602  POLYGON ((1815815.066 640405.917, 1815560.980 ...       602  \n",
       "603  POLYGON ((1815399.163 644449.174, 1816060.568 ...       603  \n",
       "\n",
       "[604 rows x 9 columns]"
      ]
     },
     "execution_count": 47,
     "metadata": {},
     "output_type": "execute_result"
    }
   ],
   "source": [
    "dav_grids"
   ]
  },
  {
   "cell_type": "code",
   "execution_count": 48,
   "id": "856fe5c7",
   "metadata": {
    "id": "856fe5c7"
   },
   "outputs": [],
   "source": [
    "dav_grids2 = dav_grids.to_crs(\"EPSG:4326\")"
   ]
  },
  {
   "cell_type": "code",
   "execution_count": 49,
   "id": "c021d611",
   "metadata": {
    "colab": {
     "base_uri": "https://localhost:8080/",
     "height": 424
    },
    "id": "c021d611",
    "outputId": "ec68551e-aae8-40ae-b39f-01db14c728f9"
   },
   "outputs": [
    {
     "data": {
      "text/html": [
       "<div>\n",
       "<style scoped>\n",
       "    .dataframe tbody tr th:only-of-type {\n",
       "        vertical-align: middle;\n",
       "    }\n",
       "\n",
       "    .dataframe tbody tr th {\n",
       "        vertical-align: top;\n",
       "    }\n",
       "\n",
       "    .dataframe thead th {\n",
       "        text-align: right;\n",
       "    }\n",
       "</style>\n",
       "<table border=\"1\" class=\"dataframe\">\n",
       "  <thead>\n",
       "    <tr style=\"text-align: right;\">\n",
       "      <th></th>\n",
       "      <th>AREA</th>\n",
       "      <th>PERIMETER</th>\n",
       "      <th>TNCODD_</th>\n",
       "      <th>TNCODD_ID</th>\n",
       "      <th>INDEX_NO</th>\n",
       "      <th>COUNTY</th>\n",
       "      <th>STATE</th>\n",
       "      <th>geometry</th>\n",
       "      <th>grid_num</th>\n",
       "    </tr>\n",
       "  </thead>\n",
       "  <tbody>\n",
       "    <tr>\n",
       "      <th>0</th>\n",
       "      <td>0.136355</td>\n",
       "      <td>2.063989</td>\n",
       "      <td>32</td>\n",
       "      <td>30</td>\n",
       "      <td>63</td>\n",
       "      <td>Davidson</td>\n",
       "      <td>TN</td>\n",
       "      <td>POLYGON ((-87.03922 35.98939, -87.04042 35.993...</td>\n",
       "      <td>0</td>\n",
       "    </tr>\n",
       "    <tr>\n",
       "      <th>1</th>\n",
       "      <td>0.136355</td>\n",
       "      <td>2.063989</td>\n",
       "      <td>32</td>\n",
       "      <td>30</td>\n",
       "      <td>63</td>\n",
       "      <td>Davidson</td>\n",
       "      <td>TN</td>\n",
       "      <td>POLYGON ((-87.04103 35.99633, -87.04244 36.001...</td>\n",
       "      <td>1</td>\n",
       "    </tr>\n",
       "    <tr>\n",
       "      <th>2</th>\n",
       "      <td>0.136355</td>\n",
       "      <td>2.063989</td>\n",
       "      <td>32</td>\n",
       "      <td>30</td>\n",
       "      <td>63</td>\n",
       "      <td>Davidson</td>\n",
       "      <td>TN</td>\n",
       "      <td>POLYGON ((-87.04592 36.01500, -87.04780 36.022...</td>\n",
       "      <td>2</td>\n",
       "    </tr>\n",
       "    <tr>\n",
       "      <th>3</th>\n",
       "      <td>0.136355</td>\n",
       "      <td>2.063989</td>\n",
       "      <td>32</td>\n",
       "      <td>30</td>\n",
       "      <td>63</td>\n",
       "      <td>Davidson</td>\n",
       "      <td>TN</td>\n",
       "      <td>POLYGON ((-87.04958 36.02909, -87.05145 36.036...</td>\n",
       "      <td>3</td>\n",
       "    </tr>\n",
       "    <tr>\n",
       "      <th>4</th>\n",
       "      <td>0.136355</td>\n",
       "      <td>2.063989</td>\n",
       "      <td>32</td>\n",
       "      <td>30</td>\n",
       "      <td>63</td>\n",
       "      <td>Davidson</td>\n",
       "      <td>TN</td>\n",
       "      <td>POLYGON ((-87.05207 36.03851, -87.05333 36.043...</td>\n",
       "      <td>4</td>\n",
       "    </tr>\n",
       "    <tr>\n",
       "      <th>...</th>\n",
       "      <td>...</td>\n",
       "      <td>...</td>\n",
       "      <td>...</td>\n",
       "      <td>...</td>\n",
       "      <td>...</td>\n",
       "      <td>...</td>\n",
       "      <td>...</td>\n",
       "      <td>...</td>\n",
       "      <td>...</td>\n",
       "    </tr>\n",
       "    <tr>\n",
       "      <th>599</th>\n",
       "      <td>0.136355</td>\n",
       "      <td>2.063989</td>\n",
       "      <td>32</td>\n",
       "      <td>30</td>\n",
       "      <td>63</td>\n",
       "      <td>Davidson</td>\n",
       "      <td>TN</td>\n",
       "      <td>POLYGON ((-86.53578 36.13838, -86.53350 36.137...</td>\n",
       "      <td>599</td>\n",
       "    </tr>\n",
       "    <tr>\n",
       "      <th>600</th>\n",
       "      <td>0.000005</td>\n",
       "      <td>0.010867</td>\n",
       "      <td>51</td>\n",
       "      <td>99</td>\n",
       "      <td>63</td>\n",
       "      <td>Davidson</td>\n",
       "      <td>TN</td>\n",
       "      <td>POLYGON ((-86.52341 36.13752, -86.52274 36.140...</td>\n",
       "      <td>600</td>\n",
       "    </tr>\n",
       "    <tr>\n",
       "      <th>601</th>\n",
       "      <td>0.136355</td>\n",
       "      <td>2.063989</td>\n",
       "      <td>32</td>\n",
       "      <td>30</td>\n",
       "      <td>63</td>\n",
       "      <td>Davidson</td>\n",
       "      <td>TN</td>\n",
       "      <td>POLYGON ((-86.51764 36.08397, -86.51927 36.084...</td>\n",
       "      <td>601</td>\n",
       "    </tr>\n",
       "    <tr>\n",
       "      <th>602</th>\n",
       "      <td>0.136355</td>\n",
       "      <td>2.063989</td>\n",
       "      <td>32</td>\n",
       "      <td>30</td>\n",
       "      <td>63</td>\n",
       "      <td>Davidson</td>\n",
       "      <td>TN</td>\n",
       "      <td>POLYGON ((-86.51678 36.09155, -86.51759 36.084...</td>\n",
       "      <td>602</td>\n",
       "    </tr>\n",
       "    <tr>\n",
       "      <th>603</th>\n",
       "      <td>0.136355</td>\n",
       "      <td>2.063989</td>\n",
       "      <td>32</td>\n",
       "      <td>30</td>\n",
       "      <td>63</td>\n",
       "      <td>Davidson</td>\n",
       "      <td>TN</td>\n",
       "      <td>POLYGON ((-86.51826 36.10265, -86.51601 36.100...</td>\n",
       "      <td>603</td>\n",
       "    </tr>\n",
       "  </tbody>\n",
       "</table>\n",
       "<p>604 rows × 9 columns</p>\n",
       "</div>"
      ],
      "text/plain": [
       "         AREA  PERIMETER  TNCODD_  TNCODD_ID  INDEX_NO    COUNTY STATE  \\\n",
       "0    0.136355   2.063989       32         30        63  Davidson    TN   \n",
       "1    0.136355   2.063989       32         30        63  Davidson    TN   \n",
       "2    0.136355   2.063989       32         30        63  Davidson    TN   \n",
       "3    0.136355   2.063989       32         30        63  Davidson    TN   \n",
       "4    0.136355   2.063989       32         30        63  Davidson    TN   \n",
       "..        ...        ...      ...        ...       ...       ...   ...   \n",
       "599  0.136355   2.063989       32         30        63  Davidson    TN   \n",
       "600  0.000005   0.010867       51         99        63  Davidson    TN   \n",
       "601  0.136355   2.063989       32         30        63  Davidson    TN   \n",
       "602  0.136355   2.063989       32         30        63  Davidson    TN   \n",
       "603  0.136355   2.063989       32         30        63  Davidson    TN   \n",
       "\n",
       "                                              geometry  grid_num  \n",
       "0    POLYGON ((-87.03922 35.98939, -87.04042 35.993...         0  \n",
       "1    POLYGON ((-87.04103 35.99633, -87.04244 36.001...         1  \n",
       "2    POLYGON ((-87.04592 36.01500, -87.04780 36.022...         2  \n",
       "3    POLYGON ((-87.04958 36.02909, -87.05145 36.036...         3  \n",
       "4    POLYGON ((-87.05207 36.03851, -87.05333 36.043...         4  \n",
       "..                                                 ...       ...  \n",
       "599  POLYGON ((-86.53578 36.13838, -86.53350 36.137...       599  \n",
       "600  POLYGON ((-86.52341 36.13752, -86.52274 36.140...       600  \n",
       "601  POLYGON ((-86.51764 36.08397, -86.51927 36.084...       601  \n",
       "602  POLYGON ((-86.51678 36.09155, -86.51759 36.084...       602  \n",
       "603  POLYGON ((-86.51826 36.10265, -86.51601 36.100...       603  \n",
       "\n",
       "[604 rows x 9 columns]"
      ]
     },
     "execution_count": 49,
     "metadata": {},
     "output_type": "execute_result"
    }
   ],
   "source": [
    "dav_grids2"
   ]
  },
  {
   "cell_type": "code",
   "execution_count": 17,
   "id": "2eea1a14",
   "metadata": {
    "id": "2eea1a14"
   },
   "outputs": [],
   "source": []
  },
  {
   "cell_type": "code",
   "execution_count": 50,
   "id": "cabf84ef",
   "metadata": {
    "id": "cabf84ef"
   },
   "outputs": [],
   "source": [
    "joined2 = incidents.sjoin(dav_grids2, how=\"right\")\n",
    "# joined2[joined2[\"grid_num\"]==299]"
   ]
  },
  {
   "cell_type": "code",
   "execution_count": 51,
   "id": "cd537fbf",
   "metadata": {
    "colab": {
     "base_uri": "https://localhost:8080/"
    },
    "id": "cd537fbf",
    "outputId": "f7532f0b-6f34-4f30-e80a-9bf3038cbe62"
   },
   "outputs": [
    {
     "data": {
      "text/plain": [
       "(29745, 29)"
      ]
     },
     "execution_count": 51,
     "metadata": {},
     "output_type": "execute_result"
    }
   ],
   "source": [
    "# joined2['row_num'] = np.arange(len(joined2))\n",
    "joined2['grid_num'].nunique()\n",
    "joined2.shape"
   ]
  },
  {
   "cell_type": "code",
   "execution_count": 20,
   "id": "0c1a5173",
   "metadata": {
    "colab": {
     "base_uri": "https://localhost:8080/"
    },
    "id": "0c1a5173",
    "outputId": "76c1567e-2d6b-49c1-bfa3-1d5eecb70959"
   },
   "outputs": [
    {
     "data": {
      "text/plain": [
       "125"
      ]
     },
     "execution_count": 20,
     "metadata": {},
     "output_type": "execute_result"
    }
   ],
   "source": [
    "joined2.isnull().sum(axis=1)\n",
    "joined2['index_left'].isna().sum()"
   ]
  },
  {
   "cell_type": "code",
   "execution_count": 21,
   "id": "2dcd2347",
   "metadata": {
    "colab": {
     "base_uri": "https://localhost:8080/"
    },
    "id": "2dcd2347",
    "outputId": "315b185b-17a0-49e6-d75a-711c639f33db"
   },
   "outputs": [
    {
     "name": "stdout",
     "output_type": "stream",
     "text": [
      "dt_object = 2021-02-27 13:01:27.997000\n"
     ]
    }
   ],
   "source": [
    "from datetime import datetime\n",
    "\n",
    "timestamp = 1614452487.997\n",
    "#1483286459.000\n",
    "# 1483250400.000\n",
    "#1483247353.000\n",
    "#1483241710.000\n",
    "#1483237855.000\n",
    "#1483235969.507\n",
    "# 1492677023.000\n",
    "dt_object = datetime.fromtimestamp(timestamp)\n",
    "\n",
    "print(\"dt_object =\", dt_object)"
   ]
  },
  {
   "cell_type": "code",
   "execution_count": 22,
   "id": "2689d764",
   "metadata": {
    "id": "2689d764"
   },
   "outputs": [],
   "source": [
    "# joined2.dropna(subset = [\"index_left\"], inplace=True)"
   ]
  },
  {
   "cell_type": "code",
   "execution_count": 52,
   "id": "e540da6d",
   "metadata": {
    "colab": {
     "base_uri": "https://localhost:8080/"
    },
    "id": "e540da6d",
    "outputId": "f7935902-eeba-4a2d-a3b0-43c055f8c59f"
   },
   "outputs": [
    {
     "data": {
      "text/plain": [
       "299    569\n",
       "325    559\n",
       "382    544\n",
       "479    534\n",
       "274    515\n",
       "      ... \n",
       "240      1\n",
       "241      1\n",
       "242      1\n",
       "258      1\n",
       "603      1\n",
       "Name: grid_num, Length: 604, dtype: int64"
      ]
     },
     "execution_count": 52,
     "metadata": {},
     "output_type": "execute_result"
    }
   ],
   "source": [
    "joined2.grid_num.value_counts()"
   ]
  },
  {
   "cell_type": "code",
   "execution_count": 53,
   "id": "25a1486e",
   "metadata": {
    "id": "25a1486e"
   },
   "outputs": [],
   "source": [
    "inc_grids = pd.Series.tolist(joined2.grid_num.value_counts())\n"
   ]
  },
  {
   "cell_type": "code",
   "execution_count": 54,
   "id": "6ca6c0c7",
   "metadata": {
    "id": "6ca6c0c7"
   },
   "outputs": [],
   "source": [
    "inc_index = list(joined2.grid_num.value_counts().index)"
   ]
  },
  {
   "cell_type": "code",
   "execution_count": 26,
   "id": "6cf8b3bc",
   "metadata": {
    "id": "6cf8b3bc"
   },
   "outputs": [],
   "source": [
    "# inc_index.sort()"
   ]
  },
  {
   "cell_type": "code",
   "execution_count": 27,
   "id": "f1611b5f",
   "metadata": {
    "id": "f1611b5f"
   },
   "outputs": [],
   "source": [
    "# dax = dav_grids2.plot(figsize=(20, 20))\n",
    "# joined2[joined2.row_num == 299].plot(ax = dax, figsize=(20, 20), color='red')"
   ]
  },
  {
   "cell_type": "code",
   "execution_count": 28,
   "id": "e1ae2175",
   "metadata": {
    "id": "e1ae2175"
   },
   "outputs": [],
   "source": [
    "# dav_grids2[\"no_of_incidents\"] = 0\n",
    "# dav_grids2.head()"
   ]
  },
  {
   "cell_type": "code",
   "execution_count": 55,
   "id": "29420792",
   "metadata": {
    "colab": {
     "base_uri": "https://localhost:8080/"
    },
    "id": "29420792",
    "outputId": "234da8e8-889c-48a7-c7fb-9d2e85ce8cd7"
   },
   "outputs": [
    {
     "name": "stderr",
     "output_type": "stream",
     "text": [
      "C:\\Users\\risha\\AppData\\Local\\Programs\\Python\\Python37\\lib\\site-packages\\ipykernel_launcher.py:8: SettingWithCopyWarning: \n",
      "A value is trying to be set on a copy of a slice from a DataFrame\n",
      "\n",
      "See the caveats in the documentation: https://pandas.pydata.org/pandas-docs/stable/user_guide/indexing.html#returning-a-view-versus-a-copy\n",
      "  \n"
     ]
    }
   ],
   "source": [
    "dav_grids2[\"no_of_incidents\"] = 0\n",
    "\n",
    "for i in range(len(inc_index)):\n",
    "#     print(\"i\",i)\n",
    "    for j in range(dav_grids2.shape[0]):\n",
    "#         print(j, joined[\"row_num\"][j], inc_index[i], inc_grids[i])\n",
    "        if (dav_grids2[\"grid_num\"][j] == inc_index[i]):\n",
    "            dav_grids2[\"no_of_incidents\"][j]= inc_grids[i]\n",
    "        \n",
    "        "
   ]
  },
  {
   "cell_type": "code",
   "execution_count": 56,
   "id": "7fcc8c72",
   "metadata": {
    "colab": {
     "base_uri": "https://localhost:8080/",
     "height": 591
    },
    "id": "7fcc8c72",
    "outputId": "f39b26b6-eb37-4a48-bdaf-11688c0b6aa7"
   },
   "outputs": [
    {
     "data": {
      "text/plain": [
       "<AxesSubplot:>"
      ]
     },
     "execution_count": 56,
     "metadata": {},
     "output_type": "execute_result"
    },
    {
     "data": {
      "image/png": "[encoded data removed]",
      "text/plain": [
       "<Figure size 720x720 with 2 Axes>"
      ]
     },
     "metadata": {
      "needs_background": "light"
     },
     "output_type": "display_data"
    }
   ],
   "source": [
    "dav_grids2.plot(column='no_of_incidents', legend=True, figsize=(10, 10))"
   ]
  },
  {
   "cell_type": "code",
   "execution_count": 68,
   "id": "660099db",
   "metadata": {
    "colab": {
     "base_uri": "https://localhost:8080/"
    },
    "id": "660099db",
    "outputId": "1f81b4fb-44a2-404f-c490-3f06c1fb275f"
   },
   "outputs": [
    {
     "name": "stdout",
     "output_type": "stream",
     "text": [
      "9126\n"
     ]
    }
   ],
   "source": [
    "import math\n",
    "start_time = 1483250400000 # 2017-01-01 00:00:00\n",
    "# start_time = g_dav.time_local.min()\n",
    "end_time = 1614671157253 # 2021-03-02 01:45:57.253000\n",
    "# end_time = g_dav.time_local.max()\n",
    "\n",
    "curr_time = start_time/1000\n",
    "# print(start_time/1000)\n",
    "\n",
    "incidents_per_month = [0 for i in range(int(math.ceil((end_time - start_time)/1000)/2592000))]\n",
    "incidents_per_day = [0 for i in range(int(math.ceil((end_time - start_time)/1000)/86400))]\n",
    "incidents_per_4hrs = [0 for i in range(int(math.ceil((end_time - start_time)/1000)/14400)+10)]\n",
    "print(int(math.ceil((end_time - start_time)/1000)/14400))"
   ]
  },
  {
   "cell_type": "code",
   "execution_count": 74,
   "id": "8d20f2a1",
   "metadata": {
    "colab": {
     "base_uri": "https://localhost:8080/",
     "height": 235
    },
    "id": "8d20f2a1",
    "outputId": "5e9c7618-a79d-4596-c9c2-6a95b99b80ac"
   },
   "outputs": [
    {
     "data": {
      "text/plain": [
       "63"
      ]
     },
     "execution_count": 74,
     "metadata": {},
     "output_type": "execute_result"
    }
   ],
   "source": [
    "counter_4hrs = 0\n",
    "\n",
    "for i in range(0, g_dav.shape[0]):\n",
    "    inc_time = (g_dav.time_local.iloc[i])/1000 #incident time #incidents.time_local\n",
    "    while True:\n",
    "        limit_time = curr_time +14400\n",
    "#         print(inc_time-limit_time, inc_time-curr_time)\n",
    "        if (inc_time < limit_time):\n",
    "            incidents_per_4hrs[counter_4hrs]+=1\n",
    "            break\n",
    "    \n",
    "        else:\n",
    "            curr_time = limit_time\n",
    "            counter_4hrs += 1\n",
    "        \n",
    "# print(counter_4hrs)\n",
    "# print(incidents_per_4hrs)\n",
    "sum(incidents_per_4hrs)\n",
    "\n",
    " "
   ]
  },
  {
   "cell_type": "code",
   "execution_count": null,
   "id": "7e197181",
   "metadata": {
    "id": "7e197181"
   },
   "outputs": [],
   "source": [
    "plt.figure(figsize=(50, 10), dpi=100)\n",
    "plt.plot(incidents_per_4hrs)"
   ]
  },
  {
   "cell_type": "code",
   "execution_count": null,
   "id": "25cc1d54",
   "metadata": {
    "id": "25cc1d54"
   },
   "outputs": [],
   "source": [
    "sum_day = incidents_per_4hrs[0]\n",
    "counter_day = 0\n",
    "for i in range(1, counter_4hrs+1): \n",
    "    if i%6 == 0:\n",
    "        incidents_per_day[counter_day] = sum_day\n",
    "        counter_day+=1\n",
    "        sum_day = 0\n",
    "    sum_day += incidents_per_4hrs[i]\n",
    "    \n",
    "# print(incidents_per_day)"
   ]
  },
  {
   "cell_type": "code",
   "execution_count": null,
   "id": "6e4879ca",
   "metadata": {
    "id": "6e4879ca"
   },
   "outputs": [],
   "source": [
    "plt.figure(figsize=(50, 10), dpi=100)\n",
    "plt.plot(incidents_per_day)"
   ]
  },
  {
   "cell_type": "code",
   "execution_count": null,
   "id": "a48f0e5c",
   "metadata": {
    "id": "a48f0e5c"
   },
   "outputs": [],
   "source": [
    "sum_month = incidents_per_day[0]\n",
    "counter_month = 0\n",
    "for i in range(1, counter_day): \n",
    "    if i%30 == 0:\n",
    "        incidents_per_month[counter_month] = sum_month\n",
    "        counter_month+=1\n",
    "        sum_month = 0\n",
    "    sum_month += incidents_per_day[i]\n",
    "# print(incidents_per_month)"
   ]
  },
  {
   "cell_type": "code",
   "execution_count": null,
   "id": "6490f215",
   "metadata": {
    "id": "6490f215"
   },
   "outputs": [],
   "source": [
    "values = pd.date_range('2017-01-01','2021-02-01', freq='MS').strftime(\"%Y-%m\").tolist()\n",
    "# print(values)\n",
    "plt.figure(figsize=(50, 10), dpi=100)\n",
    "plt.plot(incidents_per_month, marker='o')\n",
    "default_x_ticks = range(counter_month)\n",
    "# plt.xticks(default_x_ticks,values)\n",
    "plt.show()"
   ]
  },
  {
   "cell_type": "code",
   "execution_count": 72,
   "id": "902a3455",
   "metadata": {
    "id": "902a3455"
   },
   "outputs": [
    {
     "data": {
      "text/plain": [
       "1614067915.55"
      ]
     },
     "execution_count": 72,
     "metadata": {},
     "output_type": "execute_result"
    }
   ],
   "source": [
    "g = (dav_grids2.iloc[299].geometry)\n",
    "g_dav = joined2[joined2[\"grid_num\"]==200]\n",
    "g_dav.time_local.max()/1000"
   ]
  },
  {
   "cell_type": "code",
   "execution_count": 73,
   "id": "57be6f31",
   "metadata": {
    "id": "57be6f31"
   },
   "outputs": [
    {
     "data": {
      "text/plain": [
       "1483235969507"
      ]
     },
     "execution_count": 73,
     "metadata": {},
     "output_type": "execute_result"
    }
   ],
   "source": [
    "g_dav[[\"day\", \"hour\"]].head(20)\n",
    "incidents.time_local.iloc[0]"
   ]
  },
  {
   "cell_type": "code",
   "execution_count": 80,
   "id": "be81a870",
   "metadata": {
    "id": "be81a870"
   },
   "outputs": [],
   "source": [
    "joined3 = joined2\n",
    "joined3.dropna(subset = [\"time_local\"], inplace=True)"
   ]
  },
  {
   "cell_type": "code",
   "execution_count": 81,
   "id": "70598099",
   "metadata": {
    "colab": {
     "base_uri": "https://localhost:8080/"
    },
    "id": "70598099",
    "outputId": "146a8664-c31d-4b69-aca7-a6bddc926af9"
   },
   "outputs": [
    {
     "name": "stdout",
     "output_type": "stream",
     "text": [
      "568\n"
     ]
    }
   ],
   "source": [
    "incidents_mat = [np.arange(len(incidents_per_month))]\n",
    "\n",
    "start_time = 1483250400000 # 2017-01-01 00:00:00\n",
    "end_time = 1614671157253 # 2021-03-02 01:45:57.253000\n",
    "duration = int(math.ceil((end_time - start_time)/1000))\n",
    "for k in range(dav_grids2.grid_num.iloc[-1]+1):\n",
    "    g_dav = joined3[joined3[\"grid_num\"]==k]\n",
    "#     print(g_dav[\"grid_num\"])\n",
    "    \n",
    "    curr_time = start_time/1000\n",
    "    incidents_per_month = [0 for i in range(int(math.ceil((end_time - start_time)/1000)/2592000))]\n",
    "    incidents_per_day = [0 for i in range(int(duration/86400))]\n",
    "    incidents_per_4hrs = [0 for i in range(int(duration/14400)+10)]\n",
    "    counter_4hrs = 0\n",
    "\n",
    "    for i in range(g_dav.shape[0]):\n",
    "        inc_time = (g_dav.time_local.iloc[i])/1000 #incident time #incidents.time_local\n",
    "        while True:\n",
    "            limit_time = curr_time +14400\n",
    "    #         print(inc_time-limit_time, inc_time-curr_time)\n",
    "            if (inc_time < limit_time):\n",
    "                incidents_per_4hrs[counter_4hrs]+=1\n",
    "#                 print(\"found\")\n",
    "                break\n",
    "\n",
    "            else:\n",
    "                curr_time = limit_time\n",
    "                counter_4hrs += 1\n",
    "                \n",
    "    sum_day = incidents_per_4hrs[0]\n",
    "    counter_day = 0\n",
    "    for i in range(1, counter_4hrs+1): \n",
    "        if i%6 == 0:\n",
    "            incidents_per_day[counter_day] = sum_day\n",
    "            counter_day+=1\n",
    "            sum_day = 0\n",
    "        sum_day += incidents_per_4hrs[i]\n",
    "#     print(k)\n",
    "    if (k == 299):\n",
    "        print(sum(incidents_per_day))\n",
    "        \n",
    "    sum_month = incidents_per_day[0]\n",
    "    counter_month = 0\n",
    "    for i in range(1, counter_day): \n",
    "        if i%30 == 0:\n",
    "            incidents_per_month[counter_month] = sum_month\n",
    "            counter_month+=1\n",
    "            sum_month = 0\n",
    "        sum_month += incidents_per_day[i]\n",
    "#         print(sum_month)\n",
    "        \n",
    "    incidents_mat.append(incidents_per_month)"
   ]
  },
  {
   "cell_type": "code",
   "execution_count": 95,
   "id": "a8b9a387",
   "metadata": {
    "id": "a8b9a387"
   },
   "outputs": [],
   "source": [
    "import pandas as pd\n",
    "from patsy import dmatrices\n",
    "import numpy as np\n",
    "import statsmodels.api as sm\n",
    "import matplotlib.pyplot as plt"
   ]
  },
  {
   "cell_type": "code",
   "execution_count": 42,
   "id": "9e366e6e",
   "metadata": {
    "id": "9e366e6e"
   },
   "outputs": [],
   "source": [
    "df_train = df.query('index<=40')\n",
    "df_test = df.query('index>40').reset_index().drop('index', axis=1)\n",
    "# mask = np.random.rand(len(df)) < 0.8\n",
    "\n",
    "# df_train = df[mask]\n",
    "# df_test = df[~mask]\n",
    "# print('Training data set length='+str(len(df_train)))\n",
    "# print('Testing data set length='+str(len(df_test)))"
   ]
  },
  {
   "cell_type": "code",
   "execution_count": 153,
   "id": "e200df35",
   "metadata": {},
   "outputs": [
    {
     "data": {
      "text/plain": [
       "<AxesSubplot:>"
      ]
     },
     "execution_count": 153,
     "metadata": {},
     "output_type": "execute_result"
    },
    {
     "data": {
      "image/png": "[encoded data removed]",
      "text/plain": [
       "<Figure size 864x864 with 1 Axes>"
      ]
     },
     "metadata": {
      "needs_background": "light"
     },
     "output_type": "display_data"
    }
   ],
   "source": [
    "dav_grids3 = dav_grids2\n",
    "dax = dav_grids3.plot(figsize=(12, 12))\n",
    "dav_grids3.plot(ax = dax)\n",
    "for i in range(len(kmeans_labels)):\n",
    "    if kmeans_labels[i] == 0:\n",
    "        dav_grids3[dav_grids3.grid_num == i].plot(ax = dax, color='paleturquoise')\n",
    "    elif kmeans_labels[i]==1:\n",
    "        dav_grids3[dav_grids3.grid_num == i].plot(ax = dax, color='thistle')\n",
    "    elif kmeans_labels[i]==2:\n",
    "        dav_grids3[dav_grids3.grid_num == i].plot(ax = dax, color='palegoldenrod')\n",
    "dav_grids3[dav_grids3.grid_num == math.floor(cc[0][0])].plot(ax = dax, color='black')\n",
    "dav_grids3[dav_grids3.grid_num == math.ceil(cc[1][0])].plot(ax = dax, color='black')\n",
    "dav_grids3[dav_grids3.grid_num == math.floor(cc[2][0])].plot(ax = dax, color='black')"
   ]
  }
 ],
 "metadata": {
  "colab": {
   "name": "davidson_incidents_PR-updated.ipynb",
   "provenance": []
  },
  "kernelspec": {
   "display_name": "Python 3 (ipykernel)",
   "language": "python",
   "name": "python3"
  },
  "language_info": {
   "codemirror_mode": {
    "name": "ipython",
    "version": 3
   },
   "file_extension": ".py",
   "mimetype": "text/x-python",
   "name": "python",
   "nbconvert_exporter": "python",
   "pygments_lexer": "ipython3",
   "version": "3.7.9"
  }
 },
 "nbformat": 4,
 "nbformat_minor": 5
}
